{
 "cells": [
  {
   "cell_type": "markdown",
   "id": "f8b81a8b",
   "metadata": {},
   "source": [
    "<hr>\n",
    "<h3>Rango de una matriz</h3>\n",
    "\n",
    "\n",
    "El rango de una matriz es el número máximo de columnas (filas respectivamente) que son linealmente independientes. El rango fila y el rango columna siempre son iguales: este número es llamado simplemente rango de A. Comúnmente se expresa como $rg(A)$. En Python nos apoyaremos de la sublibrería <code>linalg</code> de <code>numpy</code> y de la función <code>matrix_rank</code> para poder conocer el rango de una matriz.\n",
    "\n",
    "<h4>Dependencia Lineal</h4>\n",
    "\n",
    "Se dice que un conjunto de  $n$  vectores son linealmente dependientes si existen escalares  $\\alpha_{i}$  no todos cero, tales que:\n",
    "\n",
    "$$\\alpha_1\\vec{x_1} +  \\alpha_2\\vec{x_2} + \\cdots + \\alpha_n\\vec{x_n} = 0$$\n",
    "\n",
    "tomemos por ejemplo los renglones de la matriz $A$:\n",
    "\n",
    "$$A_3 = \n",
    "\\begin{bmatrix}\n",
    "1 & 2 & 3\\\\\n",
    "4 & 5 & 6\\\\\n",
    "7 & 8 & 9\\\\\n",
    "\\end{bmatrix}\n",
    "$$\n",
    "\n",
    "Si tomamos $\\alpha_1 = 1$, $\\alpha_2 = -2$ y $\\alpha_3 = 1$ vemos que se cumple que:\n",
    "\n",
    "$$\n",
    "\\begin{bmatrix}\n",
    "1\\\\\n",
    "2\\\\\n",
    "3\\\\\n",
    "\\end{bmatrix}\n",
    "-\n",
    "2\n",
    "\\begin{bmatrix}\n",
    "4\\\\\n",
    "5\\\\\n",
    "6\\\\\n",
    "\\end{bmatrix}\n",
    "+\n",
    "\\begin{bmatrix}\n",
    "7\\\\\n",
    "8\\\\\n",
    "9\\\\\n",
    "\\end{bmatrix}\n",
    "= 0\n",
    "$$\n",
    " \n",
    "\n",
    "El rango de una matriz nos puede ayudar a saber si un sistema de ecuaciones tiene solución, utilizando el siguiente teorema:\n",
    "\n",
    "- Un sistema de m ecuaciones con n incógnitas $AX = B$ tiene solución si y solo si $rg(A) = rg(A|B) = r$, y en este caso si $r = n$, entonces el sistema tiene una única solución, y si $r < n$ el sistema tiene infinitas soluciones."
   ]
  },
  {
   "cell_type": "code",
   "execution_count": 1,
   "id": "714572fb",
   "metadata": {},
   "outputs": [],
   "source": [
    "import numpy as np\n",
    "from sympy import *\n",
    "import matplotlib.pyplot as plt"
   ]
  },
  {
   "cell_type": "code",
   "execution_count": 2,
   "id": "c5f14383",
   "metadata": {},
   "outputs": [],
   "source": [
    "a = np.array([[1, 2, 3], [4, 5, 6], [7, 8, 9]])"
   ]
  },
  {
   "cell_type": "code",
   "execution_count": 3,
   "id": "4a0cf740",
   "metadata": {},
   "outputs": [
    {
     "data": {
      "text/plain": [
       "array([[1, 2, 3],\n",
       "       [4, 5, 6],\n",
       "       [7, 8, 9]])"
      ]
     },
     "execution_count": 3,
     "metadata": {},
     "output_type": "execute_result"
    }
   ],
   "source": [
    "a"
   ]
  },
  {
   "cell_type": "code",
   "execution_count": 4,
   "id": "5945205c",
   "metadata": {},
   "outputs": [
    {
     "data": {
      "text/plain": [
       "2"
      ]
     },
     "execution_count": 4,
     "metadata": {},
     "output_type": "execute_result"
    }
   ],
   "source": [
    "np.linalg.matrix_rank(a)"
   ]
  },
  {
   "cell_type": "code",
   "execution_count": 5,
   "id": "393e7eb2",
   "metadata": {},
   "outputs": [],
   "source": [
    "A = Matrix(a)"
   ]
  },
  {
   "cell_type": "code",
   "execution_count": 6,
   "id": "8e1ce16b",
   "metadata": {},
   "outputs": [
    {
     "data": {
      "text/latex": [
       "$\\displaystyle \\left[\\begin{matrix}1 & 2 & 3\\\\4 & 5 & 6\\\\7 & 8 & 9\\end{matrix}\\right]$"
      ],
      "text/plain": [
       "Matrix([\n",
       "[1, 2, 3],\n",
       "[4, 5, 6],\n",
       "[7, 8, 9]])"
      ]
     },
     "execution_count": 6,
     "metadata": {},
     "output_type": "execute_result"
    }
   ],
   "source": [
    "A"
   ]
  },
  {
   "cell_type": "code",
   "execution_count": 7,
   "id": "b0515bb9",
   "metadata": {},
   "outputs": [
    {
     "data": {
      "text/plain": [
       "2"
      ]
     },
     "execution_count": 7,
     "metadata": {},
     "output_type": "execute_result"
    }
   ],
   "source": [
    "A.rank()"
   ]
  },
  {
   "cell_type": "code",
   "execution_count": 8,
   "id": "50bb7129",
   "metadata": {},
   "outputs": [
    {
     "data": {
      "text/plain": [
       "['C',\n",
       " 'D',\n",
       " 'H',\n",
       " 'LDLdecomposition',\n",
       " 'LDLsolve',\n",
       " 'LUdecomposition',\n",
       " 'LUdecompositionFF',\n",
       " 'LUdecomposition_Simple',\n",
       " 'LUsolve',\n",
       " 'QRdecomposition',\n",
       " 'QRsolve',\n",
       " 'T',\n",
       " '__abs__',\n",
       " '__add__',\n",
       " '__annotations__',\n",
       " '__array__',\n",
       " '__array_priority__',\n",
       " '__class__',\n",
       " '__delattr__',\n",
       " '__dict__',\n",
       " '__dir__',\n",
       " '__doc__',\n",
       " '__eq__',\n",
       " '__format__',\n",
       " '__ge__',\n",
       " '__getattribute__',\n",
       " '__getitem__',\n",
       " '__gt__',\n",
       " '__hash__',\n",
       " '__init__',\n",
       " '__init_subclass__',\n",
       " '__le__',\n",
       " '__len__',\n",
       " '__lt__',\n",
       " '__matmul__',\n",
       " '__mod__',\n",
       " '__module__',\n",
       " '__mul__',\n",
       " '__ne__',\n",
       " '__neg__',\n",
       " '__new__',\n",
       " '__pow__',\n",
       " '__radd__',\n",
       " '__reduce__',\n",
       " '__reduce_ex__',\n",
       " '__repr__',\n",
       " '__rmatmul__',\n",
       " '__rmul__',\n",
       " '__rsub__',\n",
       " '__setattr__',\n",
       " '__setitem__',\n",
       " '__sizeof__',\n",
       " '__slots__',\n",
       " '__str__',\n",
       " '__sub__',\n",
       " '__subclasshook__',\n",
       " '__truediv__',\n",
       " '__weakref__',\n",
       " '_class_priority',\n",
       " '_diff_wrt',\n",
       " '_dod_to_DomainMatrix',\n",
       " '_eval_Abs',\n",
       " '_eval_Mod',\n",
       " '_eval_add',\n",
       " '_eval_adjoint',\n",
       " '_eval_applyfunc',\n",
       " '_eval_as_real_imag',\n",
       " '_eval_atoms',\n",
       " '_eval_col_del',\n",
       " '_eval_col_insert',\n",
       " '_eval_col_join',\n",
       " '_eval_col_op_add_multiple_to_other_col',\n",
       " '_eval_col_op_multiply_col_by_const',\n",
       " '_eval_col_op_swap',\n",
       " '_eval_conjugate',\n",
       " '_eval_derivative',\n",
       " '_eval_det_bareiss',\n",
       " '_eval_det_berkowitz',\n",
       " '_eval_det_lu',\n",
       " '_eval_determinant',\n",
       " '_eval_diag',\n",
       " '_eval_extract',\n",
       " '_eval_eye',\n",
       " '_eval_free_symbols',\n",
       " '_eval_get_diag_blocks',\n",
       " '_eval_has',\n",
       " '_eval_inverse',\n",
       " '_eval_is_Identity',\n",
       " '_eval_is_anti_symmetric',\n",
       " '_eval_is_diagonal',\n",
       " '_eval_is_lower',\n",
       " '_eval_is_lower_hessenberg',\n",
       " '_eval_is_matrix_hermitian',\n",
       " '_eval_is_symbolic',\n",
       " '_eval_is_symmetric',\n",
       " '_eval_is_upper_hessenberg',\n",
       " '_eval_is_zero_matrix',\n",
       " '_eval_jordan_block',\n",
       " '_eval_matrix_exp_jblock',\n",
       " '_eval_matrix_log_jblock',\n",
       " '_eval_matrix_mul',\n",
       " '_eval_matrix_mul_elementwise',\n",
       " '_eval_matrix_rmul',\n",
       " '_eval_ones',\n",
       " '_eval_permute_cols',\n",
       " '_eval_permute_rows',\n",
       " '_eval_pow_by_cayley',\n",
       " '_eval_pow_by_recursion',\n",
       " '_eval_pow_by_recursion_dotprodsimp',\n",
       " '_eval_row_del',\n",
       " '_eval_row_insert',\n",
       " '_eval_row_join',\n",
       " '_eval_row_op_add_multiple_to_other_row',\n",
       " '_eval_row_op_multiply_row_by_const',\n",
       " '_eval_row_op_swap',\n",
       " '_eval_scalar_mul',\n",
       " '_eval_scalar_rmul',\n",
       " '_eval_simplify',\n",
       " '_eval_todok',\n",
       " '_eval_tolist',\n",
       " '_eval_trace',\n",
       " '_eval_transpose',\n",
       " '_eval_trigsimp',\n",
       " '_eval_values',\n",
       " '_eval_vec',\n",
       " '_eval_vech',\n",
       " '_eval_wilkinson',\n",
       " '_eval_zeros',\n",
       " '_flat_list_to_DomainMatrix',\n",
       " '_format_str',\n",
       " '_fromrep',\n",
       " '_handle_creation_inputs',\n",
       " '_handle_ndarray',\n",
       " '_has_nonnegative_diagonals',\n",
       " '_has_positive_diagonals',\n",
       " '_legacy_array_dot',\n",
       " '_mat',\n",
       " '_matrix_pow_by_jordan_blocks',\n",
       " '_new',\n",
       " '_normalize_op_args',\n",
       " '_op_priority',\n",
       " '_rep',\n",
       " '_repr_disabled',\n",
       " '_repr_latex_',\n",
       " '_repr_png_',\n",
       " '_repr_svg_',\n",
       " '_sage_',\n",
       " '_setitem',\n",
       " '_simplify',\n",
       " '_smat_to_DomainMatrix',\n",
       " '_sympify',\n",
       " '_unify_element_sympy',\n",
       " 'add',\n",
       " 'adjoint',\n",
       " 'adjugate',\n",
       " 'analytic_func',\n",
       " 'applyfunc',\n",
       " 'as_immutable',\n",
       " 'as_mutable',\n",
       " 'as_real_imag',\n",
       " 'atoms',\n",
       " 'berkowitz',\n",
       " 'berkowitz_charpoly',\n",
       " 'berkowitz_det',\n",
       " 'berkowitz_eigenvals',\n",
       " 'berkowitz_minors',\n",
       " 'bidiagonal_decomposition',\n",
       " 'bidiagonalize',\n",
       " 'charpoly',\n",
       " 'cholesky',\n",
       " 'cholesky_solve',\n",
       " 'cofactor',\n",
       " 'cofactorMatrix',\n",
       " 'cofactor_matrix',\n",
       " 'col',\n",
       " 'col_del',\n",
       " 'col_insert',\n",
       " 'col_join',\n",
       " 'col_op',\n",
       " 'col_swap',\n",
       " 'cols',\n",
       " 'columnspace',\n",
       " 'companion',\n",
       " 'condition_number',\n",
       " 'conjugate',\n",
       " 'connected_components',\n",
       " 'connected_components_decomposition',\n",
       " 'copy',\n",
       " 'copyin_list',\n",
       " 'copyin_matrix',\n",
       " 'cross',\n",
       " 'det',\n",
       " 'det_LU_decomposition',\n",
       " 'det_bareis',\n",
       " 'diag',\n",
       " 'diagonal',\n",
       " 'diagonal_solve',\n",
       " 'diagonalize',\n",
       " 'diff',\n",
       " 'doit',\n",
       " 'dot',\n",
       " 'dual',\n",
       " 'echelon_form',\n",
       " 'eigenvals',\n",
       " 'eigenvects',\n",
       " 'elementary_col_op',\n",
       " 'elementary_row_op',\n",
       " 'equals',\n",
       " 'evalf',\n",
       " 'exp',\n",
       " 'expand',\n",
       " 'extract',\n",
       " 'eye',\n",
       " 'fill',\n",
       " 'flat',\n",
       " 'free_symbols',\n",
       " 'gauss_jordan_solve',\n",
       " 'get_diag_blocks',\n",
       " 'has',\n",
       " 'hstack',\n",
       " 'integrate',\n",
       " 'inv',\n",
       " 'inv_mod',\n",
       " 'inverse_ADJ',\n",
       " 'inverse_BLOCK',\n",
       " 'inverse_CH',\n",
       " 'inverse_GE',\n",
       " 'inverse_LDL',\n",
       " 'inverse_LU',\n",
       " 'inverse_QR',\n",
       " 'irregular',\n",
       " 'is_Identity',\n",
       " 'is_Matrix',\n",
       " 'is_MatrixExpr',\n",
       " 'is_anti_symmetric',\n",
       " 'is_diagonal',\n",
       " 'is_diagonalizable',\n",
       " 'is_echelon',\n",
       " 'is_hermitian',\n",
       " 'is_indefinite',\n",
       " 'is_lower',\n",
       " 'is_lower_hessenberg',\n",
       " 'is_negative_definite',\n",
       " 'is_negative_semidefinite',\n",
       " 'is_nilpotent',\n",
       " 'is_positive_definite',\n",
       " 'is_positive_semidefinite',\n",
       " 'is_square',\n",
       " 'is_strongly_diagonally_dominant',\n",
       " 'is_symbolic',\n",
       " 'is_symmetric',\n",
       " 'is_upper',\n",
       " 'is_upper_hessenberg',\n",
       " 'is_weakly_diagonally_dominant',\n",
       " 'is_zero',\n",
       " 'is_zero_matrix',\n",
       " 'jacobian',\n",
       " 'jordan_block',\n",
       " 'jordan_cell',\n",
       " 'jordan_cells',\n",
       " 'jordan_form',\n",
       " 'key2bounds',\n",
       " 'key2ij',\n",
       " 'kind',\n",
       " 'left_eigenvects',\n",
       " 'limit',\n",
       " 'log',\n",
       " 'lower_triangular',\n",
       " 'lower_triangular_solve',\n",
       " 'minor',\n",
       " 'minorEntry',\n",
       " 'minorMatrix',\n",
       " 'minor_submatrix',\n",
       " 'multiply',\n",
       " 'multiply_elementwise',\n",
       " 'n',\n",
       " 'norm',\n",
       " 'normalized',\n",
       " 'nullspace',\n",
       " 'one',\n",
       " 'ones',\n",
       " 'orthogonalize',\n",
       " 'per',\n",
       " 'permute',\n",
       " 'permuteBkwd',\n",
       " 'permuteFwd',\n",
       " 'permute_cols',\n",
       " 'permute_rows',\n",
       " 'pinv',\n",
       " 'pinv_solve',\n",
       " 'pow',\n",
       " 'print_nonzero',\n",
       " 'project',\n",
       " 'rank',\n",
       " 'rank_decomposition',\n",
       " 'refine',\n",
       " 'replace',\n",
       " 'reshape',\n",
       " 'rmultiply',\n",
       " 'rot90',\n",
       " 'row',\n",
       " 'row_del',\n",
       " 'row_insert',\n",
       " 'row_join',\n",
       " 'row_op',\n",
       " 'row_swap',\n",
       " 'rows',\n",
       " 'rowspace',\n",
       " 'rref',\n",
       " 'shape',\n",
       " 'simplify',\n",
       " 'singular_value_decomposition',\n",
       " 'singular_values',\n",
       " 'solve',\n",
       " 'solve_least_squares',\n",
       " 'strongly_connected_components',\n",
       " 'strongly_connected_components_decomposition',\n",
       " 'subs',\n",
       " 'table',\n",
       " 'todod',\n",
       " 'todok',\n",
       " 'tolist',\n",
       " 'trace',\n",
       " 'transpose',\n",
       " 'upper_hessenberg_decomposition',\n",
       " 'upper_triangular',\n",
       " 'upper_triangular_solve',\n",
       " 'values',\n",
       " 'vec',\n",
       " 'vech',\n",
       " 'vstack',\n",
       " 'wilkinson',\n",
       " 'xreplace',\n",
       " 'zero',\n",
       " 'zeros',\n",
       " 'zip_row_op']"
      ]
     },
     "execution_count": 8,
     "metadata": {},
     "output_type": "execute_result"
    }
   ],
   "source": [
    "dir(A)"
   ]
  },
  {
   "cell_type": "code",
   "execution_count": 9,
   "id": "dc15674a",
   "metadata": {},
   "outputs": [
    {
     "name": "stdout",
     "output_type": "stream",
     "text": [
      "Help on method adjugate in module sympy.matrices.matrices:\n",
      "\n",
      "adjugate(method='berkowitz') method of sympy.matrices.dense.MutableDenseMatrix instance\n",
      "    Returns the adjugate, or classical adjoint, of\n",
      "    a matrix.  That is, the transpose of the matrix of cofactors.\n",
      "    \n",
      "    https://en.wikipedia.org/wiki/Adjugate\n",
      "    \n",
      "    Parameters\n",
      "    ==========\n",
      "    \n",
      "    method : string, optional\n",
      "        Method to use to find the cofactors, can be \"bareiss\", \"berkowitz\" or\n",
      "        \"lu\".\n",
      "    \n",
      "    Examples\n",
      "    ========\n",
      "    \n",
      "    >>> from sympy import Matrix\n",
      "    >>> M = Matrix([[1, 2], [3, 4]])\n",
      "    >>> M.adjugate()\n",
      "    Matrix([\n",
      "    [ 4, -2],\n",
      "    [-3,  1]])\n",
      "    \n",
      "    See Also\n",
      "    ========\n",
      "    \n",
      "    cofactor_matrix\n",
      "    sympy.matrices.common.MatrixCommon.transpose\n",
      "\n"
     ]
    }
   ],
   "source": [
    "help(A.adjugate)"
   ]
  },
  {
   "cell_type": "markdown",
   "id": "d984a26b",
   "metadata": {},
   "source": [
    "<h2>Sistemas de ecuaciones</h2>\n",
    "\n",
    "Otra aplicación que le podemos dar a las matrices y a sus determinantes es al resolver sistemas de ecuaciones, los sistemas de ecuaciones los podremos clasificar en 3 tipos según si estos tienen una (determinados), infinitas (indeterminados), o ninguna (incompatibles) tomemos como ejemplo el siguiente sistema:\n",
    "\n",
    "$$\n",
    "\\begin{eqnarray}\n",
    "3x + 2y + z  = 1 \\\\\n",
    "5x + 3y + 4z = 2 \\\\\n",
    "x + y - z = 1\n",
    "\\nonumber\n",
    "\\end{eqnarray}\n",
    "$$\n",
    "\n",
    "\n",
    "Dicho sistema lo podremos expresar de forma matricial de la siguiente forma:\n",
    "\n",
    "$$\n",
    "\\begin{bmatrix}\n",
    "3 & 2 & 1 \\\\\n",
    "5 & 3 & 4 \\\\\n",
    "1 & 1 & -1 \\\\\n",
    "\\end{bmatrix}\n",
    "\\begin{bmatrix}\n",
    "x\\\\\n",
    "y\\\\\n",
    "z\\\\\n",
    "\\end{bmatrix}\n",
    "= \n",
    "\\begin{bmatrix}\n",
    "1\\\\\n",
    "2\\\\\n",
    "1\\\\\n",
    "\\end{bmatrix}\n",
    "$$\n",
    "\n",
    "$$A X = B$$\n",
    "\n",
    "\n",
    "A la matriz $A$ la llamaremos matriz del sistema, y definiremos la matriz aumentada $AB$ como la matriz que tiene las mismas columnas de $A$, más los elementos de $B$ como una columna adicional:\n",
    "\n",
    "$$\n",
    "AB =\n",
    "\\begin{bmatrix}\n",
    "3 & 2 & 1 & 1\\\\\n",
    "5 & 3 & 4 & 2 \\\\\n",
    "1 & 1 & -1 & 1 \\\\\n",
    "\\end{bmatrix}\n",
    "$$\n",
    "\n",
    "recordemos que podemos saber si un sistema tiene solución usando el siguiente teorema:\n",
    "\n",
    "- Un sistema de m ecuaciones con n incógnitas $AX = B$ tiene solución si y solo si $rg(A) = rg(A|B) = r$, y en este caso si $r = n$, entonces el sistema tiene una única solución, y si $r < n$ el sistema tiene infinitas soluciones.\n",
    "\n",
    "\n",
    "\n",
    "\n",
    "\n",
    "\n"
   ]
  },
  {
   "cell_type": "code",
   "execution_count": 27,
   "id": "469965c1",
   "metadata": {},
   "outputs": [],
   "source": [
    "a = np.array([[3, 2, 1], [5, 3, 4], [1, 1, -1]])"
   ]
  },
  {
   "cell_type": "code",
   "execution_count": 10,
   "id": "2e32a766",
   "metadata": {},
   "outputs": [],
   "source": [
    "A = Matrix([[3, 2, 1], [5, 3, 4], [1, 1, -1]])"
   ]
  },
  {
   "cell_type": "code",
   "execution_count": 11,
   "id": "dbb90aaf",
   "metadata": {},
   "outputs": [
    {
     "data": {
      "text/latex": [
       "$\\displaystyle \\left[\\begin{matrix}3 & 2 & 1\\\\5 & 3 & 4\\\\1 & 1 & -1\\end{matrix}\\right]$"
      ],
      "text/plain": [
       "Matrix([\n",
       "[3, 2,  1],\n",
       "[5, 3,  4],\n",
       "[1, 1, -1]])"
      ]
     },
     "execution_count": 11,
     "metadata": {},
     "output_type": "execute_result"
    }
   ],
   "source": [
    "A"
   ]
  },
  {
   "cell_type": "code",
   "execution_count": 15,
   "id": "a6210161",
   "metadata": {},
   "outputs": [],
   "source": [
    "x, y, z = symbols('x, y, z')\n",
    "X = Matrix([x, y, z])"
   ]
  },
  {
   "cell_type": "code",
   "execution_count": 16,
   "id": "3dc24270",
   "metadata": {},
   "outputs": [
    {
     "data": {
      "text/latex": [
       "$\\displaystyle \\left[\\begin{matrix}x\\\\y\\\\z\\end{matrix}\\right]$"
      ],
      "text/plain": [
       "Matrix([\n",
       "[x],\n",
       "[y],\n",
       "[z]])"
      ]
     },
     "execution_count": 16,
     "metadata": {},
     "output_type": "execute_result"
    }
   ],
   "source": [
    "X"
   ]
  },
  {
   "cell_type": "code",
   "execution_count": 17,
   "id": "a395e759",
   "metadata": {},
   "outputs": [
    {
     "data": {
      "text/latex": [
       "$\\displaystyle \\left[\\begin{matrix}3 x + 2 y + z\\\\5 x + 3 y + 4 z\\\\x + y - z\\end{matrix}\\right]$"
      ],
      "text/plain": [
       "Matrix([\n",
       "[  3*x + 2*y + z],\n",
       "[5*x + 3*y + 4*z],\n",
       "[      x + y - z]])"
      ]
     },
     "execution_count": 17,
     "metadata": {},
     "output_type": "execute_result"
    }
   ],
   "source": [
    "A * X"
   ]
  },
  {
   "cell_type": "code",
   "execution_count": 28,
   "id": "fc08a9f2",
   "metadata": {},
   "outputs": [
    {
     "data": {
      "text/plain": [
       "array([[ 3,  2,  1],\n",
       "       [ 5,  3,  4],\n",
       "       [ 1,  1, -1]])"
      ]
     },
     "execution_count": 28,
     "metadata": {},
     "output_type": "execute_result"
    }
   ],
   "source": [
    "a"
   ]
  },
  {
   "cell_type": "code",
   "execution_count": 39,
   "id": "3bd351d5",
   "metadata": {},
   "outputs": [],
   "source": [
    "b = np.array([1, 2.0, 1])"
   ]
  },
  {
   "cell_type": "code",
   "execution_count": 40,
   "id": "d4063584",
   "metadata": {},
   "outputs": [
    {
     "data": {
      "text/plain": [
       "array([1., 2., 1.])"
      ]
     },
     "execution_count": 40,
     "metadata": {},
     "output_type": "execute_result"
    }
   ],
   "source": [
    "b"
   ]
  },
  {
   "cell_type": "code",
   "execution_count": 61,
   "id": "d5a7b505",
   "metadata": {},
   "outputs": [],
   "source": [
    "ab = np.column_stack([a, b])"
   ]
  },
  {
   "cell_type": "code",
   "execution_count": 62,
   "id": "4617f726",
   "metadata": {},
   "outputs": [
    {
     "data": {
      "text/plain": [
       "array([[ 3.,  2.,  1.,  1.],\n",
       "       [ 5.,  3.,  4.,  2.],\n",
       "       [ 1.,  1., -1.,  1.]])"
      ]
     },
     "execution_count": 62,
     "metadata": {},
     "output_type": "execute_result"
    }
   ],
   "source": [
    "ab"
   ]
  },
  {
   "cell_type": "code",
   "execution_count": 63,
   "id": "5857af45",
   "metadata": {},
   "outputs": [
    {
     "data": {
      "text/latex": [
       "$\\displaystyle \\left[\\begin{matrix}3.0 & 2.0 & 1.0 & 1.0\\\\5.0 & 3.0 & 4.0 & 2.0\\\\1.0 & 1.0 & -1.0 & 1.0\\end{matrix}\\right]$"
      ],
      "text/plain": [
       "Matrix([\n",
       "[3.0, 2.0,  1.0, 1.0],\n",
       "[5.0, 3.0,  4.0, 2.0],\n",
       "[1.0, 1.0, -1.0, 1.0]])"
      ]
     },
     "execution_count": 63,
     "metadata": {},
     "output_type": "execute_result"
    }
   ],
   "source": [
    "Matrix(ab)"
   ]
  },
  {
   "cell_type": "code",
   "execution_count": 64,
   "id": "afb9c169",
   "metadata": {},
   "outputs": [
    {
     "data": {
      "text/plain": [
       "3"
      ]
     },
     "execution_count": 64,
     "metadata": {},
     "output_type": "execute_result"
    }
   ],
   "source": [
    "np.linalg.matrix_rank(a)"
   ]
  },
  {
   "cell_type": "code",
   "execution_count": 65,
   "id": "8eed9a31",
   "metadata": {},
   "outputs": [
    {
     "data": {
      "text/plain": [
       "3"
      ]
     },
     "execution_count": 65,
     "metadata": {},
     "output_type": "execute_result"
    }
   ],
   "source": [
    "np.linalg.matrix_rank(ab)"
   ]
  },
  {
   "cell_type": "code",
   "execution_count": 76,
   "id": "c9ce6ede",
   "metadata": {},
   "outputs": [
    {
     "data": {
      "text/plain": [
       "(3, 3)"
      ]
     },
     "execution_count": 76,
     "metadata": {},
     "output_type": "execute_result"
    }
   ],
   "source": [
    "A.shape"
   ]
  },
  {
   "cell_type": "code",
   "execution_count": 69,
   "id": "22e5047b",
   "metadata": {},
   "outputs": [
    {
     "data": {
      "text/plain": [
       "(3, 3)"
      ]
     },
     "execution_count": 69,
     "metadata": {},
     "output_type": "execute_result"
    }
   ],
   "source": [
    "a.shape"
   ]
  },
  {
   "cell_type": "code",
   "execution_count": 70,
   "id": "3e3197bf",
   "metadata": {},
   "outputs": [],
   "source": [
    "import pandas as pd"
   ]
  },
  {
   "cell_type": "code",
   "execution_count": 72,
   "id": "fa9ed29a",
   "metadata": {},
   "outputs": [],
   "source": [
    "df = pd.DataFrame(a)"
   ]
  },
  {
   "cell_type": "code",
   "execution_count": 74,
   "id": "808d5b0c",
   "metadata": {},
   "outputs": [
    {
     "data": {
      "text/plain": [
       "(3, 3)"
      ]
     },
     "execution_count": 74,
     "metadata": {},
     "output_type": "execute_result"
    }
   ],
   "source": [
    "df.shape"
   ]
  },
  {
   "cell_type": "code",
   "execution_count": 77,
   "id": "a92ff26e",
   "metadata": {},
   "outputs": [
    {
     "data": {
      "text/plain": [
       "3"
      ]
     },
     "execution_count": 77,
     "metadata": {},
     "output_type": "execute_result"
    }
   ],
   "source": [
    "np.linalg.matrix_rank(a) "
   ]
  },
  {
   "cell_type": "code",
   "execution_count": 79,
   "id": "a3439c6f",
   "metadata": {},
   "outputs": [
    {
     "data": {
      "text/plain": [
       "3"
      ]
     },
     "execution_count": 79,
     "metadata": {},
     "output_type": "execute_result"
    }
   ],
   "source": [
    "a.shape[1]"
   ]
  },
  {
   "cell_type": "markdown",
   "id": "2dd91b4e",
   "metadata": {},
   "source": [
    "¿Mutable o Inmutable?\n",
    "\n",
    "- Mutables:\n",
    "    - Listas\n",
    "    - Arrays (Numpy)\n",
    "    - Diccionarios\n",
    "    - DataFrames (Pandas)\n",
    "    - Mutables\n",
    "\n",
    "- Inmutables:\n",
    "    - Tuplas\n",
    "    - Int\n",
    "    - Float\n",
    "    - Cadenas"
   ]
  },
  {
   "cell_type": "code",
   "execution_count": 81,
   "id": "758e87c4",
   "metadata": {},
   "outputs": [],
   "source": [
    "array = b.copy()"
   ]
  },
  {
   "cell_type": "code",
   "execution_count": 84,
   "id": "bae4d4c7",
   "metadata": {},
   "outputs": [],
   "source": [
    "array[0] = 5"
   ]
  },
  {
   "cell_type": "code",
   "execution_count": 85,
   "id": "6e638a72",
   "metadata": {},
   "outputs": [
    {
     "data": {
      "text/plain": [
       "array([5., 2., 1.])"
      ]
     },
     "execution_count": 85,
     "metadata": {},
     "output_type": "execute_result"
    }
   ],
   "source": [
    "array"
   ]
  },
  {
   "cell_type": "code",
   "execution_count": 86,
   "id": "9158ad7a",
   "metadata": {},
   "outputs": [
    {
     "data": {
      "text/plain": [
       "array([1., 2., 1.])"
      ]
     },
     "execution_count": 86,
     "metadata": {},
     "output_type": "execute_result"
    }
   ],
   "source": [
    "b"
   ]
  },
  {
   "cell_type": "code",
   "execution_count": 87,
   "id": "43a61fdd",
   "metadata": {},
   "outputs": [],
   "source": [
    "t = (1, 2, 3)"
   ]
  },
  {
   "cell_type": "code",
   "execution_count": 88,
   "id": "bbd6495f",
   "metadata": {},
   "outputs": [
    {
     "data": {
      "text/plain": [
       "(1, 2, 3)"
      ]
     },
     "execution_count": 88,
     "metadata": {},
     "output_type": "execute_result"
    }
   ],
   "source": [
    "t"
   ]
  },
  {
   "cell_type": "code",
   "execution_count": 90,
   "id": "03269daf",
   "metadata": {},
   "outputs": [
    {
     "ename": "TypeError",
     "evalue": "'tuple' object does not support item assignment",
     "output_type": "error",
     "traceback": [
      "\u001b[1;31m---------------------------------------------------------------------------\u001b[0m",
      "\u001b[1;31mTypeError\u001b[0m                                 Traceback (most recent call last)",
      "Cell \u001b[1;32mIn[90], line 1\u001b[0m\n\u001b[1;32m----> 1\u001b[0m t[\u001b[38;5;241m0\u001b[39m] \u001b[38;5;241m=\u001b[39m \u001b[38;5;241m2\u001b[39m\n",
      "\u001b[1;31mTypeError\u001b[0m: 'tuple' object does not support item assignment"
     ]
    }
   ],
   "source": [
    "t[0] = 2"
   ]
  },
  {
   "cell_type": "code",
   "execution_count": 91,
   "id": "816f2d06",
   "metadata": {},
   "outputs": [],
   "source": [
    "s = {1, 2, 3}"
   ]
  },
  {
   "cell_type": "code",
   "execution_count": 92,
   "id": "172b1b2a",
   "metadata": {},
   "outputs": [
    {
     "data": {
      "text/plain": [
       "{1, 2, 3}"
      ]
     },
     "execution_count": 92,
     "metadata": {},
     "output_type": "execute_result"
    }
   ],
   "source": [
    "s"
   ]
  },
  {
   "cell_type": "code",
   "execution_count": 93,
   "id": "e5b2c9c5",
   "metadata": {},
   "outputs": [
    {
     "data": {
      "text/plain": [
       "set"
      ]
     },
     "execution_count": 93,
     "metadata": {},
     "output_type": "execute_result"
    }
   ],
   "source": [
    "type(s)"
   ]
  },
  {
   "cell_type": "code",
   "execution_count": 94,
   "id": "7f8dd97a",
   "metadata": {},
   "outputs": [
    {
     "data": {
      "text/plain": [
       "['__and__',\n",
       " '__class__',\n",
       " '__class_getitem__',\n",
       " '__contains__',\n",
       " '__delattr__',\n",
       " '__dir__',\n",
       " '__doc__',\n",
       " '__eq__',\n",
       " '__format__',\n",
       " '__ge__',\n",
       " '__getattribute__',\n",
       " '__gt__',\n",
       " '__hash__',\n",
       " '__iand__',\n",
       " '__init__',\n",
       " '__init_subclass__',\n",
       " '__ior__',\n",
       " '__isub__',\n",
       " '__iter__',\n",
       " '__ixor__',\n",
       " '__le__',\n",
       " '__len__',\n",
       " '__lt__',\n",
       " '__ne__',\n",
       " '__new__',\n",
       " '__or__',\n",
       " '__rand__',\n",
       " '__reduce__',\n",
       " '__reduce_ex__',\n",
       " '__repr__',\n",
       " '__ror__',\n",
       " '__rsub__',\n",
       " '__rxor__',\n",
       " '__setattr__',\n",
       " '__sizeof__',\n",
       " '__str__',\n",
       " '__sub__',\n",
       " '__subclasshook__',\n",
       " '__xor__',\n",
       " 'add',\n",
       " 'clear',\n",
       " 'copy',\n",
       " 'difference',\n",
       " 'difference_update',\n",
       " 'discard',\n",
       " 'intersection',\n",
       " 'intersection_update',\n",
       " 'isdisjoint',\n",
       " 'issubset',\n",
       " 'issuperset',\n",
       " 'pop',\n",
       " 'remove',\n",
       " 'symmetric_difference',\n",
       " 'symmetric_difference_update',\n",
       " 'union',\n",
       " 'update']"
      ]
     },
     "execution_count": 94,
     "metadata": {},
     "output_type": "execute_result"
    }
   ],
   "source": [
    "dir(s)"
   ]
  },
  {
   "cell_type": "code",
   "execution_count": 96,
   "id": "40a43fd2",
   "metadata": {},
   "outputs": [],
   "source": [
    "s.clear()"
   ]
  },
  {
   "cell_type": "code",
   "execution_count": 97,
   "id": "76b5c651",
   "metadata": {},
   "outputs": [
    {
     "data": {
      "text/plain": [
       "set()"
      ]
     },
     "execution_count": 97,
     "metadata": {},
     "output_type": "execute_result"
    }
   ],
   "source": [
    "s"
   ]
  },
  {
   "cell_type": "code",
   "execution_count": 98,
   "id": "fd26d64f",
   "metadata": {},
   "outputs": [],
   "source": [
    "s = \"Dani\""
   ]
  },
  {
   "cell_type": "code",
   "execution_count": 101,
   "id": "29b9b88b",
   "metadata": {},
   "outputs": [
    {
     "ename": "TypeError",
     "evalue": "'str' object does not support item assignment",
     "output_type": "error",
     "traceback": [
      "\u001b[1;31m---------------------------------------------------------------------------\u001b[0m",
      "\u001b[1;31mTypeError\u001b[0m                                 Traceback (most recent call last)",
      "Cell \u001b[1;32mIn[101], line 1\u001b[0m\n\u001b[1;32m----> 1\u001b[0m s[\u001b[38;5;241m0\u001b[39m] \u001b[38;5;241m=\u001b[39m \u001b[38;5;124m'\u001b[39m\u001b[38;5;124md\u001b[39m\u001b[38;5;124m'\u001b[39m\n",
      "\u001b[1;31mTypeError\u001b[0m: 'str' object does not support item assignment"
     ]
    }
   ],
   "source": [
    "s[0] = 'd'"
   ]
  },
  {
   "cell_type": "code",
   "execution_count": 102,
   "id": "8f2c9693",
   "metadata": {},
   "outputs": [
    {
     "data": {
      "text/plain": [
       "'DANI'"
      ]
     },
     "execution_count": 102,
     "metadata": {},
     "output_type": "execute_result"
    }
   ],
   "source": [
    "s.upper()"
   ]
  },
  {
   "cell_type": "code",
   "execution_count": 103,
   "id": "13fd733b",
   "metadata": {},
   "outputs": [
    {
     "data": {
      "text/plain": [
       "'Dani'"
      ]
     },
     "execution_count": 103,
     "metadata": {},
     "output_type": "execute_result"
    }
   ],
   "source": [
    "s"
   ]
  },
  {
   "cell_type": "code",
   "execution_count": 119,
   "id": "fd3bc2c8",
   "metadata": {},
   "outputs": [],
   "source": [
    "def verificador_solucion(A: \"Numpy Array\", B: \"Numpy Array\"):\n",
    "    \"\"\"\n",
    "    Función que te dice si un sistema AX = B tiene solución.\n",
    "    \"\"\"\n",
    "    \n",
    "    AB = np.column_stack([A, B])\n",
    "    \n",
    "    if np.linalg.matrix_rank(A) == np.linalg.matrix_rank(AB):\n",
    "        if np.linalg.matrix_rank(A) == A.shape[1]:\n",
    "            print(\"El sistema tiene solución única.\")\n",
    "        else:\n",
    "            print(\"El sistema tiene infinitas soluciones.\")\n",
    "    else:\n",
    "        print('El sistema no tiene Solución.')"
   ]
  },
  {
   "cell_type": "code",
   "execution_count": 120,
   "id": "cbca56fc",
   "metadata": {},
   "outputs": [
    {
     "name": "stdout",
     "output_type": "stream",
     "text": [
      "Help on function verificador_solucion in module __main__:\n",
      "\n",
      "verificador_solucion(A: 'Numpy Array', B: 'Numpy Array') -> 'Numpy Array'\n",
      "    Función que te dice si un sistema AX = B tiene solución.\n",
      "\n"
     ]
    }
   ],
   "source": [
    "help(verificador_solucion)"
   ]
  },
  {
   "cell_type": "code",
   "execution_count": 121,
   "id": "7612d031",
   "metadata": {},
   "outputs": [
    {
     "name": "stdout",
     "output_type": "stream",
     "text": [
      "El sistema tiene solución única.\n"
     ]
    }
   ],
   "source": [
    "verificador_solucion(a, b)"
   ]
  },
  {
   "cell_type": "code",
   "execution_count": 106,
   "id": "91ccc56a",
   "metadata": {},
   "outputs": [
    {
     "data": {
      "text/latex": [
       "$\\displaystyle \\left[\\begin{matrix}3 & 2 & 1\\\\5 & 3 & 4\\\\1 & 1 & -1\\end{matrix}\\right]$"
      ],
      "text/plain": [
       "Matrix([\n",
       "[3, 2,  1],\n",
       "[5, 3,  4],\n",
       "[1, 1, -1]])"
      ]
     },
     "execution_count": 106,
     "metadata": {},
     "output_type": "execute_result"
    }
   ],
   "source": [
    "A"
   ]
  },
  {
   "cell_type": "code",
   "execution_count": 108,
   "id": "34424b9a",
   "metadata": {},
   "outputs": [
    {
     "data": {
      "text/plain": [
       "array([1., 2., 1.])"
      ]
     },
     "execution_count": 108,
     "metadata": {},
     "output_type": "execute_result"
    }
   ],
   "source": [
    "b"
   ]
  },
  {
   "cell_type": "code",
   "execution_count": null,
   "id": "d5ee5498",
   "metadata": {},
   "outputs": [],
   "source": []
  },
  {
   "cell_type": "markdown",
   "id": "446d1290",
   "metadata": {},
   "source": [
    "La matriz cuadrada de la expresión anterior se conoce como la matriz asociada al sistema, si el determinante de dicha matriz es distinto de 0, podemos garantizar que existe $A^{-1}$ y podemos escribir:\n",
    "\n",
    "$$ A^{-1} A X = A^{-1} B $$\n",
    "$$ I_n X = A^{-1} B$$\n",
    "$$ X = A^{-1} B $$\n",
    "\n",
    "Al realizar el producto $A^{-1} B$ obtendremos la solución al sistema\n",
    "\n",
    "En Numpy dentro de la subpaquetería _linalg_ tenemos la función _solve_ que nos ayuda a resolver sistemas de ecuaciones\n"
   ]
  },
  {
   "cell_type": "code",
   "execution_count": 122,
   "id": "91363406",
   "metadata": {},
   "outputs": [
    {
     "data": {
      "text/plain": [
       "array([[ 3,  2,  1],\n",
       "       [ 5,  3,  4],\n",
       "       [ 1,  1, -1]])"
      ]
     },
     "execution_count": 122,
     "metadata": {},
     "output_type": "execute_result"
    }
   ],
   "source": [
    "a"
   ]
  },
  {
   "cell_type": "code",
   "execution_count": 123,
   "id": "aa609be7",
   "metadata": {},
   "outputs": [
    {
     "data": {
      "text/plain": [
       "array([1., 2., 1.])"
      ]
     },
     "execution_count": 123,
     "metadata": {},
     "output_type": "execute_result"
    }
   ],
   "source": [
    "b"
   ]
  },
  {
   "cell_type": "code",
   "execution_count": 124,
   "id": "1b147d80",
   "metadata": {},
   "outputs": [
    {
     "data": {
      "text/plain": [
       "array([-4.,  6.,  1.])"
      ]
     },
     "execution_count": 124,
     "metadata": {},
     "output_type": "execute_result"
    }
   ],
   "source": [
    "np.linalg.inv(a) @ b"
   ]
  },
  {
   "cell_type": "code",
   "execution_count": 126,
   "id": "12d5e41c",
   "metadata": {},
   "outputs": [
    {
     "data": {
      "text/plain": [
       "array([-4.,  6.,  1.])"
      ]
     },
     "execution_count": 126,
     "metadata": {},
     "output_type": "execute_result"
    }
   ],
   "source": [
    "np.linalg.solve(a, b)"
   ]
  },
  {
   "cell_type": "code",
   "execution_count": 127,
   "id": "1d1c55be",
   "metadata": {},
   "outputs": [
    {
     "name": "stdout",
     "output_type": "stream",
     "text": [
      "6.64 µs ± 453 ns per loop (mean ± std. dev. of 7 runs, 100,000 loops each)\n"
     ]
    }
   ],
   "source": [
    "%timeit np.linalg.inv(a) @ b"
   ]
  },
  {
   "cell_type": "code",
   "execution_count": 128,
   "id": "7764c1ca",
   "metadata": {},
   "outputs": [
    {
     "name": "stdout",
     "output_type": "stream",
     "text": [
      "6.32 µs ± 980 ns per loop (mean ± std. dev. of 7 runs, 100,000 loops each)\n"
     ]
    }
   ],
   "source": [
    "%timeit np.linalg.solve(a, b)"
   ]
  },
  {
   "cell_type": "code",
   "execution_count": 131,
   "id": "30fbd406",
   "metadata": {},
   "outputs": [],
   "source": [
    "m = np.random.randint(1, 1_000_00, 10_000).reshape((100, 100))"
   ]
  },
  {
   "cell_type": "code",
   "execution_count": 133,
   "id": "8244fcb7",
   "metadata": {},
   "outputs": [
    {
     "data": {
      "text/plain": [
       "array([[36342, 28533, 15980, ..., 41710, 73035, 64078],\n",
       "       [ 1628, 26463, 99545, ..., 22861, 20067, 46578],\n",
       "       [11194, 72769, 17441, ..., 57119, 78499, 51760],\n",
       "       ...,\n",
       "       [84166,  6819, 96821, ..., 88683, 34262, 40115],\n",
       "       [75426, 81847, 76336, ..., 98567, 26513, 53426],\n",
       "       [46934, 81547, 18722, ..., 11694, 69936,  8125]])"
      ]
     },
     "execution_count": 133,
     "metadata": {},
     "output_type": "execute_result"
    }
   ],
   "source": [
    "m.shape"
   ]
  },
  {
   "cell_type": "code",
   "execution_count": 134,
   "id": "39ebd7c5",
   "metadata": {},
   "outputs": [],
   "source": [
    "c = np.random.randint(1, 1_000_000, 100)"
   ]
  },
  {
   "cell_type": "code",
   "execution_count": 136,
   "id": "89259e6d",
   "metadata": {},
   "outputs": [
    {
     "name": "stdout",
     "output_type": "stream",
     "text": [
      "El sistema tiene solución única.\n"
     ]
    }
   ],
   "source": [
    "verificador_solucion(m, c)"
   ]
  },
  {
   "cell_type": "code",
   "execution_count": 137,
   "id": "c095a660",
   "metadata": {},
   "outputs": [
    {
     "data": {
      "text/plain": [
       "array([ 121.61607281,   98.49406368,   85.58936044,   33.98730711,\n",
       "         66.06382602,  -89.39164412,    9.57837617,   -5.96573983,\n",
       "        -81.14155064,   34.18689202,   17.83432106,   58.53985967,\n",
       "        -71.35958984,  -48.09596121,  103.50032855,   23.89140945,\n",
       "        -19.09888339,  -60.39717066,  -62.34391676,   21.57731626,\n",
       "        -10.49411369,   30.28060706,  -41.19619353,   43.4087564 ,\n",
       "        -63.27599726,  -14.46119028,   12.59371128,   23.37040127,\n",
       "        -26.08999094,   -6.00376364,   -3.43196984,  -67.84257732,\n",
       "        -25.48413256,   15.89524059,  -69.83487229,  -18.09688915,\n",
       "        -21.20810906,   22.26005436,   45.15378728,  -36.70989897,\n",
       "       -106.86293479,  -16.79129621,   36.62067663,   32.7062425 ,\n",
       "         31.37292414,   -4.66741907,  -12.28727444,  -15.54289286,\n",
       "        106.86263748,   29.58768118,  -28.5321537 ,   11.54711181,\n",
       "         17.64562709,  -67.69434573,    3.18388305,  -36.09974839,\n",
       "          2.38321317,  -28.51336825,   36.94090004,    1.56316898,\n",
       "        -71.52008299,   94.08287878,   -5.48881723,   21.17194378,\n",
       "        -55.23041976,   -0.84568258,   21.2951356 ,  -89.50442895,\n",
       "         25.97793267,   18.06828422,   19.12654311,   41.49769842,\n",
       "        -38.18742576,  101.81216336, -126.26558198,   48.22069256,\n",
       "        -66.588755  ,   -7.84024178,   36.05618785,  -81.75285559,\n",
       "        -72.36272784,   43.49670685,  122.15538115,   -3.70884462,\n",
       "         -4.11122039,   -8.89402904,   55.90695521,  -59.15410538,\n",
       "        -12.57190101,   54.33078797,   39.11442754,  -27.80048564,\n",
       "        -26.5917394 ,  -52.28346191,    7.63457443,   33.61292211,\n",
       "         18.93076494,   55.86843057,  -41.66088014,  -18.0514477 ])"
      ]
     },
     "execution_count": 137,
     "metadata": {},
     "output_type": "execute_result"
    }
   ],
   "source": [
    "np.linalg.inv(m) @ c"
   ]
  },
  {
   "cell_type": "code",
   "execution_count": 138,
   "id": "03fdb321",
   "metadata": {},
   "outputs": [
    {
     "data": {
      "text/plain": [
       "array([ 121.61607281,   98.49406368,   85.58936044,   33.98730711,\n",
       "         66.06382602,  -89.39164412,    9.57837617,   -5.96573983,\n",
       "        -81.14155064,   34.18689202,   17.83432106,   58.53985967,\n",
       "        -71.35958984,  -48.09596121,  103.50032855,   23.89140945,\n",
       "        -19.09888339,  -60.39717066,  -62.34391676,   21.57731626,\n",
       "        -10.49411369,   30.28060706,  -41.19619353,   43.4087564 ,\n",
       "        -63.27599726,  -14.46119028,   12.59371128,   23.37040127,\n",
       "        -26.08999094,   -6.00376364,   -3.43196984,  -67.84257732,\n",
       "        -25.48413256,   15.89524059,  -69.83487229,  -18.09688915,\n",
       "        -21.20810906,   22.26005436,   45.15378728,  -36.70989897,\n",
       "       -106.86293479,  -16.79129621,   36.62067663,   32.7062425 ,\n",
       "         31.37292414,   -4.66741907,  -12.28727444,  -15.54289286,\n",
       "        106.86263748,   29.58768118,  -28.5321537 ,   11.54711181,\n",
       "         17.64562709,  -67.69434573,    3.18388305,  -36.09974839,\n",
       "          2.38321317,  -28.51336825,   36.94090004,    1.56316898,\n",
       "        -71.52008299,   94.08287878,   -5.48881723,   21.17194378,\n",
       "        -55.23041976,   -0.84568258,   21.2951356 ,  -89.50442895,\n",
       "         25.97793267,   18.06828422,   19.12654311,   41.49769842,\n",
       "        -38.18742576,  101.81216336, -126.26558198,   48.22069256,\n",
       "        -66.588755  ,   -7.84024178,   36.05618785,  -81.75285559,\n",
       "        -72.36272784,   43.49670685,  122.15538115,   -3.70884462,\n",
       "         -4.11122039,   -8.89402904,   55.90695521,  -59.15410538,\n",
       "        -12.57190101,   54.33078797,   39.11442754,  -27.80048564,\n",
       "        -26.5917394 ,  -52.28346191,    7.63457443,   33.61292211,\n",
       "         18.93076494,   55.86843057,  -41.66088014,  -18.0514477 ])"
      ]
     },
     "execution_count": 138,
     "metadata": {},
     "output_type": "execute_result"
    }
   ],
   "source": [
    "np.linalg.solve(m, c)"
   ]
  },
  {
   "cell_type": "code",
   "execution_count": 141,
   "id": "ee52e37e",
   "metadata": {},
   "outputs": [
    {
     "name": "stdout",
     "output_type": "stream",
     "text": [
      "168 µs ± 34.8 µs per loop (mean ± std. dev. of 7 runs, 10,000 loops each)\n"
     ]
    }
   ],
   "source": [
    "%timeit np.linalg.inv(m) @ c #133"
   ]
  },
  {
   "cell_type": "code",
   "execution_count": 142,
   "id": "18ad4cf8",
   "metadata": {},
   "outputs": [
    {
     "name": "stdout",
     "output_type": "stream",
     "text": [
      "111 µs ± 30.1 µs per loop (mean ± std. dev. of 7 runs, 10,000 loops each)\n"
     ]
    }
   ],
   "source": [
    "%timeit np.linalg.solve(m, c) # 141"
   ]
  },
  {
   "cell_type": "markdown",
   "id": "c318184d",
   "metadata": {},
   "source": [
    "<h3>Ejercicios</h3>\n",
    "\n",
    "- En el aula de Alberto hay un total de $27$ alumnos, habiendo el doble de chicas que de chicos. ¿Cuántos chicos y chicas hay en la clase de Alberto?"
   ]
  },
  {
   "cell_type": "code",
   "execution_count": null,
   "id": "d90728aa",
   "metadata": {},
   "outputs": [],
   "source": []
  },
  {
   "cell_type": "markdown",
   "id": "7917a6d9",
   "metadata": {},
   "source": [
    "- Luis invirtió una parte de los $\\$8000$ de sus ahorros en un plan con un $3\\%$ de rentabilidad anual y la otra parte la invierte en un plan con un $5\\%$ de rentabilidad anual.\n",
    "\n",
    "¿Cuánto dinero invirtió Luis en cada plan si después de un año tiene $\\$8340$?"
   ]
  },
  {
   "cell_type": "code",
   "execution_count": null,
   "id": "c7f3c5c1",
   "metadata": {},
   "outputs": [],
   "source": []
  },
  {
   "cell_type": "markdown",
   "id": "f8c65464",
   "metadata": {},
   "source": [
    "- Un cliente de un supermercado ha pagado un total de $\\$156$ por $24l$ de leche, $6kg$ de jamón serrano y $12l$ de aceite de oliva. Calcular el precio de cada artículo, sabiendo que $1l$ de aceite cuesta el triple que $1l$ de leche\n",
    "y que $1kg$ de jamón cuesta igual que $4l$ de aceite más $4l$ de leche."
   ]
  },
  {
   "cell_type": "markdown",
   "id": "826ce264",
   "metadata": {},
   "source": [
    "$$\n",
    "\\begin{eqnarray}\n",
    "24x + 6y + 12z  = 156 \\\\\n",
    "3x + 0y - 1z = 0 \\\\\n",
    "4x - y + 4z = 0\n",
    "\\nonumber\n",
    "\\end{eqnarray}\n",
    "$$"
   ]
  },
  {
   "cell_type": "code",
   "execution_count": 143,
   "id": "649a7e5e",
   "metadata": {},
   "outputs": [],
   "source": [
    "a = np.array([[24, 6, 12], [3, 0, -1], [4, -1, 4]])"
   ]
  },
  {
   "cell_type": "code",
   "execution_count": 144,
   "id": "c0fdfe7e",
   "metadata": {},
   "outputs": [],
   "source": [
    "b = np.array([156, 0, 0])"
   ]
  },
  {
   "cell_type": "code",
   "execution_count": 146,
   "id": "3c3e58b4",
   "metadata": {},
   "outputs": [
    {
     "data": {
      "text/plain": [
       "array([ 1., 16.,  3.])"
      ]
     },
     "execution_count": 146,
     "metadata": {},
     "output_type": "execute_result"
    }
   ],
   "source": [
    "np.linalg.solve(a, b)"
   ]
  },
  {
   "cell_type": "markdown",
   "id": "2e8b4009",
   "metadata": {},
   "source": [
    "$$\\vec{x}$$"
   ]
  },
  {
   "cell_type": "markdown",
   "id": "12d0d50c",
   "metadata": {},
   "source": [
    "$$ SV[\\vec{x}] = \\{ \\vec{v} | \\vec{v} = a \\vec{x} \\text{ para algún  } a \\in \\mathbb{R} \\} \\subset \\mathbb{R}^2 $$"
   ]
  },
  {
   "cell_type": "code",
   "execution_count": 147,
   "id": "1912d06f",
   "metadata": {},
   "outputs": [],
   "source": [
    "v = np.array([1, 3])"
   ]
  },
  {
   "cell_type": "code",
   "execution_count": 2,
   "id": "847fb656",
   "metadata": {},
   "outputs": [],
   "source": [
    "from jupyterthemes import jtplot\n",
    "jtplot.style()"
   ]
  },
  {
   "cell_type": "markdown",
   "id": "76e527e5",
   "metadata": {},
   "source": [
    "$$y = mx + b$$"
   ]
  },
  {
   "cell_type": "markdown",
   "id": "877e4f55",
   "metadata": {},
   "source": [
    "$$y = \\frac{3}{1}x$$"
   ]
  },
  {
   "cell_type": "code",
   "execution_count": 169,
   "id": "a7a5a973",
   "metadata": {},
   "outputs": [],
   "source": [
    "def f(x):\n",
    "    return 3 * x"
   ]
  },
  {
   "cell_type": "code",
   "execution_count": 171,
   "id": "414fe039",
   "metadata": {
    "scrolled": true
   },
   "outputs": [],
   "source": [
    "np.linspace(-1, 1, 100);"
   ]
  },
  {
   "cell_type": "code",
   "execution_count": 173,
   "id": "00ef3dec",
   "metadata": {},
   "outputs": [],
   "source": [
    "f(np.linspace(-1, 1, 100));"
   ]
  },
  {
   "cell_type": "code",
   "execution_count": 202,
   "id": "43272dc0",
   "metadata": {},
   "outputs": [
    {
     "data": {
      "text/plain": [
       "[<matplotlib.lines.Line2D at 0x14ddd739430>]"
      ]
     },
     "execution_count": 202,
     "metadata": {},
     "output_type": "execute_result"
    },
    {
     "data": {
      "image/png": "[encoded data removed]",
      "text/plain": [
       "<Figure size 600x600 with 1 Axes>"
      ]
     },
     "metadata": {},
     "output_type": "display_data"
    }
   ],
   "source": [
    "fig, ax = plt.subplots(figsize = (6, 6))\n",
    "\n",
    "x = np.linspace(-9, 9, 1000)\n",
    "\n",
    "#gráficas\n",
    "ax.plot(x, np.sinc(x))"
   ]
  },
  {
   "cell_type": "code",
   "execution_count": 193,
   "id": "c8161f35",
   "metadata": {
    "scrolled": false
   },
   "outputs": [
    {
     "data": {
      "image/png": "[encoded data removed]",
      "text/plain": [
       "<Figure size 600x600 with 1 Axes>"
      ]
     },
     "metadata": {},
     "output_type": "display_data"
    }
   ],
   "source": [
    "fig, ax = plt.subplots(figsize = (6, 6))\n",
    "\n",
    "x = np.linspace(-1, 1, 100)\n",
    "\n",
    "#gráficas\n",
    "ax.plot(x, f(x))#, color = 'r', linestyle = ':', marker = 'p')\n",
    "ax.quiver([0], [0], [v[0]], [v[1]], color = 'w', scale = 12)\n",
    "ax.axvline(0, color = 'w', linestyle = '--')\n",
    "ax.axhline(0, color = 'w', linestyle = '--')\n",
    "\n",
    "#parametros\n",
    "ax.set_aspect('equal')\n",
    "ax.set_xlim([-1, 1])\n",
    "ax.set_ylim([-1, 1])\n",
    "ax.set_xticklabels([])\n",
    "ax.set_yticklabels([]);"
   ]
  },
  {
   "cell_type": "code",
   "execution_count": 181,
   "id": "9347f76f",
   "metadata": {},
   "outputs": [
    {
     "data": {
      "text/plain": [
       "['ArtistList',\n",
       " '_AxesBase__clear',\n",
       " '_PROPERTIES_EXCLUDED_FROM_SET',\n",
       " '__class__',\n",
       " '__delattr__',\n",
       " '__dict__',\n",
       " '__dir__',\n",
       " '__doc__',\n",
       " '__eq__',\n",
       " '__format__',\n",
       " '__ge__',\n",
       " '__getattribute__',\n",
       " '__getstate__',\n",
       " '__gt__',\n",
       " '__hash__',\n",
       " '__init__',\n",
       " '__init_subclass__',\n",
       " '__le__',\n",
       " '__lt__',\n",
       " '__module__',\n",
       " '__ne__',\n",
       " '__new__',\n",
       " '__reduce__',\n",
       " '__reduce_ex__',\n",
       " '__repr__',\n",
       " '__setattr__',\n",
       " '__setstate__',\n",
       " '__sizeof__',\n",
       " '__str__',\n",
       " '__subclasshook__',\n",
       " '__weakref__',\n",
       " '_add_text',\n",
       " '_adjustable',\n",
       " '_agg_filter',\n",
       " '_alias_map',\n",
       " '_alpha',\n",
       " '_anchor',\n",
       " '_animated',\n",
       " '_aspect',\n",
       " '_autotitlepos',\n",
       " '_axes',\n",
       " '_axes_locator',\n",
       " '_axis_map',\n",
       " '_axis_names',\n",
       " '_axisbelow',\n",
       " '_box_aspect',\n",
       " '_callbacks',\n",
       " '_check_no_units',\n",
       " '_children',\n",
       " '_clipon',\n",
       " '_clippath',\n",
       " '_cm_set',\n",
       " '_colorbars',\n",
       " '_convert_dx',\n",
       " '_current_image',\n",
       " '_default_contains',\n",
       " '_errorevery_to_mask',\n",
       " '_facecolor',\n",
       " '_fill_between_x_or_y',\n",
       " '_frameon',\n",
       " '_fully_clipped_to_axes',\n",
       " '_gci',\n",
       " '_gen_axes_patch',\n",
       " '_gen_axes_spines',\n",
       " '_get_aspect_ratio',\n",
       " '_get_lines',\n",
       " '_get_pan_points',\n",
       " '_get_patches_for_fill',\n",
       " '_get_view',\n",
       " '_gid',\n",
       " '_gridOn',\n",
       " '_in_layout',\n",
       " '_init_axis',\n",
       " '_internal_update',\n",
       " '_label',\n",
       " '_label_outer_xaxis',\n",
       " '_label_outer_yaxis',\n",
       " '_left_title',\n",
       " '_make_twin_axes',\n",
       " '_mouseover',\n",
       " '_mouseover_set',\n",
       " '_navigate',\n",
       " '_navigate_mode',\n",
       " '_originalPosition',\n",
       " '_parse_scatter_color_args',\n",
       " '_path_effects',\n",
       " '_pcolorargs',\n",
       " '_picker',\n",
       " '_position',\n",
       " '_prepare_view_from_bbox',\n",
       " '_process_unit_info',\n",
       " '_projection_init',\n",
       " '_quiver_units',\n",
       " '_rasterization_zorder',\n",
       " '_rasterized',\n",
       " '_remove_legend',\n",
       " '_remove_method',\n",
       " '_request_autoscale_view',\n",
       " '_right_title',\n",
       " '_sci',\n",
       " '_set_alpha_for_array',\n",
       " '_set_artist_props',\n",
       " '_set_gc_clip',\n",
       " '_set_lim_and_transforms',\n",
       " '_set_position',\n",
       " '_set_title_offset_trans',\n",
       " '_set_view',\n",
       " '_set_view_from_bbox',\n",
       " '_shared_axes',\n",
       " '_sharex',\n",
       " '_sharey',\n",
       " '_sketch',\n",
       " '_snap',\n",
       " '_stale',\n",
       " '_stale_viewlims',\n",
       " '_sticky_edges',\n",
       " '_subclass_uses_cla',\n",
       " '_subplotspec',\n",
       " '_tight',\n",
       " '_transform',\n",
       " '_transformSet',\n",
       " '_twinned_axes',\n",
       " '_unit_change_handler',\n",
       " '_unstale_viewLim',\n",
       " '_update_image_limits',\n",
       " '_update_line_limits',\n",
       " '_update_patch_limits',\n",
       " '_update_props',\n",
       " '_update_set_signature_and_docstring',\n",
       " '_update_title_position',\n",
       " '_update_transScale',\n",
       " '_url',\n",
       " '_use_sticky_edges',\n",
       " '_validate_converted_limits',\n",
       " '_viewLim',\n",
       " '_visible',\n",
       " '_xaxis_transform',\n",
       " '_xmargin',\n",
       " '_yaxis_transform',\n",
       " '_ymargin',\n",
       " 'acorr',\n",
       " 'add_artist',\n",
       " 'add_callback',\n",
       " 'add_child_axes',\n",
       " 'add_collection',\n",
       " 'add_container',\n",
       " 'add_image',\n",
       " 'add_line',\n",
       " 'add_patch',\n",
       " 'add_table',\n",
       " 'angle_spectrum',\n",
       " 'annotate',\n",
       " 'apply_aspect',\n",
       " 'arrow',\n",
       " 'artists',\n",
       " 'autoscale',\n",
       " 'autoscale_view',\n",
       " 'axes',\n",
       " 'axhline',\n",
       " 'axhspan',\n",
       " 'axis',\n",
       " 'axison',\n",
       " 'axline',\n",
       " 'axvline',\n",
       " 'axvspan',\n",
       " 'bar',\n",
       " 'bar_label',\n",
       " 'barbs',\n",
       " 'barh',\n",
       " 'bbox',\n",
       " 'boxplot',\n",
       " 'broken_barh',\n",
       " 'bxp',\n",
       " 'callbacks',\n",
       " 'can_pan',\n",
       " 'can_zoom',\n",
       " 'child_axes',\n",
       " 'cla',\n",
       " 'clabel',\n",
       " 'clear',\n",
       " 'clipbox',\n",
       " 'cohere',\n",
       " 'collections',\n",
       " 'containers',\n",
       " 'contains',\n",
       " 'contains_point',\n",
       " 'contour',\n",
       " 'contourf',\n",
       " 'convert_xunits',\n",
       " 'convert_yunits',\n",
       " 'csd',\n",
       " 'dataLim',\n",
       " 'drag_pan',\n",
       " 'draw',\n",
       " 'draw_artist',\n",
       " 'end_pan',\n",
       " 'errorbar',\n",
       " 'eventplot',\n",
       " 'figure',\n",
       " 'fill',\n",
       " 'fill_between',\n",
       " 'fill_betweenx',\n",
       " 'findobj',\n",
       " 'fmt_xdata',\n",
       " 'fmt_ydata',\n",
       " 'format_coord',\n",
       " 'format_cursor_data',\n",
       " 'format_xdata',\n",
       " 'format_ydata',\n",
       " 'get_adjustable',\n",
       " 'get_agg_filter',\n",
       " 'get_alpha',\n",
       " 'get_anchor',\n",
       " 'get_animated',\n",
       " 'get_aspect',\n",
       " 'get_autoscale_on',\n",
       " 'get_autoscalex_on',\n",
       " 'get_autoscaley_on',\n",
       " 'get_axes_locator',\n",
       " 'get_axisbelow',\n",
       " 'get_box_aspect',\n",
       " 'get_children',\n",
       " 'get_clip_box',\n",
       " 'get_clip_on',\n",
       " 'get_clip_path',\n",
       " 'get_cursor_data',\n",
       " 'get_data_ratio',\n",
       " 'get_default_bbox_extra_artists',\n",
       " 'get_facecolor',\n",
       " 'get_fc',\n",
       " 'get_figure',\n",
       " 'get_frame_on',\n",
       " 'get_gid',\n",
       " 'get_gridspec',\n",
       " 'get_images',\n",
       " 'get_in_layout',\n",
       " 'get_label',\n",
       " 'get_legend',\n",
       " 'get_legend_handles_labels',\n",
       " 'get_lines',\n",
       " 'get_mouseover',\n",
       " 'get_navigate',\n",
       " 'get_navigate_mode',\n",
       " 'get_path_effects',\n",
       " 'get_picker',\n",
       " 'get_position',\n",
       " 'get_rasterization_zorder',\n",
       " 'get_rasterized',\n",
       " 'get_renderer_cache',\n",
       " 'get_shared_x_axes',\n",
       " 'get_shared_y_axes',\n",
       " 'get_sketch_params',\n",
       " 'get_snap',\n",
       " 'get_subplotspec',\n",
       " 'get_tightbbox',\n",
       " 'get_title',\n",
       " 'get_transform',\n",
       " 'get_transformed_clip_path_and_affine',\n",
       " 'get_url',\n",
       " 'get_visible',\n",
       " 'get_window_extent',\n",
       " 'get_xaxis',\n",
       " 'get_xaxis_text1_transform',\n",
       " 'get_xaxis_text2_transform',\n",
       " 'get_xaxis_transform',\n",
       " 'get_xbound',\n",
       " 'get_xgridlines',\n",
       " 'get_xlabel',\n",
       " 'get_xlim',\n",
       " 'get_xmajorticklabels',\n",
       " 'get_xminorticklabels',\n",
       " 'get_xscale',\n",
       " 'get_xticklabels',\n",
       " 'get_xticklines',\n",
       " 'get_xticks',\n",
       " 'get_yaxis',\n",
       " 'get_yaxis_text1_transform',\n",
       " 'get_yaxis_text2_transform',\n",
       " 'get_yaxis_transform',\n",
       " 'get_ybound',\n",
       " 'get_ygridlines',\n",
       " 'get_ylabel',\n",
       " 'get_ylim',\n",
       " 'get_ymajorticklabels',\n",
       " 'get_yminorticklabels',\n",
       " 'get_yscale',\n",
       " 'get_yticklabels',\n",
       " 'get_yticklines',\n",
       " 'get_yticks',\n",
       " 'get_zorder',\n",
       " 'grid',\n",
       " 'has_data',\n",
       " 'have_units',\n",
       " 'hexbin',\n",
       " 'hist',\n",
       " 'hist2d',\n",
       " 'hlines',\n",
       " 'ignore_existing_data_limits',\n",
       " 'images',\n",
       " 'imshow',\n",
       " 'in_axes',\n",
       " 'indicate_inset',\n",
       " 'indicate_inset_zoom',\n",
       " 'inset_axes',\n",
       " 'invert_xaxis',\n",
       " 'invert_yaxis',\n",
       " 'is_transform_set',\n",
       " 'label_outer',\n",
       " 'legend',\n",
       " 'legend_',\n",
       " 'lines',\n",
       " 'locator_params',\n",
       " 'loglog',\n",
       " 'magnitude_spectrum',\n",
       " 'margins',\n",
       " 'matshow',\n",
       " 'minorticks_off',\n",
       " 'minorticks_on',\n",
       " 'mouseover',\n",
       " 'name',\n",
       " 'patch',\n",
       " 'patches',\n",
       " 'pchanged',\n",
       " 'pcolor',\n",
       " 'pcolorfast',\n",
       " 'pcolormesh',\n",
       " 'phase_spectrum',\n",
       " 'pick',\n",
       " 'pickable',\n",
       " 'pie',\n",
       " 'plot',\n",
       " 'plot_date',\n",
       " 'properties',\n",
       " 'psd',\n",
       " 'quiver',\n",
       " 'quiverkey',\n",
       " 'redraw_in_frame',\n",
       " 'relim',\n",
       " 'remove',\n",
       " 'remove_callback',\n",
       " 'reset_position',\n",
       " 'scatter',\n",
       " 'secondary_xaxis',\n",
       " 'secondary_yaxis',\n",
       " 'semilogx',\n",
       " 'semilogy',\n",
       " 'set',\n",
       " 'set_adjustable',\n",
       " 'set_agg_filter',\n",
       " 'set_alpha',\n",
       " 'set_anchor',\n",
       " 'set_animated',\n",
       " 'set_aspect',\n",
       " 'set_autoscale_on',\n",
       " 'set_autoscalex_on',\n",
       " 'set_autoscaley_on',\n",
       " 'set_axes_locator',\n",
       " 'set_axis_off',\n",
       " 'set_axis_on',\n",
       " 'set_axisbelow',\n",
       " 'set_box_aspect',\n",
       " 'set_clip_box',\n",
       " 'set_clip_on',\n",
       " 'set_clip_path',\n",
       " 'set_facecolor',\n",
       " 'set_fc',\n",
       " 'set_figure',\n",
       " 'set_frame_on',\n",
       " 'set_gid',\n",
       " 'set_in_layout',\n",
       " 'set_label',\n",
       " 'set_mouseover',\n",
       " 'set_navigate',\n",
       " 'set_navigate_mode',\n",
       " 'set_path_effects',\n",
       " 'set_picker',\n",
       " 'set_position',\n",
       " 'set_prop_cycle',\n",
       " 'set_rasterization_zorder',\n",
       " 'set_rasterized',\n",
       " 'set_sketch_params',\n",
       " 'set_snap',\n",
       " 'set_subplotspec',\n",
       " 'set_title',\n",
       " 'set_transform',\n",
       " 'set_url',\n",
       " 'set_visible',\n",
       " 'set_xbound',\n",
       " 'set_xlabel',\n",
       " 'set_xlim',\n",
       " 'set_xmargin',\n",
       " 'set_xscale',\n",
       " 'set_xticklabels',\n",
       " 'set_xticks',\n",
       " 'set_ybound',\n",
       " 'set_ylabel',\n",
       " 'set_ylim',\n",
       " 'set_ymargin',\n",
       " 'set_yscale',\n",
       " 'set_yticklabels',\n",
       " 'set_yticks',\n",
       " 'set_zorder',\n",
       " 'sharex',\n",
       " 'sharey',\n",
       " 'specgram',\n",
       " 'spines',\n",
       " 'spy',\n",
       " 'stackplot',\n",
       " 'stairs',\n",
       " 'stale',\n",
       " 'stale_callback',\n",
       " 'start_pan',\n",
       " 'stem',\n",
       " 'step',\n",
       " 'sticky_edges',\n",
       " 'streamplot',\n",
       " 'table',\n",
       " 'tables',\n",
       " 'text',\n",
       " 'texts',\n",
       " 'tick_params',\n",
       " 'ticklabel_format',\n",
       " 'title',\n",
       " 'titleOffsetTrans',\n",
       " 'transAxes',\n",
       " 'transData',\n",
       " 'transLimits',\n",
       " 'transScale',\n",
       " 'tricontour',\n",
       " 'tricontourf',\n",
       " 'tripcolor',\n",
       " 'triplot',\n",
       " 'twinx',\n",
       " 'twiny',\n",
       " 'update',\n",
       " 'update_datalim',\n",
       " 'update_from',\n",
       " 'use_sticky_edges',\n",
       " 'viewLim',\n",
       " 'violin',\n",
       " 'violinplot',\n",
       " 'vlines',\n",
       " 'xaxis',\n",
       " 'xaxis_date',\n",
       " 'xaxis_inverted',\n",
       " 'xcorr',\n",
       " 'yaxis',\n",
       " 'yaxis_date',\n",
       " 'yaxis_inverted',\n",
       " 'zorder']"
      ]
     },
     "execution_count": 181,
     "metadata": {},
     "output_type": "execute_result"
    }
   ],
   "source": [
    "dir(ax)"
   ]
  },
  {
   "cell_type": "markdown",
   "id": "737baa34",
   "metadata": {},
   "source": [
    "$$  T (\\alpha \\cdot \\vec{x}) =  \\lambda (\\alpha \\cdot \\vec{x})$$\n",
    "$$(\\alpha \\cdot \\vec{x}) = \\vec{y}$$\n",
    "$$  T \\vec{y} =  \\lambda \\vec{y}$$"
   ]
  },
  {
   "cell_type": "markdown",
   "id": "1523885e",
   "metadata": {},
   "source": [
    "<hr>\n",
    "<h2>Vectores y valores propios</h2>\n",
    "\n",
    "Los definiremos lo valores propios y vectores propios de una matriz cuadrada de la siguiente forma:\n",
    "\n",
    "$$ T \\vec{x} = \\lambda \\vec{x} $$\n",
    "\n",
    "Estos vectores son los llamados _vectores propios_ de $T$ y el valor $\\lambda$ que representa el factor de escalamiento del vector es llamado _valor propio_ de $T$. Podemos calcular los valores propios de una matriz cuadrada $T_n$ calculando primero el determinante de $T - \\lambda I$, que dara como resultado un polinomio de grado $n$, y luego encontrando las raíces de dicho polinomio.\n",
    "\n",
    "\n",
    "\n",
    "Empezaremos dando un sentido geométrico a los valores propios de una matriz cuadrada, pensemos por ejemplo en la matriz:\n",
    "\n",
    "$$\n",
    "T = \n",
    "\\begin{bmatrix}\n",
    "3 & 1\\\\\n",
    "0 & 2\\\\\n",
    "\\end{bmatrix}\n",
    "$$\n",
    "\n",
    "Y veamos la como una transformación lineal\n",
    "\n",
    "<img src=\"Transformación base canonica.gif\" width = 400 height = 400>\n",
    "\n",
    "Al fijarnos en u vector cualquiera vamos a fijarnos en su subespacio generado, es decir, en la recta que pasa sobre el:\n",
    "\n",
    "<img src=\"Transformación sobre subespacio generado.gif\" width = 400 height = 400>\n",
    "\n",
    "Podemos ver que la transformación saca al vector de su subespacio. Sin embargo hay algunos vectores a los que esto no les pasa.\n",
    "\n",
    "<img src=\"Transformación sobre un subespacio de un vector propio.gif\" width = 400 height = 400>\n",
    "\n",
    "Podemos ver que en el caso de esta matriz hay dos rectas sobre las cuales los vectores no son desviados, solo son escalados un factor $\\lambda$. \n",
    "\n",
    "<img src=\"Transformación sobre un subespacio de un vector propio 2.gif\" width = 400 height = 400>\n",
    "\n",
    "\n",
    "Es decir, aplicar la matriz $T$ a uno de estos vectores da como resultado un multiplo escalar del mismo vector:\n",
    "\n",
    "\n",
    "\n",
    "\n",
    "En Numpy dentro de _linalg_ tenemos las funciones _eig_ y _eigvals_ que nos ofrecen, devuelven una tupla con los valores propios, y otra de vectores propios para la primera, y un array de valores propios la segunda.\n"
   ]
  },
  {
   "cell_type": "code",
   "execution_count": 4,
   "id": "815bffcf",
   "metadata": {},
   "outputs": [
    {
     "data": {
      "text/plain": [
       "array([[3, 1],\n",
       "       [0, 2]])"
      ]
     },
     "execution_count": 4,
     "metadata": {},
     "output_type": "execute_result"
    }
   ],
   "source": [
    "T = np.array([[3, 1], [0, 2]])\n",
    "T"
   ]
  },
  {
   "cell_type": "code",
   "execution_count": 5,
   "id": "c0c20482",
   "metadata": {},
   "outputs": [
    {
     "data": {
      "text/plain": [
       "array([3., 2.])"
      ]
     },
     "execution_count": 5,
     "metadata": {},
     "output_type": "execute_result"
    }
   ],
   "source": [
    "np.linalg.eigvals(T)"
   ]
  },
  {
   "cell_type": "code",
   "execution_count": 9,
   "id": "109b4cd5",
   "metadata": {},
   "outputs": [],
   "source": [
    "val, vec = np.linalg.eig(T)"
   ]
  },
  {
   "cell_type": "code",
   "execution_count": 12,
   "id": "3c4db15e",
   "metadata": {},
   "outputs": [
    {
     "data": {
      "text/plain": [
       "0.9999999999999999"
      ]
     },
     "execution_count": 12,
     "metadata": {},
     "output_type": "execute_result"
    }
   ],
   "source": [
    "np.linalg.norm(vec[:, 1])"
   ]
  },
  {
   "cell_type": "markdown",
   "id": "d1d6e70e",
   "metadata": {},
   "source": [
    "$$\\mathbb{R}^2$$"
   ]
  },
  {
   "cell_type": "markdown",
   "id": "1d3044af",
   "metadata": {},
   "source": [
    "$$\n",
    "i = \n",
    "\\begin{bmatrix}\n",
    "1 \\\\\n",
    "0\\\\\n",
    "\\end{bmatrix}\n",
    "$$\n",
    "\n",
    "\n",
    "$$\n",
    "j = \n",
    "\\begin{bmatrix}\n",
    "0 \\\\\n",
    "1 \\\\\n",
    "\\end{bmatrix}\n",
    "$$"
   ]
  },
  {
   "cell_type": "markdown",
   "id": "138adb1a",
   "metadata": {},
   "source": [
    "$$\n",
    "x = \n",
    "\\begin{bmatrix}\n",
    "x_1 \\\\\n",
    "x_2\\\\\n",
    "\\end{bmatrix}$$"
   ]
  },
  {
   "cell_type": "markdown",
   "id": "c0872d05",
   "metadata": {},
   "source": [
    "$$\n",
    "\\alpha\n",
    "\\begin{bmatrix}\n",
    "1\\\\\n",
    "0\\\\\n",
    "\\end{bmatrix}\n",
    "+\n",
    "\\beta\n",
    "\\begin{bmatrix}\n",
    "0\\\\\n",
    "1\\\\\n",
    "\\end{bmatrix}\n",
    "= x\n",
    "$$"
   ]
  },
  {
   "cell_type": "code",
   "execution_count": null,
   "id": "7ff179ef",
   "metadata": {},
   "outputs": [],
   "source": []
  },
  {
   "cell_type": "markdown",
   "id": "b921ad9b",
   "metadata": {},
   "source": [
    "Un resultado importante es que si $A_n$ tiene $n$ valores propios diferentes, entonces los vectores propios asociados a dichos valores son linealmente independientes, y podemos usarlos como una nueva base del espacio vectorial, que tiene la peculiaridad de que si vemos la matriz $A_n$ escrita en esa base, se convierte en una [matriz diagonal](#Glosario) que tiene en la diagonal los valores propios:\n",
    "\n",
    "$$\n",
    "D = \n",
    "\\begin{bmatrix}\n",
    "\\lambda_1 & 0 & \\cdots & 0\\\\\n",
    "0 & \\lambda_2 & \\cdots & 0\\\\\n",
    "\\cdots & \\cdots & \\ddots & \\cdots \\\\\n",
    "0 & 0 & \\cdots & \\lambda_n\\\\\n",
    "\\end{bmatrix}\n",
    "$$\n",
    "\n",
    "\n",
    "Y esta matriz la podemos expresar como:\n",
    "\n",
    "$$D = M^{-1}AM$$\n",
    "\n",
    "\n",
    "Donde M es la matriz que tiene por columnas los vectores propios de A"
   ]
  },
  {
   "cell_type": "code",
   "execution_count": 14,
   "id": "acb38c01",
   "metadata": {},
   "outputs": [],
   "source": [
    "A = np.random.randint(1, 10, (4, 4))"
   ]
  },
  {
   "cell_type": "code",
   "execution_count": 15,
   "id": "b68c1825",
   "metadata": {},
   "outputs": [
    {
     "data": {
      "text/plain": [
       "array([[4, 1, 1, 1],\n",
       "       [4, 3, 1, 7],\n",
       "       [9, 4, 9, 5],\n",
       "       [6, 7, 4, 4]])"
      ]
     },
     "execution_count": 15,
     "metadata": {},
     "output_type": "execute_result"
    }
   ],
   "source": [
    "A"
   ]
  },
  {
   "cell_type": "code",
   "execution_count": 16,
   "id": "d470cac3",
   "metadata": {},
   "outputs": [],
   "source": [
    "vals, vecs = np.linalg.eig(A)"
   ]
  },
  {
   "cell_type": "code",
   "execution_count": 17,
   "id": "09075d92",
   "metadata": {},
   "outputs": [
    {
     "data": {
      "text/plain": [
       "array([[ 0.1356664 ,  0.69953725, -0.01965044,  0.01193657],\n",
       "       [ 0.37833692, -0.17535057,  0.51798361, -0.72627862],\n",
       "       [ 0.74741894, -0.62632399, -0.81035262, -0.04996202],\n",
       "       [ 0.52898084, -0.29600349,  0.27319494,  0.68547843]])"
      ]
     },
     "execution_count": 17,
     "metadata": {},
     "output_type": "execute_result"
    }
   ],
   "source": [
    "vecs"
   ]
  },
  {
   "cell_type": "code",
   "execution_count": 19,
   "id": "623f927d",
   "metadata": {},
   "outputs": [],
   "source": [
    "D = np.linalg.inv(vecs) @ A @ vecs"
   ]
  },
  {
   "cell_type": "code",
   "execution_count": 20,
   "id": "a9fc5fe7",
   "metadata": {},
   "outputs": [
    {
     "data": {
      "text/plain": [
       "array([[ 1.61971007e+01, -2.22044605e-15,  8.88178420e-16,\n",
       "         8.88178420e-16],\n",
       "       [ 1.11022302e-16,  2.43085117e+00, -2.08166817e-16,\n",
       "        -2.22044605e-16],\n",
       "       [ 3.10862447e-15, -1.11022302e-15,  4.97575788e+00,\n",
       "         1.77635684e-15],\n",
       "       [-6.66133815e-15,  2.66453526e-15,  5.55111512e-16,\n",
       "        -3.60370978e+00]])"
      ]
     },
     "execution_count": 20,
     "metadata": {},
     "output_type": "execute_result"
    }
   ],
   "source": [
    "D"
   ]
  },
  {
   "cell_type": "code",
   "execution_count": 21,
   "id": "a77a060a",
   "metadata": {},
   "outputs": [
    {
     "data": {
      "text/plain": [
       "array([[16.197, -0.   ,  0.   ,  0.   ],\n",
       "       [ 0.   ,  2.431, -0.   , -0.   ],\n",
       "       [ 0.   , -0.   ,  4.976,  0.   ],\n",
       "       [-0.   ,  0.   ,  0.   , -3.604]])"
      ]
     },
     "execution_count": 21,
     "metadata": {},
     "output_type": "execute_result"
    }
   ],
   "source": [
    "np.round(D, 3)"
   ]
  },
  {
   "cell_type": "code",
   "execution_count": 22,
   "id": "0bc8c728",
   "metadata": {},
   "outputs": [
    {
     "data": {
      "text/plain": [
       "array([16.19710073,  2.43085117,  4.97575788, -3.60370978])"
      ]
     },
     "execution_count": 22,
     "metadata": {},
     "output_type": "execute_result"
    }
   ],
   "source": [
    "vals"
   ]
  },
  {
   "cell_type": "markdown",
   "id": "72013106",
   "metadata": {},
   "source": [
    "<h2>Modelo de Leslie</h2>\n",
    "\n",
    "Hay muchas formas de modelar el comportamiento de una población determinada, para mostrar cómo trabaja el modelo de Leslie vamos a dar un ejemplo. Imaginemos una población de insectos que tiene una esperanza de vida máxima de 4 años, los agruparemos en cuatro categorías:\n",
    "\n",
    "|Edad(años)|Población|Tasa de natalidad (individuos por año)|Probabilidad de sobrevivir|\n",
    "|:--------:|:--------|:------------------------------------:|:------------------------:|\n",
    "|0-1       |   30    |0|0.7|\n",
    "|1-2       |35       |4|0.5|\n",
    "|2-3       | 25      |2|0.2|\n",
    "|3-4       |10       |1|0.0|\n",
    "\n",
    "\n",
    "cada categoría tiene su propia tasa de natalidad expresada en individuos nacidos por año y una probabilidad de sobrevivir y ascender a la siguiente categoría. Si queremos saber cuántos individuos tendrán edades entre 0 y 1 años después de un año, es decir todos los individuos que nacieron durante ese año, tendríamos que calcularlo de la siguiente manera:\n",
    "\n",
    "- cada uno de los 30 individuos de la categoría _0-1_ tiene 0 descendientes, en total 30 * 0 = 0\n",
    "- cada uno de los 35 individuos de la categoría _1-2_ tiene 4 descendientes, en total 35 * 4 = 140\n",
    "- cada uno de los 25 individuos de la categoría _2-3_ tiene 2 descendientes, en total 25 * 2 = 50\n",
    "- cada uno de los 10 individuos de la categoría _3-4_ tiene 1 descendientes, en total 10 * 1 = 10\n",
    "\n",
    "Esto nos da un total de 200 nacidos en después de un año. Ahora imaginemos que queremos saber cuántos individuos entre 1 y 2 años de edad tendremos después de 1 año. En este caso haríamos lo siguiente:\n",
    "\n",
    "- El 70% de los individuos de la primer categoría sobrevivieron para alcanzar la segunda, es decir:  30 * 0.7 = 21 \n",
    "\n",
    "Este análisis se puede simplificar enormemente usando una matriz de Leslie, la matriz de Leslie es una matriz cuadrada, su primer renglón está formado por las tasas de natalidad de todas las categorías, los demás elementos son 0 excepto los elementos de la diagonal menor que contienen las probabilidades de supervivencia.\n",
    "\n",
    "$$\n",
    "L =\n",
    "\\begin{bmatrix}\n",
    "0 & 4 & 2 & 1\\\\\n",
    "0.7 & 0 & 0 & 0\\\\\n",
    "0 & 0.5 & 0 & 0\\\\\n",
    "0 & 0 & 0.2 & 0\\\\\n",
    "\\end{bmatrix}\n",
    "$$\n",
    "\n",
    "Esta matriz, junto con un vector columna con la población inicial de cada categoría, nos facilita mucho el análisis de la dinámica de la población. Sea $\\vec{x_0}$ el vector de poblaciones iniciales:\n",
    "\n",
    "$$\n",
    "\\vec{x_0} = \n",
    "\\begin{bmatrix}\n",
    "30\\\\\n",
    "35\\\\\n",
    "25\\\\\n",
    "10\n",
    "\\end{bmatrix}\n",
    "$$\n",
    "\n",
    "Podemos calcular la población después de un año $\\vec{x_1}$ haciendo $\\vec{x_1} = L \\vec{x_0}$\n",
    "\n",
    "$$\n",
    "\\vec{x_1} = \n",
    "\\begin{bmatrix}\n",
    "0 & 4 & 2 & 1\\\\\n",
    "0.7 & 0 & 0 & 0\\\\\n",
    "0 & 0.5 & 0 & 0\\\\\n",
    "0 & 0 & 0.2 & 0\\\\\n",
    "\\end{bmatrix}\n",
    "\\begin{bmatrix}\n",
    "30\\\\\n",
    "35\\\\\n",
    "25\\\\\n",
    "10\n",
    "\\end{bmatrix}\n",
    "=\n",
    "\\begin{bmatrix}\n",
    "200\\\\\n",
    "21\\\\\n",
    "17.5\\\\\n",
    "5\n",
    "\\end{bmatrix}\n",
    "$$\n",
    "\n",
    "En general, conocer la población después de $n$ años simplemente lo hacemos calculando:\n",
    "\n",
    "$$ \\vec{x_n} = L^n \\vec{x_0}$$\n",
    "\n",
    "\n",
    "La matriz de Leslie tiene la propiedad de tener un único valor característico positivo $\\lambda_1$ que representa la tasa de crecimiento de la población, si $\\lambda_1 < 1$ la población disminuye y si $\\lambda_1 > 1$ esta aumenta.\n",
    "\n",
    "\n",
    "\n"
   ]
  },
  {
   "cell_type": "code",
   "execution_count": 24,
   "id": "1bd3105e",
   "metadata": {},
   "outputs": [],
   "source": [
    "L = np.array([[0, 4, 2, 1], [0.7, 0, 0, 0], [0, 0.5, 0, 0], [0, 0, 0.2, 0]])"
   ]
  },
  {
   "cell_type": "code",
   "execution_count": 25,
   "id": "81a2567d",
   "metadata": {},
   "outputs": [
    {
     "data": {
      "text/plain": [
       "array([[0. , 4. , 2. , 1. ],\n",
       "       [0.7, 0. , 0. , 0. ],\n",
       "       [0. , 0.5, 0. , 0. ],\n",
       "       [0. , 0. , 0.2, 0. ]])"
      ]
     },
     "execution_count": 25,
     "metadata": {},
     "output_type": "execute_result"
    }
   ],
   "source": [
    "L"
   ]
  },
  {
   "cell_type": "code",
   "execution_count": 26,
   "id": "e917d43c",
   "metadata": {},
   "outputs": [],
   "source": [
    "x = np.array([30, 35, 25, 10])"
   ]
  },
  {
   "cell_type": "code",
   "execution_count": 28,
   "id": "51db308b",
   "metadata": {},
   "outputs": [
    {
     "data": {
      "text/plain": [
       "array([124. , 140. ,  10.5,   3.5])"
      ]
     },
     "execution_count": 28,
     "metadata": {},
     "output_type": "execute_result"
    }
   ],
   "source": [
    "L @ L @ L @ x"
   ]
  },
  {
   "cell_type": "code",
   "execution_count": 32,
   "id": "c5d03d06",
   "metadata": {},
   "outputs": [
    {
     "data": {
      "text/latex": [
       "$\\displaystyle \\left[\\begin{matrix}1.79230295271384\\\\-1.54119328165428\\\\-0.125554835529783 + 0.0978637807690939 i\\\\-0.125554835529783 - 0.0978637807690939 i\\end{matrix}\\right]$"
      ],
      "text/plain": [
       "Matrix([\n",
       "[                         1.79230295271384],\n",
       "[                        -1.54119328165428],\n",
       "[-0.125554835529783 + 0.0978637807690939*I],\n",
       "[-0.125554835529783 - 0.0978637807690939*I]])"
      ]
     },
     "execution_count": 32,
     "metadata": {},
     "output_type": "execute_result"
    }
   ],
   "source": [
    "Matrix(np.linalg.eigvals(L))"
   ]
  },
  {
   "cell_type": "code",
   "execution_count": 33,
   "id": "8578d9f8",
   "metadata": {},
   "outputs": [
    {
     "data": {
      "text/plain": [
       "array([ 1.79230295+0.j        , -1.54119328+0.j        ,\n",
       "       -0.12555484+0.09786378j, -0.12555484-0.09786378j])"
      ]
     },
     "execution_count": 33,
     "metadata": {},
     "output_type": "execute_result"
    }
   ],
   "source": [
    "np.linalg.eigvals(L)"
   ]
  },
  {
   "cell_type": "code",
   "execution_count": 34,
   "id": "3e122207",
   "metadata": {},
   "outputs": [],
   "source": [
    "def pob_leslie(n, L, x0):\n",
    "    \n",
    "    if n == 0:\n",
    "        return x0\n",
    "    elif n == 1:\n",
    "        return L @ x0\n",
    "    else:\n",
    "        return L @ pob_leslie(n - 1, L, x0)"
   ]
  },
  {
   "cell_type": "code",
   "execution_count": 38,
   "id": "2e6e9bc2",
   "metadata": {},
   "outputs": [
    {
     "data": {
      "text/plain": [
       "array([584.5,  86.8,  70. ,   2.1])"
      ]
     },
     "execution_count": 38,
     "metadata": {},
     "output_type": "execute_result"
    }
   ],
   "source": [
    "pob_leslie(3, L, x)"
   ]
  },
  {
   "cell_type": "code",
   "execution_count": 39,
   "id": "37dcd93b",
   "metadata": {},
   "outputs": [],
   "source": [
    "pob = [pob_leslie(i, L, x) for i in range(30)]"
   ]
  },
  {
   "cell_type": "code",
   "execution_count": 41,
   "id": "8b80d82e",
   "metadata": {},
   "outputs": [],
   "source": [
    "pob1 = [elem[0] for elem in pob]\n",
    "pob2 = [elem[1] for elem in pob]\n",
    "pob3 = [elem[2] for elem in pob]\n",
    "pob4 = [elem[3] for elem in pob]"
   ]
  },
  {
   "cell_type": "code",
   "execution_count": 46,
   "id": "679aa765",
   "metadata": {},
   "outputs": [
    {
     "data": {
      "image/png": "[encoded data removed]",
      "text/plain": [
       "<Figure size 1200x600 with 1 Axes>"
      ]
     },
     "metadata": {},
     "output_type": "display_data"
    }
   ],
   "source": [
    "fig, ax = plt.subplots(figsize = (12, 6))\n",
    "\n",
    "x = np.arange(0, 30)\n",
    "\n",
    "for i, elem in enumerate([pob1, pob2, pob3, pob4]):\n",
    "    ax.plot(x, elem, label = '$P_{}$'.format(i + 1))\n",
    "    \n",
    "ax.set_title(\"Population\")\n",
    "ax.set_xlabel('Years')\n",
    "ax.set_ylabel('Population')\n",
    "ax.legend();"
   ]
  },
  {
   "cell_type": "code",
   "execution_count": 43,
   "id": "0e0a0343",
   "metadata": {},
   "outputs": [
    {
     "data": {
      "text/plain": [
       "[(0,\n",
       "  [30,\n",
       "   200.0,\n",
       "   124.0,\n",
       "   584.5,\n",
       "   489.29999999999995,\n",
       "   1737.3999999999999,\n",
       "   1787.8699999999997,\n",
       "   5248.1449999999995,\n",
       "   6256.466999999999,\n",
       "   16067.932999999997,\n",
       "   21316.959999999995,\n",
       "   49737.10944999999,\n",
       "   71372.99378999998,\n",
       "   155310.53376999998,\n",
       "   236152.5464269999,\n",
       "   488312.1878704999,\n",
       "   774940.6131998997,\n",
       "   1543452.6459001997,\n",
       "   2528182.926718959,\n",
       "   4898307.690911423,\n",
       "   8213574.889867217,\n",
       "   15593031.26846827,\n",
       "   26603797.88013653,\n",
       "   49752871.51298201,\n",
       "   85980706.19460078,\n",
       "   159022210.94123796,\n",
       "   277435253.2555791,\n",
       "   508931385.97759557,\n",
       "   894152906.2081101,\n",
       "   1630344112.7820594]),\n",
       " (1,\n",
       "  [35,\n",
       "   21.0,\n",
       "   140.0,\n",
       "   86.8,\n",
       "   409.15,\n",
       "   342.50999999999993,\n",
       "   1216.1799999999998,\n",
       "   1251.5089999999998,\n",
       "   3673.701499999999,\n",
       "   4379.526899999999,\n",
       "   11247.553099999997,\n",
       "   14921.871999999996,\n",
       "   34815.97661499999,\n",
       "   49961.09565299998,\n",
       "   108717.37363899998,\n",
       "   165306.78249889993,\n",
       "   341818.53150934994,\n",
       "   542458.4292399298,\n",
       "   1080416.8521301397,\n",
       "   1769728.0487032712,\n",
       "   3428815.3836379964,\n",
       "   5749502.422907052,\n",
       "   10915121.88792779,\n",
       "   18622658.51609557,\n",
       "   34827010.0590874,\n",
       "   60186494.33622054,\n",
       "   111315547.65886657,\n",
       "   194204677.27890536,\n",
       "   356251970.1843169,\n",
       "   625907034.345677]),\n",
       " (2,\n",
       "  [25,\n",
       "   17.5,\n",
       "   10.5,\n",
       "   70.0,\n",
       "   43.4,\n",
       "   204.575,\n",
       "   171.25499999999997,\n",
       "   608.0899999999999,\n",
       "   625.7544999999999,\n",
       "   1836.8507499999996,\n",
       "   2189.7634499999995,\n",
       "   5623.776549999999,\n",
       "   7460.935999999998,\n",
       "   17407.988307499996,\n",
       "   24980.54782649999,\n",
       "   54358.68681949999,\n",
       "   82653.39124944997,\n",
       "   170909.26575467497,\n",
       "   271229.2146199649,\n",
       "   540208.4260650699,\n",
       "   884864.0243516356,\n",
       "   1714407.6918189982,\n",
       "   2874751.211453526,\n",
       "   5457560.943963895,\n",
       "   9311329.258047786,\n",
       "   17413505.0295437,\n",
       "   30093247.16811027,\n",
       "   55657773.829433285,\n",
       "   97102338.63945268,\n",
       "   178125985.09215844]),\n",
       " (3,\n",
       "  [10,\n",
       "   5.0,\n",
       "   3.5,\n",
       "   2.1,\n",
       "   14.0,\n",
       "   8.68,\n",
       "   40.915,\n",
       "   34.251,\n",
       "   121.618,\n",
       "   125.15089999999998,\n",
       "   367.37014999999997,\n",
       "   437.9526899999999,\n",
       "   1124.7553099999998,\n",
       "   1492.1871999999996,\n",
       "   3481.5976614999995,\n",
       "   4996.109565299998,\n",
       "   10871.7373639,\n",
       "   16530.678249889996,\n",
       "   34181.85315093499,\n",
       "   54245.84292399298,\n",
       "   108041.68521301397,\n",
       "   176972.80487032712,\n",
       "   342881.5383637997,\n",
       "   574950.2422907052,\n",
       "   1091512.1887927789,\n",
       "   1862265.8516095572,\n",
       "   3482701.0059087407,\n",
       "   6018649.433622055,\n",
       "   11131554.765886657,\n",
       "   19420467.727890536])]"
      ]
     },
     "execution_count": 43,
     "metadata": {},
     "output_type": "execute_result"
    }
   ],
   "source": [
    "list(enumerate([pob1, pob2, pob3, pob4]))"
   ]
  },
  {
   "cell_type": "code",
   "execution_count": null,
   "id": "20e5a40d",
   "metadata": {},
   "outputs": [],
   "source": []
  },
  {
   "cell_type": "markdown",
   "id": "e503782e",
   "metadata": {},
   "source": [
    "#### Ejercicio\n",
    "\n",
    "Use una matriz de Leslie para estudiar el comportamiento de la siguiente población en los próximos 50 años, genere una gráfica que permita ver el comportamiento de cada intervalo de edades de forma independiente y otro que permita ver el comportamiento global de la población.\n",
    "\n",
    "- ¿La población crece sin medida?\n",
    "- Después de 30 años, ¿Cuál es el sector más numeroso de la población?\n",
    "\n",
    "\n",
    "|Edad(años)|Población inicial|Tasa de natalidad (individuos por año)|Probabilidad de sobrevivir|\n",
    "|:--------:|:---------------:|:------------------------------------:|:------------------------:|\n",
    "|0-5       |   100           |0|0.25|\n",
    "|5-10      |60               |1|0.5 |\n",
    "|10-15     | 20              |3|0.1 |\n",
    "|15-20     |10               |2|0.0 |\n",
    "\n"
   ]
  },
  {
   "cell_type": "code",
   "execution_count": null,
   "id": "926764e0",
   "metadata": {},
   "outputs": [],
   "source": []
  },
  {
   "cell_type": "markdown",
   "id": "9b6cbe8d",
   "metadata": {},
   "source": [
    "<h2>Modelo de Leontief (input-output)</h2>\n",
    "\n",
    "El método es utilizado para analizar las relaciones existentes entre diferentes sectores\n",
    "de producción y consumo que forman parte de la economía de una nación aunque\n",
    "en la actualidad puede ser usado en contextos más limitados, como por ejemplo,\n",
    "grandes empresas.\n",
    "\n",
    "El modelo supone que la economía a estudiar está formada por diferentes sectores\n",
    "de producción y de servicios. Existe una demanda interna que se tiene que atender\n",
    "y también una demanda externa que también hay que satisfacer.\n",
    "\n",
    "Supongamos la tabla siguiente que representa a las necesidades de demanda interna:\n",
    "\n",
    "|Producción/demanda|Agricultura|Manufactura|Servicios|Demanda Externa|Producción|\n",
    "|:----------------:|:---------:|:---------:|:-------:|:-------------:|:--------:|\n",
    "|Agricultura|600|400|1400|600|3000|\n",
    "|Manufactura|1500|800|700|1000|4000|\n",
    "|Servicios|900|2800|700|2600|7000|\n",
    "\n",
    "Para conocer que tanto necesita cada industria de las demás para llevar a cabo su producción nos apoyaremos de la matriz tecnológica denotada como $A$, la definimos como sigue:\n",
    "\n",
    "$$A = B X_p^{-1}$$\n",
    "\n",
    "Donde $X_p$ es la matriz diagonal que tiene por elementos la producción.\n",
    "\n",
    "$$\n",
    "A = \n",
    "\\begin{bmatrix}\n",
    "600&400&1400\\\\\n",
    "1500&800&700\\\\\n",
    "900&2800&700\\\\\n",
    "\\end{bmatrix}\n",
    "\\begin{bmatrix}\n",
    "\\frac{1}{3000}&0&0\\\\\n",
    "0&\\frac{1}{4000}&0\\\\\n",
    "0&0&\\frac{1}{7000}\\\\\n",
    "\\end{bmatrix}\n",
    "=\n",
    "\\begin{bmatrix}\n",
    "0.2&0.1&0.2\\\\\n",
    "0.5&0.2&0.1\\\\\n",
    "0.3&0.7&0.1\\\\\n",
    "\\end{bmatrix}\n",
    "$$\n",
    "\n",
    "\n",
    "Noten que la matriz tecnológica cumple que la suma de los valores de cada columna no puede ser mayor que 1, es decir:\n",
    "\n",
    "$$\\sum_{i = 1}^{n} a_{ij} \\leq 1$$\n",
    "\n",
    "\n",
    "Cada columna de la matriz tecnológica representa la demanda interna de la industria para producir 1 unidad de cada industria, es decir, en este ejemplo la primera columna representa la demanda interna pata producir 1 unidad del sector Agricultura, pero si en lugar que querer producir una unidad queremos producir $x_A$ unidades, tendremos que multiplicar dicha columna por $x_A$. Supongamos que la producción de cada industria es $x_A$, $x_M$, y $x_S$, entonces la demanda interna total la podemos expresar como sigue:\n",
    "\n",
    "$$\n",
    "x_A\n",
    "\\begin{bmatrix}\n",
    "0.2\\\\\n",
    "0.5\\\\\n",
    "0.3\\\\\n",
    "\\end{bmatrix}\n",
    "+\n",
    "x_M\n",
    "\\begin{bmatrix}\n",
    "0.1\\\\\n",
    "0.2\\\\\n",
    "0.7\\\\\n",
    "\\end{bmatrix}\n",
    "+\n",
    "x_S\n",
    "\\begin{bmatrix}\n",
    "0.2\\\\\n",
    "0.1\\\\\n",
    "0.1\\\\\n",
    "\\end{bmatrix}\n",
    "$$\n",
    "\n",
    "Que podemos expresar como un producto matricial de la siguiente forma:\n",
    "\n",
    "$$\n",
    "\\begin{bmatrix}\n",
    "0.2&0.1&0.2\\\\\n",
    "0.5&0.2&0.1\\\\\n",
    "0.3&0.7&0.1\\\\\n",
    "\\end{bmatrix}\n",
    "\\begin{bmatrix}\n",
    "x_A\\\\\n",
    "x_M\\\\\n",
    "x_S\\\\\n",
    "\\end{bmatrix}\n",
    "= AX\n",
    "$$\n",
    "\n",
    "\n",
    "\n",
    "A dicho producto lo llamaremos demanda interna. Ahora notemos que la producción total de las industrias debe de cubrir la demanda interna y la demanda externa al mismo tiempo, es decir:\n",
    "\n",
    "$$X = AX + D$$\n",
    "\n",
    "Esta es la ecuación de Leontief y al resolverla para $X$ podemos saber cual es la producción necesaria para cubrir una cierta demanda externa $D$.\n",
    "\n",
    "$$X - AX = D$$\n",
    "$$(I - A)X = D$$\n",
    "\n",
    "A la matriz $(I - A)$ se le conoce como matriz de Leontief, y si dicha matriz tiene inversa entonces podemos resolver la ecuación como:\n",
    "\n",
    "$$X = (I - A)^{-1}D$$"
   ]
  },
  {
   "cell_type": "markdown",
   "id": "efb3d194",
   "metadata": {},
   "source": [
    "<h3>Ejercicio</h3>\n",
    "\n",
    "\n",
    "- Generar una DF de 10 filas y 12 columnas, las filas representarán 10 industrias $I_n$, las columnas serán las 10 industrias, la demanda externa y la producción total, generar de forma aleatoria los valores de la tabla (las unidades de consumo de cada industria, la demanda externa y la producción total, recordando que la suma de las columnas no puede ser mayor que la producción total de cada empresa).\n",
    "\n",
    "- Obtener la matriz tecnológica del DF anterior\n",
    "\n",
    "- Suponga que en un estudio de mercado se determina que la demanda externa de las industrias va a cambiar según se expresa en el siguiente vector:\n",
    "\n",
    "$$\n",
    "\\begin{bmatrix}\n",
    "1.1\\\\\n",
    "0.3\\\\\n",
    "1.6\\\\\n",
    "1.0\\\\\n",
    "0.7\\\\\n",
    "0.5\\\\\n",
    "3.9\\\\\n",
    "1.2\\\\\n",
    "0.1\\\\\n",
    "2.4\\\\\n",
    "\\end{bmatrix}\n",
    "$$\n",
    "\n",
    "- obtener el vector de producción necesario para cumplir con la proyección"
   ]
  },
  {
   "cell_type": "code",
   "execution_count": null,
   "id": "1c7dfd19",
   "metadata": {},
   "outputs": [],
   "source": [
    "\n"
   ]
  }
 ],
 "metadata": {
  "kernelspec": {
   "display_name": "Python 3 (ipykernel)",
   "language": "python",
   "name": "python3"
  },
  "language_info": {
   "codemirror_mode": {
    "name": "ipython",
    "version": 3
   },
   "file_extension": ".py",
   "mimetype": "text/x-python",
   "name": "python",
   "nbconvert_exporter": "python",
   "pygments_lexer": "ipython3",
   "version": "3.10.9"
  },
  "varInspector": {
   "cols": {
    "lenName": 16,
    "lenType": 16,
    "lenVar": 40
   },
   "kernels_config": {
    "python": {
     "delete_cmd_postfix": "",
     "delete_cmd_prefix": "del ",
     "library": "var_list.py",
     "varRefreshCmd": "print(var_dic_list())"
    },
    "r": {
     "delete_cmd_postfix": ") ",
     "delete_cmd_prefix": "rm(",
     "library": "var_list.r",
     "varRefreshCmd": "cat(var_dic_list()) "
    }
   },
   "types_to_exclude": [
    "module",
    "function",
    "builtin_function_or_method",
    "instance",
    "_Feature"
   ],
   "window_display": false
  }
 },
 "nbformat": 4,
 "nbformat_minor": 5
}
