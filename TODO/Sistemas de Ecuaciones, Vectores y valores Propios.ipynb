{
 "cells": [
  {
   "cell_type": "markdown",
   "id": "f8b81a8b",
   "metadata": {},
   "source": [
    "<hr>\n",
    "<h3>Rango de una matriz</h3>\n",
    "\n",
    "\n",
    "El rango de una matriz es el número máximo de columnas (filas respectivamente) que son linealmente independientes. El rango fila y el rango columna siempre son iguales: este número es llamado simplemente rango de A. Comúnmente se expresa como $rg(A)$. En Python nos apoyaremos de la sublibrería <code>linalg</code> de <code>numpy</code> y de la función <code>matrix_rank</code> para poder conocer el rango de una matriz.\n",
    "\n",
    "<h4>Dependencia Lineal</h4>\n",
    "\n",
    "Se dice que un conjunto de  $n$  vectores son linealmente dependientes si existen escalares  $\\alpha_{i}$  no todos cero, tales que:\n",
    "\n",
    "$$\\alpha_1\\vec{x_1} +  \\alpha_2\\vec{x_2} + \\cdots + \\alpha_n\\vec{x_n} = 0$$\n",
    "\n",
    "tomemos por ejemplo los renglones de la matriz $A$:\n",
    "\n",
    "$$A_3 = \n",
    "\\begin{bmatrix}\n",
    "1 & 2 & 3\\\\\n",
    "4 & 5 & 6\\\\\n",
    "7 & 8 & 9\\\\\n",
    "\\end{bmatrix}\n",
    "$$\n",
    "\n",
    "Si tomamos $\\alpha_1 = 1$, $\\alpha_2 = -2$ y $\\alpha_3 = 1$ vemos que se cumple que:\n",
    "\n",
    "$$\n",
    "\\begin{bmatrix}\n",
    "1\\\\\n",
    "2\\\\\n",
    "3\\\\\n",
    "\\end{bmatrix}\n",
    "-\n",
    "2\n",
    "\\begin{bmatrix}\n",
    "4\\\\\n",
    "5\\\\\n",
    "6\\\\\n",
    "\\end{bmatrix}\n",
    "+\n",
    "\\begin{bmatrix}\n",
    "7\\\\\n",
    "8\\\\\n",
    "9\\\\\n",
    "\\end{bmatrix}\n",
    "= 0\n",
    "$$\n",
    " \n",
    "\n",
    "El rango de una matriz nos puede ayudar a saber si un sistema de ecuaciones tiene solución, utilizando el siguiente teorema:\n",
    "\n",
    "- Un sistema de m ecuaciones con n incógnitas $AX = B$ tiene solución si y solo si $rg(A) = rg(A|B) = r$, y en este caso si $r = n$, entonces el sistema tiene una única solución, y si $r < n$ el sistema tiene infinitas soluciones."
   ]
  },
  {
   "cell_type": "code",
   "execution_count": null,
   "id": "1e10c4c2",
   "metadata": {},
   "outputs": [],
   "source": []
  },
  {
   "cell_type": "code",
   "execution_count": 8,
   "id": "714572fb",
   "metadata": {},
   "outputs": [],
   "source": [
    "import numpy as np\n",
    "from sympy import *\n",
    "import matplotlib.pyplot as plt"
   ]
  },
  {
   "cell_type": "markdown",
   "id": "d984a26b",
   "metadata": {},
   "source": [
    "<h2>Sistemas de ecuaciones</h2>\n",
    "\n",
    "Otra aplicación que le podemos dar a las matrices y a sus determinantes es al resolver sistemas de ecuaciones, los sistemas de ecuaciones los podremos clasificar en 3 tipos según si estos tienen una (determinados), infinitas (indeterminados), o ninguna (incompatibles) tomemos como ejemplo el siguiente sistema:\n",
    "\n",
    "$$\n",
    "\\begin{eqnarray}\n",
    "3x + 2y + z  = 1 \\\\\n",
    "5x + 3y + 4z = 2 \\\\\n",
    "x + y - z = 1\n",
    "\\nonumber\n",
    "\\end{eqnarray}\n",
    "$$\n",
    "\n",
    "\n",
    "Dicho sistema lo podremos expresar de forma matricial de la siguiente forma:\n",
    "\n",
    "$$\n",
    "\\begin{bmatrix}\n",
    "3 & 2 & 1 \\\\\n",
    "5 & 3 & 4 \\\\\n",
    "1 & 1 & -1 \\\\\n",
    "\\end{bmatrix}\n",
    "\\begin{bmatrix}\n",
    "x\\\\\n",
    "y\\\\\n",
    "z\\\\\n",
    "\\end{bmatrix}\n",
    "= \n",
    "\\begin{bmatrix}\n",
    "1\\\\\n",
    "2\\\\\n",
    "1\\\\\n",
    "\\end{bmatrix}\n",
    "$$\n",
    "\n",
    "$$A X = B$$\n",
    "\n",
    "\n",
    "A la matriz $A$ la llamaremos matriz del sistema, y definiremos la matriz aumentada $AB$ como la matriz que tiene las mismas columnas de $A$, más los elementos de $B$ como una columna adicional:\n",
    "\n",
    "$$\n",
    "AB =\n",
    "\\begin{bmatrix}\n",
    "3 & 2 & 1 & 1\\\\\n",
    "5 & 3 & 4 & 2 \\\\\n",
    "1 & 1 & -1 & 1 \\\\\n",
    "\\end{bmatrix}\n",
    "$$\n",
    "\n",
    "recordemos que podemos saber si un sistema tiene solución usando el siguiente teorema:\n",
    "\n",
    "- Un sistema de m ecuaciones con n incógnitas $AX = B$ tiene solución si y solo si $rg(A) = rg(A|B) = r$, y en este caso si $r = n$, entonces el sistema tiene una única solución, y si $r < n$ el sistema tiene infinitas soluciones.\n",
    "\n",
    "\n",
    "\n",
    "\n",
    "\n",
    "\n"
   ]
  },
  {
   "cell_type": "code",
   "execution_count": 26,
   "id": "2e32a766",
   "metadata": {},
   "outputs": [],
   "source": [
    "a=np.array([[3,2,1],[5,3,4],[1,1,-1]])"
   ]
  },
  {
   "cell_type": "code",
   "execution_count": 27,
   "id": "416b2a26",
   "metadata": {},
   "outputs": [],
   "source": [
    "A=Matrix([[3,2,1],[5,3,4],[1,1,-1]])"
   ]
  },
  {
   "cell_type": "code",
   "execution_count": 28,
   "id": "af3a2e99",
   "metadata": {},
   "outputs": [
    {
     "data": {
      "text/latex": [
       "$\\displaystyle \\left[\\begin{matrix}3 & 2 & 1\\\\5 & 3 & 4\\\\1 & 1 & -1\\end{matrix}\\right]$"
      ],
      "text/plain": [
       "Matrix([\n",
       "[3, 2,  1],\n",
       "[5, 3,  4],\n",
       "[1, 1, -1]])"
      ]
     },
     "execution_count": 28,
     "metadata": {},
     "output_type": "execute_result"
    }
   ],
   "source": [
    "A"
   ]
  },
  {
   "cell_type": "code",
   "execution_count": 29,
   "id": "855bd6f8",
   "metadata": {},
   "outputs": [],
   "source": [
    "x,y,z=symbols('x,y,z')\n",
    "X=Matrix([x,y,z])"
   ]
  },
  {
   "cell_type": "code",
   "execution_count": 30,
   "id": "4b1e7187",
   "metadata": {
    "collapsed": true
   },
   "outputs": [
    {
     "data": {
      "text/latex": [
       "$\\displaystyle \\left[\\begin{matrix}x\\\\y\\\\z\\end{matrix}\\right]$"
      ],
      "text/plain": [
       "Matrix([\n",
       "[x],\n",
       "[y],\n",
       "[z]])"
      ]
     },
     "execution_count": 30,
     "metadata": {},
     "output_type": "execute_result"
    }
   ],
   "source": [
    "X"
   ]
  },
  {
   "cell_type": "code",
   "execution_count": 31,
   "id": "e09510da",
   "metadata": {},
   "outputs": [
    {
     "data": {
      "text/latex": [
       "$\\displaystyle \\left[\\begin{matrix}3 x + 2 y + z\\\\5 x + 3 y + 4 z\\\\x + y - z\\end{matrix}\\right]$"
      ],
      "text/plain": [
       "Matrix([\n",
       "[  3*x + 2*y + z],\n",
       "[5*x + 3*y + 4*z],\n",
       "[      x + y - z]])"
      ]
     },
     "execution_count": 31,
     "metadata": {},
     "output_type": "execute_result"
    }
   ],
   "source": [
    "A*X\n"
   ]
  },
  {
   "cell_type": "code",
   "execution_count": 32,
   "id": "521fef05",
   "metadata": {},
   "outputs": [
    {
     "data": {
      "text/plain": [
       "array([[ 3,  2,  1],\n",
       "       [ 5,  3,  4],\n",
       "       [ 1,  1, -1]])"
      ]
     },
     "execution_count": 32,
     "metadata": {},
     "output_type": "execute_result"
    }
   ],
   "source": [
    "a"
   ]
  },
  {
   "cell_type": "code",
   "execution_count": 33,
   "id": "824a78da",
   "metadata": {},
   "outputs": [],
   "source": [
    "b=np.array([1,2,1])"
   ]
  },
  {
   "cell_type": "code",
   "execution_count": 34,
   "id": "35faaae7",
   "metadata": {},
   "outputs": [
    {
     "data": {
      "text/plain": [
       "array([1, 2, 1])"
      ]
     },
     "execution_count": 34,
     "metadata": {},
     "output_type": "execute_result"
    }
   ],
   "source": [
    "b"
   ]
  },
  {
   "cell_type": "code",
   "execution_count": 35,
   "id": "55c35a21",
   "metadata": {},
   "outputs": [],
   "source": [
    "ab=np.column_stack([a,b])"
   ]
  },
  {
   "cell_type": "code",
   "execution_count": 36,
   "id": "afd9231c",
   "metadata": {},
   "outputs": [
    {
     "data": {
      "text/latex": [
       "$\\displaystyle \\left[\\begin{matrix}3 & 2 & 1 & 1\\\\5 & 3 & 4 & 2\\\\1 & 1 & -1 & 1\\end{matrix}\\right]$"
      ],
      "text/plain": [
       "Matrix([\n",
       "[3, 2,  1, 1],\n",
       "[5, 3,  4, 2],\n",
       "[1, 1, -1, 1]])"
      ]
     },
     "execution_count": 36,
     "metadata": {},
     "output_type": "execute_result"
    }
   ],
   "source": [
    "Matrix(ab)"
   ]
  },
  {
   "cell_type": "code",
   "execution_count": 37,
   "id": "c8ab4979",
   "metadata": {},
   "outputs": [
    {
     "data": {
      "text/plain": [
       "3"
      ]
     },
     "execution_count": 37,
     "metadata": {},
     "output_type": "execute_result"
    }
   ],
   "source": [
    "np.linalg.matrix_rank(a)"
   ]
  },
  {
   "cell_type": "code",
   "execution_count": 38,
   "id": "75d33a18",
   "metadata": {},
   "outputs": [
    {
     "data": {
      "text/plain": [
       "3"
      ]
     },
     "execution_count": 38,
     "metadata": {},
     "output_type": "execute_result"
    }
   ],
   "source": [
    "np.linalg.matrix_rank(ab)"
   ]
  },
  {
   "cell_type": "code",
   "execution_count": 39,
   "id": "89173c43",
   "metadata": {},
   "outputs": [
    {
     "data": {
      "text/plain": [
       "(3, 3)"
      ]
     },
     "execution_count": 39,
     "metadata": {},
     "output_type": "execute_result"
    }
   ],
   "source": [
    "A.shape"
   ]
  },
  {
   "cell_type": "code",
   "execution_count": 40,
   "id": "7817f67f",
   "metadata": {},
   "outputs": [
    {
     "data": {
      "text/plain": [
       "(3, 3)"
      ]
     },
     "execution_count": 40,
     "metadata": {},
     "output_type": "execute_result"
    }
   ],
   "source": [
    "a.shape"
   ]
  },
  {
   "cell_type": "code",
   "execution_count": 41,
   "id": "17900ab2",
   "metadata": {},
   "outputs": [],
   "source": [
    "import pandas as pd"
   ]
  },
  {
   "cell_type": "code",
   "execution_count": 44,
   "id": "2bc93c41",
   "metadata": {},
   "outputs": [],
   "source": [
    "df=pd.DataFrame(a)"
   ]
  },
  {
   "cell_type": "code",
   "execution_count": 45,
   "id": "bd33c7c7",
   "metadata": {},
   "outputs": [
    {
     "data": {
      "text/html": [
       "<div>\n",
       "<style scoped>\n",
       "    .dataframe tbody tr th:only-of-type {\n",
       "        vertical-align: middle;\n",
       "    }\n",
       "\n",
       "    .dataframe tbody tr th {\n",
       "        vertical-align: top;\n",
       "    }\n",
       "\n",
       "    .dataframe thead th {\n",
       "        text-align: right;\n",
       "    }\n",
       "</style>\n",
       "<table border=\"1\" class=\"dataframe\">\n",
       "  <thead>\n",
       "    <tr style=\"text-align: right;\">\n",
       "      <th></th>\n",
       "      <th>0</th>\n",
       "      <th>1</th>\n",
       "      <th>2</th>\n",
       "    </tr>\n",
       "  </thead>\n",
       "  <tbody>\n",
       "    <tr>\n",
       "      <th>0</th>\n",
       "      <td>3</td>\n",
       "      <td>2</td>\n",
       "      <td>1</td>\n",
       "    </tr>\n",
       "    <tr>\n",
       "      <th>1</th>\n",
       "      <td>5</td>\n",
       "      <td>3</td>\n",
       "      <td>4</td>\n",
       "    </tr>\n",
       "    <tr>\n",
       "      <th>2</th>\n",
       "      <td>1</td>\n",
       "      <td>1</td>\n",
       "      <td>-1</td>\n",
       "    </tr>\n",
       "  </tbody>\n",
       "</table>\n",
       "</div>"
      ],
      "text/plain": [
       "   0  1  2\n",
       "0  3  2  1\n",
       "1  5  3  4\n",
       "2  1  1 -1"
      ]
     },
     "execution_count": 45,
     "metadata": {},
     "output_type": "execute_result"
    }
   ],
   "source": [
    "df"
   ]
  },
  {
   "cell_type": "code",
   "execution_count": null,
   "id": "83b0bd7e",
   "metadata": {},
   "outputs": [],
   "source": []
  },
  {
   "cell_type": "code",
   "execution_count": null,
   "id": "5e4c234c",
   "metadata": {},
   "outputs": [],
   "source": []
  },
  {
   "cell_type": "code",
   "execution_count": null,
   "id": "9ee37b43",
   "metadata": {},
   "outputs": [],
   "source": []
  },
  {
   "cell_type": "markdown",
   "id": "446d1290",
   "metadata": {},
   "source": [
    "La matriz cuadrada de la expresión anterior se conoce como la matriz asociada al sistema, si el determinante de dicha matriz es distinto de 0, podemos garantizar que existe $A^{-1}$ y podemos escribir:\n",
    "\n",
    "$$ A^{-1} A X = A^{-1} B $$\n",
    "$$ I_n X = A^{-1} B$$\n",
    "$$ X = A^{-1} B $$\n",
    "\n",
    "Al realizar el producto $A^{-1} B$ obtendremos la solución al sistema\n",
    "\n",
    "En Numpy dentro de la subpaquetería _linalg_ tenemos la función _solve_ que nos ayuda a resolver sistemas de ecuaciones\n"
   ]
  },
  {
   "cell_type": "code",
   "execution_count": 2,
   "id": "91363406",
   "metadata": {},
   "outputs": [],
   "source": []
  },
  {
   "cell_type": "code",
   "execution_count": 4,
   "id": "d3de8c2a",
   "metadata": {},
   "outputs": [],
   "source": [
    "a=np.array([[1,2,3],[4,5,6],[7,8,9]])"
   ]
  },
  {
   "cell_type": "code",
   "execution_count": 5,
   "id": "dabc3654",
   "metadata": {},
   "outputs": [
    {
     "data": {
      "text/plain": [
       "array([[1, 2, 3],\n",
       "       [4, 5, 6],\n",
       "       [7, 8, 9]])"
      ]
     },
     "execution_count": 5,
     "metadata": {},
     "output_type": "execute_result"
    }
   ],
   "source": [
    "a"
   ]
  },
  {
   "cell_type": "code",
   "execution_count": null,
   "id": "8b79b3d3",
   "metadata": {},
   "outputs": [],
   "source": []
  },
  {
   "cell_type": "code",
   "execution_count": null,
   "id": "3ffb09a3",
   "metadata": {},
   "outputs": [],
   "source": []
  },
  {
   "cell_type": "code",
   "execution_count": null,
   "id": "1ac97f98",
   "metadata": {},
   "outputs": [],
   "source": []
  },
  {
   "cell_type": "code",
   "execution_count": null,
   "id": "e85feed4",
   "metadata": {},
   "outputs": [],
   "source": []
  },
  {
   "cell_type": "code",
   "execution_count": null,
   "id": "3b94df10",
   "metadata": {},
   "outputs": [],
   "source": []
  },
  {
   "cell_type": "code",
   "execution_count": null,
   "id": "c9c5e468",
   "metadata": {},
   "outputs": [],
   "source": []
  },
  {
   "cell_type": "markdown",
   "id": "c318184d",
   "metadata": {},
   "source": [
    "<h3>Ejercicios</h3>\n",
    "\n",
    "- En el aula de Alberto hay un total de $27$ alumnos, habiendo el doble de chicas que de chicos. ¿Cuántos chicos y chicas hay en la clase de Alberto?"
   ]
  },
  {
   "cell_type": "code",
   "execution_count": null,
   "id": "d90728aa",
   "metadata": {},
   "outputs": [],
   "source": []
  },
  {
   "cell_type": "markdown",
   "id": "7917a6d9",
   "metadata": {},
   "source": [
    "- Luis invirtió una parte de los $\\$8000$ de sus ahorros en un plan con un $3\\%$ de rentabilidad anual y la otra parte la invierte en un plan con un $5\\%$ de rentabilidad anual.\n",
    "\n",
    "¿Cuánto dinero invirtió Luis en cada plan si después de un año tiene $\\$8340$?"
   ]
  },
  {
   "cell_type": "code",
   "execution_count": null,
   "id": "c7f3c5c1",
   "metadata": {},
   "outputs": [],
   "source": []
  },
  {
   "cell_type": "markdown",
   "id": "f8c65464",
   "metadata": {},
   "source": [
    "- Un cliente de un supermercado ha pagado un total de $\\$156$ por $24l$ de leche, $6kg$ de jamón serrano y $12l$ de aceite de oliva. Calcular el precio de cada artículo, sabiendo que $1l$ de aceite cuesta el triple que $1l$ de leche\n",
    "y que $1kg$ de jamón cuesta igual que $4l$ de aceite más $4l$ de leche."
   ]
  },
  {
   "cell_type": "code",
   "execution_count": null,
   "id": "e5735569",
   "metadata": {},
   "outputs": [],
   "source": []
  },
  {
   "cell_type": "markdown",
   "id": "2e8b4009",
   "metadata": {},
   "source": [
    "$$\\vec{x}$$"
   ]
  },
  {
   "cell_type": "markdown",
   "id": "12d0d50c",
   "metadata": {},
   "source": [
    "$$ SV[\\vec{x}] = \\{ \\vec{v} | \\vec{v} = a \\vec{x} \\text{ para algún  } a \\in \\mathbb{R} \\} \\subset \\mathbb{R}^2 $$"
   ]
  },
  {
   "cell_type": "markdown",
   "id": "1523885e",
   "metadata": {},
   "source": [
    "<hr>\n",
    "<h2>Vectores y valores propios</h2>\n",
    "\n",
    "Los definiremos lo valores propios y vectores propios de una matriz cuadrada de la siguiente forma:\n",
    "\n",
    "$$ T \\vec{x} = \\lambda \\vec{x} $$\n",
    "\n",
    "Estos vectores son los llamados _vectores propios_ de $T$ y el valor $\\lambda$ que representa el factor de escalamiento del vector es llamado _valor propio_ de $T$. Podemos calcular los valores propios de una matriz cuadrada $T_n$ calculando primero el determinante de $T - \\lambda I$, que dara como resultado un polinomio de grado $n$, y luego encontrando las raíces de dicho polinomio.\n",
    "\n",
    "\n",
    "\n",
    "Empezaremos dando un sentido geométrico a los valores propios de una matriz cuadrada, pensemos por ejemplo en la matriz:\n",
    "\n",
    "$$\n",
    "T = \n",
    "\\begin{bmatrix}\n",
    "3 & 1\\\\\n",
    "0 & 2\\\\\n",
    "\\end{bmatrix}\n",
    "$$\n",
    "\n",
    "Y veamos la como una transformación lineal\n",
    "\n",
    "<img src=\"Transformación base canonica.gif\" width = 400 height = 400>\n",
    "\n",
    "Al fijarnos en u vector cualquiera vamos a fijarnos en su subespacio generado, es decir, en la recta que pasa sobre el:\n",
    "\n",
    "<img src=\"Transformación sobre subespacio generado.gif\" width = 400 height = 400>\n",
    "\n",
    "Podemos ver que la transformación saca al vector de su subespacio. Sin embargo hay algunos vectores a los que esto no les pasa.\n",
    "\n",
    "<img src=\"Transformación sobre un subespacio de un vector propio.gif\" width = 400 height = 400>\n",
    "\n",
    "Podemos ver que en el caso de esta matriz hay dos rectas sobre las cuales los vectores no son desviados, solo son escalados un factor $\\lambda$. \n",
    "\n",
    "<img src=\"Transformación sobre un subespacio de un vector propio 2.gif\" width = 400 height = 400>\n",
    "\n",
    "\n",
    "Es decir, aplicar la matriz $T$ a uno de estos vectores da como resultado un multiplo escalar del mismo vector:\n",
    "\n",
    "\n",
    "\n",
    "\n",
    "En Numpy dentro de _linalg_ tenemos las funciones _eig_ y _eigvals_ que nos ofrecen, devuelven una tupla con los valores propios, y otra de vectores propios para la primera, y un array de valores propios la segunda.\n"
   ]
  },
  {
   "cell_type": "code",
   "execution_count": null,
   "id": "815bffcf",
   "metadata": {},
   "outputs": [],
   "source": []
  },
  {
   "cell_type": "markdown",
   "id": "b921ad9b",
   "metadata": {},
   "source": [
    "Un resultado importante es que si $A_n$ tiene $n$ valores propios diferentes, entonces los vectores propios asociados a dichos valores son linealmente independientes, y podemos usarlos como una nueva base del espacio vectorial, que tiene la peculiaridad de que si vemos la matriz $A_n$ escrita en esa base, se convierte en una [matriz diagonal](#Glosario) que tiene en la diagonal los valores propios:\n",
    "\n",
    "$$\n",
    "D = \n",
    "\\begin{bmatrix}\n",
    "\\lambda_1 & 0 & \\cdots & 0\\\\\n",
    "0 & \\lambda_2 & \\cdots & 0\\\\\n",
    "\\cdots & \\cdots & \\ddots & \\cdots \\\\\n",
    "0 & 0 & \\cdots & \\lambda_n\\\\\n",
    "\\end{bmatrix}\n",
    "$$\n",
    "\n",
    "\n",
    "Y esta matriz la podemos expresar como:\n",
    "\n",
    "$$D = M^{-1}AM$$\n",
    "\n",
    "\n",
    "Donde M es la matriz que tiene por columnas los vectores propios de A"
   ]
  },
  {
   "cell_type": "code",
   "execution_count": null,
   "id": "acb38c01",
   "metadata": {},
   "outputs": [],
   "source": []
  },
  {
   "cell_type": "markdown",
   "id": "72013106",
   "metadata": {},
   "source": [
    "<h2>Modelo de Leslie</h2>\n",
    "\n",
    "Hay muchas formas de modelar el comportamiento de una población determinada, para mostrar cómo trabaja el modelo de Leslie vamos a dar un ejemplo. Imaginemos una población de insectos que tiene una esperanza de vida máxima de 4 años, los agruparemos en cuatro categorías:\n",
    "\n",
    "|Edad(años)|Población|Tasa de natalidad (individuos por año)|Probabilidad de sobrevivir|\n",
    "|:--------:|:--------|:------------------------------------:|:------------------------:|\n",
    "|0-1       |   30    |0|0.7|\n",
    "|1-2       |35       |4|0.5|\n",
    "|2-3       | 25      |2|0.2|\n",
    "|3-4       |10       |1|0.0|\n",
    "\n",
    "\n",
    "cada categoría tiene su propia tasa de natalidad expresada en individuos nacidos por año y una probabilidad de sobrevivir y ascender a la siguiente categoría. Si queremos saber cuántos individuos tendrán edades entre 0 y 1 años después de un año, es decir todos los individuos que nacieron durante ese año, tendríamos que calcularlo de la siguiente manera:\n",
    "\n",
    "- cada uno de los 30 individuos de la categoría _0-1_ tiene 0 descendientes, en total 30 * 0 = 0\n",
    "- cada uno de los 35 individuos de la categoría _1-2_ tiene 4 descendientes, en total 35 * 4 = 140\n",
    "- cada uno de los 25 individuos de la categoría _2-3_ tiene 2 descendientes, en total 25 * 2 = 50\n",
    "- cada uno de los 10 individuos de la categoría _3-4_ tiene 1 descendientes, en total 10 * 1 = 10\n",
    "\n",
    "Esto nos da un total de 200 nacidos en después de un año. Ahora imaginemos que queremos saber cuántos individuos entre 1 y 2 años de edad tendremos después de 1 año. En este caso haríamos lo siguiente:\n",
    "\n",
    "- El 70% de los individuos de la primer categoría sobrevivieron para alcanzar la segunda, es decir:  30 * 0.7 = 21 \n",
    "\n",
    "Este análisis se puede simplificar enormemente usando una matriz de Leslie, la matriz de Leslie es una matriz cuadrada, su primer renglón está formado por las tasas de natalidad de todas las categorías, los demás elementos son 0 excepto los elementos de la diagonal menor que contienen las probabilidades de supervivencia.\n",
    "\n",
    "$$\n",
    "L =\n",
    "\\begin{bmatrix}\n",
    "0 & 4 & 2 & 1\\\\\n",
    "0.7 & 0 & 0 & 0\\\\\n",
    "0 & 0.5 & 0 & 0\\\\\n",
    "0 & 0 & 0.2 & 0\\\\\n",
    "\\end{bmatrix}\n",
    "$$\n",
    "\n",
    "Esta matriz, junto con un vector columna con la población inicial de cada categoría, nos facilita mucho el análisis de la dinámica de la población. Sea $\\vec{x_0}$ el vector de poblaciones iniciales:\n",
    "\n",
    "$$\n",
    "\\vec{x_0} = \n",
    "\\begin{bmatrix}\n",
    "30\\\\\n",
    "35\\\\\n",
    "25\\\\\n",
    "10\n",
    "\\end{bmatrix}\n",
    "$$\n",
    "\n",
    "Podemos calcular la población después de un año $\\vec{x_1}$ haciendo $\\vec{x_1} = L \\vec{x_0}$\n",
    "\n",
    "$$\n",
    "\\vec{x_1} = \n",
    "\\begin{bmatrix}\n",
    "0 & 4 & 2 & 1\\\\\n",
    "0.7 & 0 & 0 & 0\\\\\n",
    "0 & 0.5 & 0 & 0\\\\\n",
    "0 & 0 & 0.2 & 0\\\\\n",
    "\\end{bmatrix}\n",
    "\\begin{bmatrix}\n",
    "30\\\\\n",
    "35\\\\\n",
    "25\\\\\n",
    "10\n",
    "\\end{bmatrix}\n",
    "=\n",
    "\\begin{bmatrix}\n",
    "200\\\\\n",
    "21\\\\\n",
    "17.5\\\\\n",
    "5\n",
    "\\end{bmatrix}\n",
    "$$\n",
    "\n",
    "En general, conocer la población después de $n$ años simplemente lo hacemos calculando:\n",
    "\n",
    "$$ \\vec{x_n} = L^n \\vec{x_0}$$\n",
    "\n",
    "\n",
    "La matriz de Leslie tiene la propiedad de tener un único valor característico positivo $\\lambda_1$ que representa la tasa de crecimiento de la población, si $\\lambda_1 < 1$ la población disminuye y si $\\lambda_1 > 1$ esta aumenta.\n",
    "\n",
    "\n",
    "\n"
   ]
  },
  {
   "cell_type": "code",
   "execution_count": 1,
   "id": "1bd3105e",
   "metadata": {},
   "outputs": [
    {
     "ename": "NameError",
     "evalue": "name 'np' is not defined",
     "output_type": "error",
     "traceback": [
      "\u001b[1;31m---------------------------------------------------------------------------\u001b[0m",
      "\u001b[1;31mNameError\u001b[0m                                 Traceback (most recent call last)",
      "Cell \u001b[1;32mIn[1], line 1\u001b[0m\n\u001b[1;32m----> 1\u001b[0m L \u001b[38;5;241m=\u001b[39m \u001b[43mnp\u001b[49m\u001b[38;5;241m.\u001b[39marray([[\u001b[38;5;241m1\u001b[39m,\u001b[38;5;241m4\u001b[39m,\u001b[38;5;241m2\u001b[39m,\u001b[38;5;241m1\u001b[39m],[\u001b[38;5;241m0.7\u001b[39m,\u001b[38;5;241m0\u001b[39m,\u001b[38;5;241m0\u001b[39m,\u001b[38;5;241m0\u001b[39m],[\u001b[38;5;241m0\u001b[39m,\u001b[38;5;241m0.5\u001b[39m,\u001b[38;5;241m0\u001b[39m,\u001b[38;5;241m0\u001b[39m],[\u001b[38;5;241m0\u001b[39m,\u001b[38;5;241m0\u001b[39m,\u001b[38;5;241m0.2\u001b[39m,\u001b[38;5;241m0\u001b[39m]])\n",
      "\u001b[1;31mNameError\u001b[0m: name 'np' is not defined"
     ]
    }
   ],
   "source": [
    "L = np.array([[1,4,2,1],[0.7,0,0,0],[0,0.5,0,0],[0,0,0.2,0]])"
   ]
  },
  {
   "cell_type": "markdown",
   "id": "e503782e",
   "metadata": {},
   "source": [
    "#### Ejercicio\n",
    "\n",
    "Use una matriz de Leslie para estudiar el comportamiento de la siguiente población en los próximos 50 años, genere una gráfica que permita ver el comportamiento de cada intervalo de edades de forma independiente y otro que permita ver el comportamiento global de la población.\n",
    "\n",
    "- ¿La población crece sin medida?\n",
    "- Después de 30 años, ¿Cuál es el sector más numeroso de la población?\n",
    "\n",
    "\n",
    "|Edad(años)|Población inicial|Tasa de natalidad (individuos por año)|Probabilidad de sobrevivir|\n",
    "|:--------:|:---------------:|:------------------------------------:|:------------------------:|\n",
    "|0-5       |   100           |0|0.25|\n",
    "|5-10      |60               |1|0.5 |\n",
    "|10-15     | 20              |3|0.1 |\n",
    "|15-20     |10               |2|0.0 |\n",
    "\n"
   ]
  },
  {
   "cell_type": "code",
   "execution_count": null,
   "id": "926764e0",
   "metadata": {},
   "outputs": [],
   "source": []
  },
  {
   "cell_type": "markdown",
   "id": "9b6cbe8d",
   "metadata": {},
   "source": [
    "<h2>Modelo de Leontief (input-output)</h2>\n",
    "\n",
    "El método es utilizado para analizar las relaciones existentes entre diferentes sectores\n",
    "de producción y consumo que forman parte de la economía de una nación aunque\n",
    "en la actualidad puede ser usado en contextos más limitados, como por ejemplo,\n",
    "grandes empresas.\n",
    "\n",
    "El modelo supone que la economía a estudiar está formada por diferentes sectores\n",
    "de producción y de servicios. Existe una demanda interna que se tiene que atender\n",
    "y también una demanda externa que también hay que satisfacer.\n",
    "\n",
    "Supongamos la tabla siguiente que representa a las necesidades de demanda interna:\n",
    "\n",
    "|Producción/demanda|Agricultura|Manufactura|Servicios|Demanda Externa|Producción|\n",
    "|:----------------:|:---------:|:---------:|:-------:|:-------------:|:--------:|\n",
    "|Agricultura|600|400|1400|600|3000|\n",
    "|Manufactura|1500|800|700|1000|4000|\n",
    "|Servicios|900|2800|700|2600|7000|\n",
    "\n",
    "Para conocer que tanto necesita cada industria de las demás para llevar a cabo su producción nos apoyaremos de la matriz tecnológica denotada como $A$, la definimos como sigue:\n",
    "\n",
    "$$A = B X_p^{-1}$$\n",
    "\n",
    "Donde $X_p$ es la matriz diagonal que tiene por elementos la producción.\n",
    "\n",
    "$$\n",
    "A = \n",
    "\\begin{bmatrix}\n",
    "600&400&1400\\\\\n",
    "1500&800&700\\\\\n",
    "900&2800&700\\\\\n",
    "\\end{bmatrix}\n",
    "\\begin{bmatrix}\n",
    "\\frac{1}{3000}&0&0\\\\\n",
    "0&\\frac{1}{4000}&0\\\\\n",
    "0&0&\\frac{1}{7000}\\\\\n",
    "\\end{bmatrix}\n",
    "=\n",
    "\\begin{bmatrix}\n",
    "0.2&0.1&0.2\\\\\n",
    "0.5&0.2&0.1\\\\\n",
    "0.3&0.7&0.1\\\\\n",
    "\\end{bmatrix}\n",
    "$$\n",
    "\n",
    "\n",
    "Noten que la matriz tecnológica cumple que la suma de los valores de cada columna no puede ser mayor que 1, es decir:\n",
    "\n",
    "$$\\sum_{i = 1}^{n} a_{ij} \\leq 1$$\n",
    "\n",
    "\n",
    "Cada columna de la matriz tecnológica representa la demanda interna de la industria para producir 1 unidad de cada industria, es decir, en este ejemplo la primera columna representa la demanda interna pata producir 1 unidad del sector Agricultura, pero si en lugar que querer producir una unidad queremos producir $x_A$ unidades, tendremos que multiplicar dicha columna por $x_A$. Supongamos que la producción de cada industria es $x_A$, $x_M$, y $x_S$, entonces la demanda interna total la podemos expresar como sigue:\n",
    "\n",
    "$$\n",
    "x_A\n",
    "\\begin{bmatrix}\n",
    "0.2\\\\\n",
    "0.5\\\\\n",
    "0.3\\\\\n",
    "\\end{bmatrix}\n",
    "+\n",
    "x_M\n",
    "\\begin{bmatrix}\n",
    "0.1\\\\\n",
    "0.2\\\\\n",
    "0.7\\\\\n",
    "\\end{bmatrix}\n",
    "+\n",
    "x_S\n",
    "\\begin{bmatrix}\n",
    "0.2\\\\\n",
    "0.1\\\\\n",
    "0.1\\\\\n",
    "\\end{bmatrix}\n",
    "$$\n",
    "\n",
    "Que podemos expresar como un producto matricial de la siguiente forma:\n",
    "\n",
    "$$\n",
    "\\begin{bmatrix}\n",
    "0.2&0.1&0.2\\\\\n",
    "0.5&0.2&0.1\\\\\n",
    "0.3&0.7&0.1\\\\\n",
    "\\end{bmatrix}\n",
    "\\begin{bmatrix}\n",
    "x_A\\\\\n",
    "x_M\\\\\n",
    "x_S\\\\\n",
    "\\end{bmatrix}\n",
    "= AX\n",
    "$$\n",
    "\n",
    "\n",
    "\n",
    "A dicho producto lo llamaremos demanda interna. Ahora notemos que la producción total de las industrias debe de cubrir la demanda interna y la demanda externa al mismo tiempo, es decir:\n",
    "\n",
    "$$X = AX + D$$\n",
    "\n",
    "Esta es la ecuación de Leontief y al resolverla para $X$ podemos saber cual es la producción necesaria para cubrir una cierta demanda externa $D$.\n",
    "\n",
    "$$X - AX = D$$\n",
    "$$(I - A)X = D$$\n",
    "\n",
    "A la matriz $(I - A)$ se le conoce como matriz de Leontief, y si dicha matriz tiene inversa entonces podemos resolver la ecuación como:\n",
    "\n",
    "$$X = (I - A)^{-1}D$$"
   ]
  },
  {
   "cell_type": "markdown",
   "id": "efb3d194",
   "metadata": {},
   "source": [
    "<h3>Ejercicio</h3>\n",
    "\n",
    "\n",
    "- Generar una DF de 10 filas y 12 columnas, las filas representarán 10 industrias $I_n$, las columnas serán las 10 industrias, la demanda externa y la producción total, generar de forma aleatoria los valores de la tabla (las unidades de consumo de cada industria, la demanda externa y la producción total, recordando que la suma de las columnas no puede ser mayor que la producción total de cada empresa).\n",
    "\n",
    "- Obtener la matriz tecnológica del DF anterior\n",
    "\n",
    "- Suponga que en un estudio de mercado se determina que la demanda externa de las industrias va a cambiar según se expresa en el siguiente vector:\n",
    "\n",
    "$$\n",
    "\\begin{bmatrix}\n",
    "1.1\\\\\n",
    "0.3\\\\\n",
    "1.6\\\\\n",
    "1.0\\\\\n",
    "0.7\\\\\n",
    "0.5\\\\\n",
    "3.9\\\\\n",
    "1.2\\\\\n",
    "0.1\\\\\n",
    "2.4\\\\\n",
    "\\end{bmatrix}\n",
    "$$\n",
    "\n",
    "- obtener el vector de producción necesario para cumplir con la proyección"
   ]
  },
  {
   "cell_type": "code",
   "execution_count": null,
   "id": "1c7dfd19",
   "metadata": {},
   "outputs": [],
   "source": [
    "\n"
   ]
  }
 ],
 "metadata": {
  "kernelspec": {
   "display_name": "Python 3 (ipykernel)",
   "language": "python",
   "name": "python3"
  },
  "language_info": {
   "codemirror_mode": {
    "name": "ipython",
    "version": 3
   },
   "file_extension": ".py",
   "mimetype": "text/x-python",
   "name": "python",
   "nbconvert_exporter": "python",
   "pygments_lexer": "ipython3",
   "version": "3.10.9"
  },
  "varInspector": {
   "cols": {
    "lenName": 16,
    "lenType": 16,
    "lenVar": 40
   },
   "kernels_config": {
    "python": {
     "delete_cmd_postfix": "",
     "delete_cmd_prefix": "del ",
     "library": "var_list.py",
     "varRefreshCmd": "print(var_dic_list())"
    },
    "r": {
     "delete_cmd_postfix": ") ",
     "delete_cmd_prefix": "rm(",
     "library": "var_list.r",
     "varRefreshCmd": "cat(var_dic_list()) "
    }
   },
   "types_to_exclude": [
    "module",
    "function",
    "builtin_function_or_method",
    "instance",
    "_Feature"
   ],
   "window_display": false
  }
 },
 "nbformat": 4,
 "nbformat_minor": 5
}
