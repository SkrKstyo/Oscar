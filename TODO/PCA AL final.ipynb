{
 "cells": [
  {
   "cell_type": "markdown",
   "id": "moral-revolution",
   "metadata": {},
   "source": [
    "# Contenido\n",
    "\n",
    "- [PCA](#PCA)\n",
    "    - [Media de un Data set o valor esperado](#Media-de-un-Data-set-o-valor-esperado)\n",
    "    - [Varianza de un Data set](#Varianza-de-un-Data-set)\n",
    "    - [Producto punto y proyección en un subespacio](#Producto-punto-y-proyección-en-un-subespacio)\n",
    "    - [Proyección ortogonal en múltiples dimensiones](#Proyección-ortogonal-en-múltiples-dimensiones)\n",
    "    - [La idea detrás de PCA](#La-idea-detrás-de-PCA)\n",
    "    \n",
    "    \n",
    "- [Ejemplo: Iris Data Set](#Ejemplo:-Iris-Data-Set)\n",
    "\n",
    "\n",
    "- [Ejercicio](#Ejercicio)"
   ]
  },
  {
   "cell_type": "markdown",
   "id": "eastern-association",
   "metadata": {},
   "source": [
    "## PCA \n",
    "\n",
    "\n",
    "El análisis de componentes principales es una técnica utilizada para describir un conjunto de datos en términos de nuevas variables (`componentes`) no correlacionadas. Los componentes se ordenan por la cantidad de varianza original que describen, por lo que la técnica es útil para reducir la dimensionalidad de un conjunto de datos.\n",
    "\n",
    "\n",
    "Vamos a construir poco a poco la idea detrás del PCA."
   ]
  },
  {
   "cell_type": "markdown",
   "id": "angry-runner",
   "metadata": {},
   "source": [
    "[Regresar al contenido](#Contenido)"
   ]
  },
  {
   "cell_type": "markdown",
   "id": "unknown-beaver",
   "metadata": {},
   "source": [
    "### Media de un Data set o valor esperado\n",
    "\n",
    "\n",
    "Este es un concepto equivalente a la media aritmética, pero extendido a conjuntos de vectores, cuando pensemos en un data set (DataFrame), podemos pensar que es un conjunto de vectores, en el que cada vector es una observación individual, simplemente diremos que si tenemos un data set $D$, formado por n vectores $\\vec{x}$ en $\\mathbb{R}^d$, la media del data set, o el _valor esperado_ será:\n",
    "\n",
    "\n",
    "$$E[D] = \\frac{1}{n} \\sum_{i= 1}^n \\vec{x_i}$$\n",
    "\n",
    "\n",
    "Cabe destacar que el valor esperado de $D$ no necesariamente es un punto dentro de $D$."
   ]
  },
  {
   "cell_type": "code",
   "execution_count": 1,
   "id": "ae8b339d",
   "metadata": {},
   "outputs": [],
   "source": [
    "import numpy as np"
   ]
  },
  {
   "cell_type": "code",
   "execution_count": 2,
   "id": "1224d9d3",
   "metadata": {},
   "outputs": [],
   "source": [
    "m = np.random.randint(1, 15, (30, 3))"
   ]
  },
  {
   "cell_type": "code",
   "execution_count": 3,
   "id": "c197d3a9",
   "metadata": {},
   "outputs": [
    {
     "data": {
      "text/plain": [
       "array([[ 8,  7,  6],\n",
       "       [ 7,  9, 13],\n",
       "       [ 3,  5,  9],\n",
       "       [ 5,  3, 12],\n",
       "       [10,  3, 14],\n",
       "       [12,  8, 13],\n",
       "       [ 5,  8, 10],\n",
       "       [ 6, 12,  1],\n",
       "       [11,  2,  3],\n",
       "       [12,  9,  8],\n",
       "       [13, 13,  5],\n",
       "       [ 7,  3,  4],\n",
       "       [ 4,  5,  5],\n",
       "       [ 5, 11, 14],\n",
       "       [ 2,  2, 13],\n",
       "       [10, 12,  5],\n",
       "       [ 7,  7, 11],\n",
       "       [11,  3,  3],\n",
       "       [14,  7,  5],\n",
       "       [11,  2,  5],\n",
       "       [12, 12,  1],\n",
       "       [11,  2, 10],\n",
       "       [11, 14,  7],\n",
       "       [10,  8, 13],\n",
       "       [10, 10, 11],\n",
       "       [ 2,  7,  3],\n",
       "       [12,  5, 13],\n",
       "       [ 1,  4, 10],\n",
       "       [12,  7, 11],\n",
       "       [ 3, 14, 11]])"
      ]
     },
     "execution_count": 3,
     "metadata": {},
     "output_type": "execute_result"
    }
   ],
   "source": [
    "m"
   ]
  },
  {
   "cell_type": "code",
   "execution_count": 4,
   "id": "12c8775c",
   "metadata": {},
   "outputs": [],
   "source": [
    "mu = np.zeros(3)"
   ]
  },
  {
   "cell_type": "code",
   "execution_count": 5,
   "id": "d11f715d",
   "metadata": {},
   "outputs": [
    {
     "data": {
      "text/plain": [
       "array([0., 0., 0.])"
      ]
     },
     "execution_count": 5,
     "metadata": {},
     "output_type": "execute_result"
    }
   ],
   "source": [
    "mu"
   ]
  },
  {
   "cell_type": "code",
   "execution_count": 6,
   "id": "8244b7ec",
   "metadata": {},
   "outputs": [],
   "source": [
    "for vec in m:\n",
    "    mu += vec"
   ]
  },
  {
   "cell_type": "code",
   "execution_count": 8,
   "id": "14d1c31e",
   "metadata": {},
   "outputs": [
    {
     "data": {
      "text/plain": [
       "30"
      ]
     },
     "execution_count": 8,
     "metadata": {},
     "output_type": "execute_result"
    }
   ],
   "source": [
    "m.shape[0]"
   ]
  },
  {
   "cell_type": "code",
   "execution_count": 9,
   "id": "9bfcb942",
   "metadata": {},
   "outputs": [],
   "source": [
    "mu /= m.shape[0]"
   ]
  },
  {
   "cell_type": "code",
   "execution_count": 10,
   "id": "7013d2a6",
   "metadata": {},
   "outputs": [
    {
     "data": {
      "text/plain": [
       "array([8.23333333, 7.13333333, 8.3       ])"
      ]
     },
     "execution_count": 10,
     "metadata": {},
     "output_type": "execute_result"
    }
   ],
   "source": [
    "mu"
   ]
  },
  {
   "cell_type": "code",
   "execution_count": 13,
   "id": "9ba44437",
   "metadata": {},
   "outputs": [
    {
     "data": {
      "text/plain": [
       "array([8.23333333, 7.13333333, 8.3       ])"
      ]
     },
     "execution_count": 13,
     "metadata": {},
     "output_type": "execute_result"
    }
   ],
   "source": [
    "m.mean(axis = 0)"
   ]
  },
  {
   "cell_type": "code",
   "execution_count": 15,
   "id": "6682a747",
   "metadata": {},
   "outputs": [],
   "source": [
    "m.mean(axis = 1);"
   ]
  },
  {
   "cell_type": "code",
   "execution_count": 16,
   "id": "653e4848",
   "metadata": {},
   "outputs": [],
   "source": [
    "import matplotlib.pyplot as plt\n",
    "from jupyterthemes import jtplot\n",
    "jtplot.style()"
   ]
  },
  {
   "cell_type": "code",
   "execution_count": 23,
   "id": "82460ca7",
   "metadata": {},
   "outputs": [
    {
     "data": {
      "image/png": "[encoded data removed]",
      "text/plain": [
       "<Figure size 1000x1000 with 1 Axes>"
      ]
     },
     "metadata": {},
     "output_type": "display_data"
    }
   ],
   "source": [
    "fig, ax = plt.subplots(subplot_kw = {'projection' : '3d'}, figsize = (10, 10))\n",
    "\n",
    "ax.scatter3D(m[:, 0], m[:, 1], m[:, 2], s = 50)\n",
    "\n",
    "ax.scatter3D(mu[0], mu[1], mu[2], color = 'r', s = 250, marker = '*');"
   ]
  },
  {
   "cell_type": "code",
   "execution_count": null,
   "id": "3768bfaa",
   "metadata": {},
   "outputs": [],
   "source": []
  },
  {
   "cell_type": "code",
   "execution_count": null,
   "id": "877d3e50",
   "metadata": {},
   "outputs": [],
   "source": []
  },
  {
   "cell_type": "code",
   "execution_count": null,
   "id": "861894fc",
   "metadata": {},
   "outputs": [],
   "source": []
  },
  {
   "cell_type": "markdown",
   "id": "plastic-april",
   "metadata": {},
   "source": [
    "[Regresar al contenido](#Contenido)"
   ]
  },
  {
   "cell_type": "markdown",
   "id": "cardiac-labor",
   "metadata": {},
   "source": [
    "### Varianza de un Data set\n",
    "\n",
    "\n",
    "Anterior mente habíamos hablado de la varianza como una medida que nos permite hacernos una idea de que tan dispersos están los datos, notemos que podemos tener dos data set $D_1$ y $D_2$ con la misma media:\n",
    "\n",
    "$$D_1 = {1, 2, 4, 5}$$\n",
    "\n",
    "$$D_2 = {-1, 7, 3}$$\n",
    "\n",
    "Note que $E[D_1] = E[D_2] = 3$, en principio la media no nos ayuda a poder diferenciar estos dos data sets, y para poder hacernos una idea de en que se diferencian vamos a observar la varianza. Para este caso unidimensional tenemos que:\n",
    "\n",
    "$$var[D] = \\frac{1}{n} \\sum_{i= 1}^n (x_i - \\mu)^2$$\n",
    "\n"
   ]
  },
  {
   "cell_type": "markdown",
   "id": "f7c4be71",
   "metadata": {},
   "source": [
    "$$foo[D] = \\frac{1}{n} \\sum_{i= 1}^n (x_i - \\mu)$$\n"
   ]
  },
  {
   "cell_type": "markdown",
   "id": "24e6b2b8",
   "metadata": {},
   "source": [
    "$$foo[D] = \\frac{1}{n} (\\sum_{i= 1}^nx_i - \\sum_{i= 1}^n\\mu)$$"
   ]
  },
  {
   "cell_type": "markdown",
   "id": "6d7524cc",
   "metadata": {},
   "source": [
    "$$foo[D] = \\frac{1}{n} \\sum_{i= 1}^nx_i -  \\frac{1}{n} \\sum_{i= 1}^n\\mu$$"
   ]
  },
  {
   "cell_type": "markdown",
   "id": "26b6c2c4",
   "metadata": {},
   "source": [
    "$$foo[D] = \\mu - \\mu = 0$$"
   ]
  },
  {
   "cell_type": "markdown",
   "id": "72939dd4",
   "metadata": {},
   "source": [
    "Donde $\\mu = E[D]$, con esta definición tenemos que $var[D_1] = \\frac{10}{11}$ y $var[D_2] = \\frac{32}{3}$. Una varianza mayor nos indica que los elementos del data set están menos concentrados alrededor de la media, están más dispersos. Ahora extenderemos esta definición a dimensiones más altas. El primer problema que encontramos es que no hay algo como _vectores cuadrados_ por lo que la definición anterior queda obsoleta. Para poder dar una definición útil rescataremos el concepto de covarianza:\n",
    "\n",
    "$$cov[x, y] = \\frac{1}{n} \\sum_{i= 1}^n (x_i - \\mu_x)(y_i - \\mu_y) = E[(x - \\mu_x)(y - \\mu_y)]$$\n",
    "\n",
    "\n",
    "Donde $\\mu_x = E[x]$ y $\\mu_y = E[y]$. Como habíamos mencionado antes la varianza de $x$ puede ser entendida como $cov[x, x]$. Una vez rescatado este concepto definiremos la _matriz de covarianza_\n",
    "\n",
    "Sea $D$ un vector aleatorio formado por $d$ variables aleatorias $C_1, \\cdots, C_d$ y que forman a nuestro data set $X_1, \\cdots, X_n$, la matriz de covarianza de $D$ como:\n",
    "\n",
    "$$var[D] = E[(D - \\mu)^T(D - \\mu)]$$\n",
    "\n",
    "Que es una matriz simétrica de valores reales (no todos positivos) que tiene el siguiente aspecto:\n",
    "\n",
    "\n",
    "$$\n",
    "\\begin{bmatrix}\n",
    "var[C_1] & cov[C_1, C_2] & \\cdots & cov[C_1, C_d]\\\\\n",
    "cov[C_2, C_1] & var[C_2] & \\cdots & cov[C_2, C_d]\\\\\n",
    "\\vdots & \\vdots & \\cdots & \\vdots\\\\\n",
    "cov[C_d, C_1] & cov[C_d, C_2] & \\cdots & var[C_d]\\\\\n",
    "\\end{bmatrix}\n",
    "$$"
   ]
  },
  {
   "cell_type": "code",
   "execution_count": 106,
   "id": "polished-outside",
   "metadata": {},
   "outputs": [],
   "source": [
    "import pandas as pd\n",
    "import seaborn as sns\n",
    "from sympy import *"
   ]
  },
  {
   "cell_type": "code",
   "execution_count": 25,
   "id": "9d8129a1",
   "metadata": {},
   "outputs": [],
   "source": [
    "planets = sns.load_dataset('planets')"
   ]
  },
  {
   "cell_type": "code",
   "execution_count": 26,
   "id": "f3807a3e",
   "metadata": {},
   "outputs": [
    {
     "data": {
      "text/html": [
       "<div>\n",
       "<style scoped>\n",
       "    .dataframe tbody tr th:only-of-type {\n",
       "        vertical-align: middle;\n",
       "    }\n",
       "\n",
       "    .dataframe tbody tr th {\n",
       "        vertical-align: top;\n",
       "    }\n",
       "\n",
       "    .dataframe thead th {\n",
       "        text-align: right;\n",
       "    }\n",
       "</style>\n",
       "<table border=\"1\" class=\"dataframe\">\n",
       "  <thead>\n",
       "    <tr style=\"text-align: right;\">\n",
       "      <th></th>\n",
       "      <th>method</th>\n",
       "      <th>number</th>\n",
       "      <th>orbital_period</th>\n",
       "      <th>mass</th>\n",
       "      <th>distance</th>\n",
       "      <th>year</th>\n",
       "    </tr>\n",
       "  </thead>\n",
       "  <tbody>\n",
       "    <tr>\n",
       "      <th>0</th>\n",
       "      <td>Radial Velocity</td>\n",
       "      <td>1</td>\n",
       "      <td>269.300</td>\n",
       "      <td>7.10</td>\n",
       "      <td>77.40</td>\n",
       "      <td>2006</td>\n",
       "    </tr>\n",
       "    <tr>\n",
       "      <th>1</th>\n",
       "      <td>Radial Velocity</td>\n",
       "      <td>1</td>\n",
       "      <td>874.774</td>\n",
       "      <td>2.21</td>\n",
       "      <td>56.95</td>\n",
       "      <td>2008</td>\n",
       "    </tr>\n",
       "    <tr>\n",
       "      <th>2</th>\n",
       "      <td>Radial Velocity</td>\n",
       "      <td>1</td>\n",
       "      <td>763.000</td>\n",
       "      <td>2.60</td>\n",
       "      <td>19.84</td>\n",
       "      <td>2011</td>\n",
       "    </tr>\n",
       "    <tr>\n",
       "      <th>3</th>\n",
       "      <td>Radial Velocity</td>\n",
       "      <td>1</td>\n",
       "      <td>326.030</td>\n",
       "      <td>19.40</td>\n",
       "      <td>110.62</td>\n",
       "      <td>2007</td>\n",
       "    </tr>\n",
       "    <tr>\n",
       "      <th>4</th>\n",
       "      <td>Radial Velocity</td>\n",
       "      <td>1</td>\n",
       "      <td>516.220</td>\n",
       "      <td>10.50</td>\n",
       "      <td>119.47</td>\n",
       "      <td>2009</td>\n",
       "    </tr>\n",
       "  </tbody>\n",
       "</table>\n",
       "</div>"
      ],
      "text/plain": [
       "            method  number  orbital_period   mass  distance  year\n",
       "0  Radial Velocity       1         269.300   7.10     77.40  2006\n",
       "1  Radial Velocity       1         874.774   2.21     56.95  2008\n",
       "2  Radial Velocity       1         763.000   2.60     19.84  2011\n",
       "3  Radial Velocity       1         326.030  19.40    110.62  2007\n",
       "4  Radial Velocity       1         516.220  10.50    119.47  2009"
      ]
     },
     "execution_count": 26,
     "metadata": {},
     "output_type": "execute_result"
    }
   ],
   "source": [
    "planets.head()"
   ]
  },
  {
   "cell_type": "code",
   "execution_count": 27,
   "id": "a5856c97",
   "metadata": {},
   "outputs": [
    {
     "data": {
      "text/html": [
       "<div>\n",
       "<style scoped>\n",
       "    .dataframe tbody tr th:only-of-type {\n",
       "        vertical-align: middle;\n",
       "    }\n",
       "\n",
       "    .dataframe tbody tr th {\n",
       "        vertical-align: top;\n",
       "    }\n",
       "\n",
       "    .dataframe thead th {\n",
       "        text-align: right;\n",
       "    }\n",
       "</style>\n",
       "<table border=\"1\" class=\"dataframe\">\n",
       "  <thead>\n",
       "    <tr style=\"text-align: right;\">\n",
       "      <th></th>\n",
       "      <th>method</th>\n",
       "      <th>number</th>\n",
       "      <th>orbital_period</th>\n",
       "      <th>mass</th>\n",
       "      <th>distance</th>\n",
       "      <th>year</th>\n",
       "    </tr>\n",
       "  </thead>\n",
       "  <tbody>\n",
       "    <tr>\n",
       "      <th>1030</th>\n",
       "      <td>Transit</td>\n",
       "      <td>1</td>\n",
       "      <td>3.941507</td>\n",
       "      <td>NaN</td>\n",
       "      <td>172.0</td>\n",
       "      <td>2006</td>\n",
       "    </tr>\n",
       "    <tr>\n",
       "      <th>1031</th>\n",
       "      <td>Transit</td>\n",
       "      <td>1</td>\n",
       "      <td>2.615864</td>\n",
       "      <td>NaN</td>\n",
       "      <td>148.0</td>\n",
       "      <td>2007</td>\n",
       "    </tr>\n",
       "    <tr>\n",
       "      <th>1032</th>\n",
       "      <td>Transit</td>\n",
       "      <td>1</td>\n",
       "      <td>3.191524</td>\n",
       "      <td>NaN</td>\n",
       "      <td>174.0</td>\n",
       "      <td>2007</td>\n",
       "    </tr>\n",
       "    <tr>\n",
       "      <th>1033</th>\n",
       "      <td>Transit</td>\n",
       "      <td>1</td>\n",
       "      <td>4.125083</td>\n",
       "      <td>NaN</td>\n",
       "      <td>293.0</td>\n",
       "      <td>2008</td>\n",
       "    </tr>\n",
       "    <tr>\n",
       "      <th>1034</th>\n",
       "      <td>Transit</td>\n",
       "      <td>1</td>\n",
       "      <td>4.187757</td>\n",
       "      <td>NaN</td>\n",
       "      <td>260.0</td>\n",
       "      <td>2008</td>\n",
       "    </tr>\n",
       "  </tbody>\n",
       "</table>\n",
       "</div>"
      ],
      "text/plain": [
       "       method  number  orbital_period  mass  distance  year\n",
       "1030  Transit       1        3.941507   NaN     172.0  2006\n",
       "1031  Transit       1        2.615864   NaN     148.0  2007\n",
       "1032  Transit       1        3.191524   NaN     174.0  2007\n",
       "1033  Transit       1        4.125083   NaN     293.0  2008\n",
       "1034  Transit       1        4.187757   NaN     260.0  2008"
      ]
     },
     "execution_count": 27,
     "metadata": {},
     "output_type": "execute_result"
    }
   ],
   "source": [
    "planets.tail()"
   ]
  },
  {
   "cell_type": "code",
   "execution_count": 28,
   "id": "9fe4fb9f",
   "metadata": {},
   "outputs": [
    {
     "data": {
      "text/plain": [
       "(1035, 6)"
      ]
     },
     "execution_count": 28,
     "metadata": {},
     "output_type": "execute_result"
    }
   ],
   "source": [
    "planets.shape"
   ]
  },
  {
   "cell_type": "code",
   "execution_count": 31,
   "id": "7c8f3ec7",
   "metadata": {},
   "outputs": [
    {
     "name": "stdout",
     "output_type": "stream",
     "text": [
      "Help on method cov in module pandas.core.frame:\n",
      "\n",
      "cov(min_periods: 'int | None' = None, ddof: 'int | None' = 1, numeric_only: 'bool | lib.NoDefault' = <no_default>) -> 'DataFrame' method of pandas.core.frame.DataFrame instance\n",
      "    Compute pairwise covariance of columns, excluding NA/null values.\n",
      "    \n",
      "    Compute the pairwise covariance among the series of a DataFrame.\n",
      "    The returned data frame is the `covariance matrix\n",
      "    <https://en.wikipedia.org/wiki/Covariance_matrix>`__ of the columns\n",
      "    of the DataFrame.\n",
      "    \n",
      "    Both NA and null values are automatically excluded from the\n",
      "    calculation. (See the note below about bias from missing values.)\n",
      "    A threshold can be set for the minimum number of\n",
      "    observations for each value created. Comparisons with observations\n",
      "    below this threshold will be returned as ``NaN``.\n",
      "    \n",
      "    This method is generally used for the analysis of time series data to\n",
      "    understand the relationship between different measures\n",
      "    across time.\n",
      "    \n",
      "    Parameters\n",
      "    ----------\n",
      "    min_periods : int, optional\n",
      "        Minimum number of observations required per pair of columns\n",
      "        to have a valid result.\n",
      "    \n",
      "    ddof : int, default 1\n",
      "        Delta degrees of freedom.  The divisor used in calculations\n",
      "        is ``N - ddof``, where ``N`` represents the number of elements.\n",
      "    \n",
      "        .. versionadded:: 1.1.0\n",
      "    \n",
      "    numeric_only : bool, default True\n",
      "        Include only `float`, `int` or `boolean` data.\n",
      "    \n",
      "        .. versionadded:: 1.5.0\n",
      "    \n",
      "        .. deprecated:: 1.5.0\n",
      "            The default value of ``numeric_only`` will be ``False`` in a future\n",
      "            version of pandas.\n",
      "    \n",
      "    Returns\n",
      "    -------\n",
      "    DataFrame\n",
      "        The covariance matrix of the series of the DataFrame.\n",
      "    \n",
      "    See Also\n",
      "    --------\n",
      "    Series.cov : Compute covariance with another Series.\n",
      "    core.window.ewm.ExponentialMovingWindow.cov : Exponential weighted sample\n",
      "        covariance.\n",
      "    core.window.expanding.Expanding.cov : Expanding sample covariance.\n",
      "    core.window.rolling.Rolling.cov : Rolling sample covariance.\n",
      "    \n",
      "    Notes\n",
      "    -----\n",
      "    Returns the covariance matrix of the DataFrame's time series.\n",
      "    The covariance is normalized by N-ddof.\n",
      "    \n",
      "    For DataFrames that have Series that are missing data (assuming that\n",
      "    data is `missing at random\n",
      "    <https://en.wikipedia.org/wiki/Missing_data#Missing_at_random>`__)\n",
      "    the returned covariance matrix will be an unbiased estimate\n",
      "    of the variance and covariance between the member Series.\n",
      "    \n",
      "    However, for many applications this estimate may not be acceptable\n",
      "    because the estimate covariance matrix is not guaranteed to be positive\n",
      "    semi-definite. This could lead to estimate correlations having\n",
      "    absolute values which are greater than one, and/or a non-invertible\n",
      "    covariance matrix. See `Estimation of covariance matrices\n",
      "    <https://en.wikipedia.org/w/index.php?title=Estimation_of_covariance_\n",
      "    matrices>`__ for more details.\n",
      "    \n",
      "    Examples\n",
      "    --------\n",
      "    >>> df = pd.DataFrame([(1, 2), (0, 3), (2, 0), (1, 1)],\n",
      "    ...                   columns=['dogs', 'cats'])\n",
      "    >>> df.cov()\n",
      "              dogs      cats\n",
      "    dogs  0.666667 -1.000000\n",
      "    cats -1.000000  1.666667\n",
      "    \n",
      "    >>> np.random.seed(42)\n",
      "    >>> df = pd.DataFrame(np.random.randn(1000, 5),\n",
      "    ...                   columns=['a', 'b', 'c', 'd', 'e'])\n",
      "    >>> df.cov()\n",
      "              a         b         c         d         e\n",
      "    a  0.998438 -0.020161  0.059277 -0.008943  0.014144\n",
      "    b -0.020161  1.059352 -0.008543 -0.024738  0.009826\n",
      "    c  0.059277 -0.008543  1.010670 -0.001486 -0.000271\n",
      "    d -0.008943 -0.024738 -0.001486  0.921297 -0.013692\n",
      "    e  0.014144  0.009826 -0.000271 -0.013692  0.977795\n",
      "    \n",
      "    **Minimum number of periods**\n",
      "    \n",
      "    This method also supports an optional ``min_periods`` keyword\n",
      "    that specifies the required minimum number of non-NA observations for\n",
      "    each column pair in order to have a valid result:\n",
      "    \n",
      "    >>> np.random.seed(42)\n",
      "    >>> df = pd.DataFrame(np.random.randn(20, 3),\n",
      "    ...                   columns=['a', 'b', 'c'])\n",
      "    >>> df.loc[df.index[:5], 'a'] = np.nan\n",
      "    >>> df.loc[df.index[5:10], 'b'] = np.nan\n",
      "    >>> df.cov(min_periods=12)\n",
      "              a         b         c\n",
      "    a  0.316741       NaN -0.150812\n",
      "    b       NaN  1.248003  0.191417\n",
      "    c -0.150812  0.191417  0.895202\n",
      "\n"
     ]
    }
   ],
   "source": [
    "help(planets.cov)"
   ]
  },
  {
   "cell_type": "code",
   "execution_count": 35,
   "id": "b4983699",
   "metadata": {},
   "outputs": [
    {
     "data": {
      "text/html": [
       "<div>\n",
       "<style scoped>\n",
       "    .dataframe tbody tr th:only-of-type {\n",
       "        vertical-align: middle;\n",
       "    }\n",
       "\n",
       "    .dataframe tbody tr th {\n",
       "        vertical-align: top;\n",
       "    }\n",
       "\n",
       "    .dataframe thead th {\n",
       "        text-align: right;\n",
       "    }\n",
       "</style>\n",
       "<table border=\"1\" class=\"dataframe\">\n",
       "  <thead>\n",
       "    <tr style=\"text-align: right;\">\n",
       "      <th></th>\n",
       "      <th>orbital_period</th>\n",
       "      <th>mass</th>\n",
       "      <th>distance</th>\n",
       "    </tr>\n",
       "  </thead>\n",
       "  <tbody>\n",
       "    <tr>\n",
       "      <th>orbital_period</th>\n",
       "      <td>6.767661e+08</td>\n",
       "      <td>1005.472594</td>\n",
       "      <td>-255305.071038</td>\n",
       "    </tr>\n",
       "    <tr>\n",
       "      <th>mass</th>\n",
       "      <td>1.005473e+03</td>\n",
       "      <td>14.581833</td>\n",
       "      <td>46.439431</td>\n",
       "    </tr>\n",
       "    <tr>\n",
       "      <th>distance</th>\n",
       "      <td>-2.553051e+05</td>\n",
       "      <td>46.439431</td>\n",
       "      <td>537459.792221</td>\n",
       "    </tr>\n",
       "  </tbody>\n",
       "</table>\n",
       "</div>"
      ],
      "text/plain": [
       "                orbital_period         mass       distance\n",
       "orbital_period    6.767661e+08  1005.472594 -255305.071038\n",
       "mass              1.005473e+03    14.581833      46.439431\n",
       "distance         -2.553051e+05    46.439431  537459.792221"
      ]
     },
     "execution_count": 35,
     "metadata": {},
     "output_type": "execute_result"
    }
   ],
   "source": [
    "planets[['orbital_period', 'mass', 'distance']].cov()"
   ]
  },
  {
   "cell_type": "code",
   "execution_count": 34,
   "id": "bad0fa37",
   "metadata": {},
   "outputs": [
    {
     "data": {
      "text/html": [
       "<div>\n",
       "<style scoped>\n",
       "    .dataframe tbody tr th:only-of-type {\n",
       "        vertical-align: middle;\n",
       "    }\n",
       "\n",
       "    .dataframe tbody tr th {\n",
       "        vertical-align: top;\n",
       "    }\n",
       "\n",
       "    .dataframe thead th {\n",
       "        text-align: right;\n",
       "    }\n",
       "</style>\n",
       "<table border=\"1\" class=\"dataframe\">\n",
       "  <thead>\n",
       "    <tr style=\"text-align: right;\">\n",
       "      <th></th>\n",
       "      <th>method</th>\n",
       "      <th>number</th>\n",
       "      <th>orbital_period</th>\n",
       "      <th>mass</th>\n",
       "      <th>distance</th>\n",
       "      <th>year</th>\n",
       "    </tr>\n",
       "  </thead>\n",
       "  <tbody>\n",
       "    <tr>\n",
       "      <th>0</th>\n",
       "      <td>Radial Velocity</td>\n",
       "      <td>1</td>\n",
       "      <td>269.300</td>\n",
       "      <td>7.10</td>\n",
       "      <td>77.40</td>\n",
       "      <td>2006</td>\n",
       "    </tr>\n",
       "    <tr>\n",
       "      <th>1</th>\n",
       "      <td>Radial Velocity</td>\n",
       "      <td>1</td>\n",
       "      <td>874.774</td>\n",
       "      <td>2.21</td>\n",
       "      <td>56.95</td>\n",
       "      <td>2008</td>\n",
       "    </tr>\n",
       "    <tr>\n",
       "      <th>2</th>\n",
       "      <td>Radial Velocity</td>\n",
       "      <td>1</td>\n",
       "      <td>763.000</td>\n",
       "      <td>2.60</td>\n",
       "      <td>19.84</td>\n",
       "      <td>2011</td>\n",
       "    </tr>\n",
       "    <tr>\n",
       "      <th>3</th>\n",
       "      <td>Radial Velocity</td>\n",
       "      <td>1</td>\n",
       "      <td>326.030</td>\n",
       "      <td>19.40</td>\n",
       "      <td>110.62</td>\n",
       "      <td>2007</td>\n",
       "    </tr>\n",
       "    <tr>\n",
       "      <th>4</th>\n",
       "      <td>Radial Velocity</td>\n",
       "      <td>1</td>\n",
       "      <td>516.220</td>\n",
       "      <td>10.50</td>\n",
       "      <td>119.47</td>\n",
       "      <td>2009</td>\n",
       "    </tr>\n",
       "  </tbody>\n",
       "</table>\n",
       "</div>"
      ],
      "text/plain": [
       "            method  number  orbital_period   mass  distance  year\n",
       "0  Radial Velocity       1         269.300   7.10     77.40  2006\n",
       "1  Radial Velocity       1         874.774   2.21     56.95  2008\n",
       "2  Radial Velocity       1         763.000   2.60     19.84  2011\n",
       "3  Radial Velocity       1         326.030  19.40    110.62  2007\n",
       "4  Radial Velocity       1         516.220  10.50    119.47  2009"
      ]
     },
     "execution_count": 34,
     "metadata": {},
     "output_type": "execute_result"
    }
   ],
   "source": [
    "planets.head()"
   ]
  },
  {
   "cell_type": "code",
   "execution_count": 38,
   "id": "3092f882",
   "metadata": {},
   "outputs": [
    {
     "data": {
      "text/plain": [
       "<bound method NDFrame._add_numeric_operations.<locals>.mean of 0        7.10\n",
       "1        2.21\n",
       "2        2.60\n",
       "3       19.40\n",
       "4       10.50\n",
       "        ...  \n",
       "1030      NaN\n",
       "1031      NaN\n",
       "1032      NaN\n",
       "1033      NaN\n",
       "1034      NaN\n",
       "Name: mass, Length: 1035, dtype: float64>"
      ]
     },
     "execution_count": 38,
     "metadata": {},
     "output_type": "execute_result"
    }
   ],
   "source": [
    "planets['mass'].mean"
   ]
  },
  {
   "cell_type": "code",
   "execution_count": 39,
   "id": "4c9d4bdd",
   "metadata": {},
   "outputs": [],
   "source": [
    "a = np.array([1, 2, 3, 4, 5, np.nan, np.nan])"
   ]
  },
  {
   "cell_type": "code",
   "execution_count": 41,
   "id": "5909d9f7",
   "metadata": {},
   "outputs": [
    {
     "data": {
      "text/plain": [
       "nan"
      ]
     },
     "execution_count": 41,
     "metadata": {},
     "output_type": "execute_result"
    }
   ],
   "source": [
    "a.mean()"
   ]
  },
  {
   "cell_type": "code",
   "execution_count": 43,
   "id": "07c49121",
   "metadata": {},
   "outputs": [],
   "source": [
    "s = pd.Series(a)"
   ]
  },
  {
   "cell_type": "code",
   "execution_count": 44,
   "id": "a897c528",
   "metadata": {},
   "outputs": [
    {
     "data": {
      "text/plain": [
       "0    1.0\n",
       "1    2.0\n",
       "2    3.0\n",
       "3    4.0\n",
       "4    5.0\n",
       "5    NaN\n",
       "6    NaN\n",
       "dtype: float64"
      ]
     },
     "execution_count": 44,
     "metadata": {},
     "output_type": "execute_result"
    }
   ],
   "source": [
    "s"
   ]
  },
  {
   "cell_type": "code",
   "execution_count": 48,
   "id": "8258e543",
   "metadata": {},
   "outputs": [
    {
     "data": {
      "text/plain": [
       "2.142857142857143"
      ]
     },
     "execution_count": 48,
     "metadata": {},
     "output_type": "execute_result"
    }
   ],
   "source": [
    "s.fillna(0).mean()"
   ]
  },
  {
   "cell_type": "code",
   "execution_count": 52,
   "id": "044ef6dd",
   "metadata": {},
   "outputs": [
    {
     "data": {
      "text/latex": [
       "$\\displaystyle \\left[\\begin{matrix}676766088.734191 & 1005.47259444658 & -255305.071037532\\\\1005.47259444658 & 14.5818331270012 & 46.4394306783416\\\\-255305.071037532 & 46.4394306783416 & 537459.792221293\\end{matrix}\\right]$"
      ],
      "text/plain": [
       "Matrix([\n",
       "[ 676766088.734191, 1005.47259444658, -255305.071037532],\n",
       "[ 1005.47259444658, 14.5818331270012,  46.4394306783416],\n",
       "[-255305.071037532, 46.4394306783416,  537459.792221293]])"
      ]
     },
     "execution_count": 52,
     "metadata": {},
     "output_type": "execute_result"
    }
   ],
   "source": [
    "Matrix(planets[['orbital_period', 'mass', 'distance']].cov())"
   ]
  },
  {
   "cell_type": "code",
   "execution_count": 55,
   "id": "688d43d1",
   "metadata": {},
   "outputs": [
    {
     "data": {
      "text/plain": [
       "array([[ 6.76766089e+08,  1.00547259e+03, -2.55305071e+05],\n",
       "       [ 1.00547259e+03,  1.45818331e+01,  4.64394307e+01],\n",
       "       [-2.55305071e+05,  4.64394307e+01,  5.37459792e+05]])"
      ]
     },
     "execution_count": 55,
     "metadata": {},
     "output_type": "execute_result"
    }
   ],
   "source": [
    "planets[['orbital_period', 'mass', 'distance']].cov().values"
   ]
  },
  {
   "cell_type": "code",
   "execution_count": 63,
   "id": "fb50f183",
   "metadata": {},
   "outputs": [
    {
     "data": {
      "text/plain": [
       "array([[nan, nan, nan],\n",
       "       [nan, nan, nan],\n",
       "       [nan, nan, nan]])"
      ]
     },
     "execution_count": 63,
     "metadata": {},
     "output_type": "execute_result"
    }
   ],
   "source": [
    "np.cov(planets[['orbital_period', 'mass', 'distance']].values.T)"
   ]
  },
  {
   "cell_type": "code",
   "execution_count": 65,
   "id": "d754a491",
   "metadata": {},
   "outputs": [
    {
     "data": {
      "text/plain": [
       "array(['Radial Velocity', 'Imaging', 'Eclipse Timing Variations',\n",
       "       'Transit', 'Astrometry', 'Transit Timing Variations',\n",
       "       'Orbital Brightness Modulation', 'Microlensing', 'Pulsar Timing',\n",
       "       'Pulsation Timing Variations'], dtype=object)"
      ]
     },
     "execution_count": 65,
     "metadata": {},
     "output_type": "execute_result"
    }
   ],
   "source": [
    "planets['method'].unique()"
   ]
  },
  {
   "cell_type": "code",
   "execution_count": 68,
   "id": "ad3207da",
   "metadata": {},
   "outputs": [
    {
     "data": {
      "text/html": [
       "<div>\n",
       "<style scoped>\n",
       "    .dataframe tbody tr th:only-of-type {\n",
       "        vertical-align: middle;\n",
       "    }\n",
       "\n",
       "    .dataframe tbody tr th {\n",
       "        vertical-align: top;\n",
       "    }\n",
       "\n",
       "    .dataframe thead th {\n",
       "        text-align: right;\n",
       "    }\n",
       "</style>\n",
       "<table border=\"1\" class=\"dataframe\">\n",
       "  <thead>\n",
       "    <tr style=\"text-align: right;\">\n",
       "      <th></th>\n",
       "      <th>method</th>\n",
       "      <th>number</th>\n",
       "      <th>orbital_period</th>\n",
       "      <th>mass</th>\n",
       "      <th>distance</th>\n",
       "      <th>year</th>\n",
       "    </tr>\n",
       "  </thead>\n",
       "  <tbody>\n",
       "    <tr>\n",
       "      <th>91</th>\n",
       "      <td>Transit</td>\n",
       "      <td>1</td>\n",
       "      <td>1.508956</td>\n",
       "      <td>NaN</td>\n",
       "      <td>NaN</td>\n",
       "      <td>2008</td>\n",
       "    </tr>\n",
       "    <tr>\n",
       "      <th>92</th>\n",
       "      <td>Transit</td>\n",
       "      <td>1</td>\n",
       "      <td>1.742994</td>\n",
       "      <td>NaN</td>\n",
       "      <td>200.0</td>\n",
       "      <td>2008</td>\n",
       "    </tr>\n",
       "    <tr>\n",
       "      <th>93</th>\n",
       "      <td>Transit</td>\n",
       "      <td>1</td>\n",
       "      <td>4.256800</td>\n",
       "      <td>NaN</td>\n",
       "      <td>680.0</td>\n",
       "      <td>2008</td>\n",
       "    </tr>\n",
       "    <tr>\n",
       "      <th>94</th>\n",
       "      <td>Transit</td>\n",
       "      <td>1</td>\n",
       "      <td>9.202050</td>\n",
       "      <td>NaN</td>\n",
       "      <td>NaN</td>\n",
       "      <td>2008</td>\n",
       "    </tr>\n",
       "    <tr>\n",
       "      <th>95</th>\n",
       "      <td>Transit</td>\n",
       "      <td>1</td>\n",
       "      <td>4.037896</td>\n",
       "      <td>NaN</td>\n",
       "      <td>NaN</td>\n",
       "      <td>2009</td>\n",
       "    </tr>\n",
       "    <tr>\n",
       "      <th>...</th>\n",
       "      <td>...</td>\n",
       "      <td>...</td>\n",
       "      <td>...</td>\n",
       "      <td>...</td>\n",
       "      <td>...</td>\n",
       "      <td>...</td>\n",
       "    </tr>\n",
       "    <tr>\n",
       "      <th>1030</th>\n",
       "      <td>Transit</td>\n",
       "      <td>1</td>\n",
       "      <td>3.941507</td>\n",
       "      <td>NaN</td>\n",
       "      <td>172.0</td>\n",
       "      <td>2006</td>\n",
       "    </tr>\n",
       "    <tr>\n",
       "      <th>1031</th>\n",
       "      <td>Transit</td>\n",
       "      <td>1</td>\n",
       "      <td>2.615864</td>\n",
       "      <td>NaN</td>\n",
       "      <td>148.0</td>\n",
       "      <td>2007</td>\n",
       "    </tr>\n",
       "    <tr>\n",
       "      <th>1032</th>\n",
       "      <td>Transit</td>\n",
       "      <td>1</td>\n",
       "      <td>3.191524</td>\n",
       "      <td>NaN</td>\n",
       "      <td>174.0</td>\n",
       "      <td>2007</td>\n",
       "    </tr>\n",
       "    <tr>\n",
       "      <th>1033</th>\n",
       "      <td>Transit</td>\n",
       "      <td>1</td>\n",
       "      <td>4.125083</td>\n",
       "      <td>NaN</td>\n",
       "      <td>293.0</td>\n",
       "      <td>2008</td>\n",
       "    </tr>\n",
       "    <tr>\n",
       "      <th>1034</th>\n",
       "      <td>Transit</td>\n",
       "      <td>1</td>\n",
       "      <td>4.187757</td>\n",
       "      <td>NaN</td>\n",
       "      <td>260.0</td>\n",
       "      <td>2008</td>\n",
       "    </tr>\n",
       "  </tbody>\n",
       "</table>\n",
       "<p>397 rows × 6 columns</p>\n",
       "</div>"
      ],
      "text/plain": [
       "       method  number  orbital_period  mass  distance  year\n",
       "91    Transit       1        1.508956   NaN       NaN  2008\n",
       "92    Transit       1        1.742994   NaN     200.0  2008\n",
       "93    Transit       1        4.256800   NaN     680.0  2008\n",
       "94    Transit       1        9.202050   NaN       NaN  2008\n",
       "95    Transit       1        4.037896   NaN       NaN  2009\n",
       "...       ...     ...             ...   ...       ...   ...\n",
       "1030  Transit       1        3.941507   NaN     172.0  2006\n",
       "1031  Transit       1        2.615864   NaN     148.0  2007\n",
       "1032  Transit       1        3.191524   NaN     174.0  2007\n",
       "1033  Transit       1        4.125083   NaN     293.0  2008\n",
       "1034  Transit       1        4.187757   NaN     260.0  2008\n",
       "\n",
       "[397 rows x 6 columns]"
      ]
     },
     "execution_count": 68,
     "metadata": {},
     "output_type": "execute_result"
    }
   ],
   "source": [
    "mask = planets['method'] == 'Transit'\n",
    "planets[mask]"
   ]
  },
  {
   "cell_type": "code",
   "execution_count": 84,
   "id": "aa9871de",
   "metadata": {},
   "outputs": [],
   "source": [
    "?np.random.seed"
   ]
  },
  {
   "cell_type": "code",
   "execution_count": 83,
   "id": "c49dbbd0",
   "metadata": {},
   "outputs": [
    {
     "data": {
      "text/plain": [
       "array([0.33873584, 0.41356075, 0.54243171])"
      ]
     },
     "execution_count": 83,
     "metadata": {},
     "output_type": "execute_result"
    }
   ],
   "source": [
    "np.random.seed = 15\n",
    "np.random.random(3)"
   ]
  },
  {
   "cell_type": "code",
   "execution_count": 86,
   "id": "3c1a4eda",
   "metadata": {},
   "outputs": [
    {
     "data": {
      "text/html": [
       "<div>\n",
       "<style scoped>\n",
       "    .dataframe tbody tr th:only-of-type {\n",
       "        vertical-align: middle;\n",
       "    }\n",
       "\n",
       "    .dataframe tbody tr th {\n",
       "        vertical-align: top;\n",
       "    }\n",
       "\n",
       "    .dataframe thead th {\n",
       "        text-align: right;\n",
       "    }\n",
       "</style>\n",
       "<table border=\"1\" class=\"dataframe\">\n",
       "  <thead>\n",
       "    <tr style=\"text-align: right;\">\n",
       "      <th></th>\n",
       "      <th>method</th>\n",
       "      <th>number</th>\n",
       "      <th>orbital_period</th>\n",
       "      <th>mass</th>\n",
       "      <th>distance</th>\n",
       "      <th>year</th>\n",
       "    </tr>\n",
       "  </thead>\n",
       "  <tbody>\n",
       "    <tr>\n",
       "      <th>893</th>\n",
       "      <td>Radial Velocity</td>\n",
       "      <td>2</td>\n",
       "      <td>3000.000000</td>\n",
       "      <td>NaN</td>\n",
       "      <td>NaN</td>\n",
       "      <td>2014</td>\n",
       "    </tr>\n",
       "    <tr>\n",
       "      <th>730</th>\n",
       "      <td>Transit</td>\n",
       "      <td>3</td>\n",
       "      <td>0.453285</td>\n",
       "      <td>NaN</td>\n",
       "      <td>38.70</td>\n",
       "      <td>2011</td>\n",
       "    </tr>\n",
       "    <tr>\n",
       "      <th>177</th>\n",
       "      <td>Transit</td>\n",
       "      <td>1</td>\n",
       "      <td>3.257215</td>\n",
       "      <td>NaN</td>\n",
       "      <td>395.00</td>\n",
       "      <td>2011</td>\n",
       "    </tr>\n",
       "    <tr>\n",
       "      <th>117</th>\n",
       "      <td>Radial Velocity</td>\n",
       "      <td>3</td>\n",
       "      <td>603.000000</td>\n",
       "      <td>0.0790</td>\n",
       "      <td>14.97</td>\n",
       "      <td>2013</td>\n",
       "    </tr>\n",
       "    <tr>\n",
       "      <th>674</th>\n",
       "      <td>Transit</td>\n",
       "      <td>1</td>\n",
       "      <td>228.776000</td>\n",
       "      <td>NaN</td>\n",
       "      <td>61.00</td>\n",
       "      <td>2011</td>\n",
       "    </tr>\n",
       "    <tr>\n",
       "      <th>408</th>\n",
       "      <td>Radial Velocity</td>\n",
       "      <td>1</td>\n",
       "      <td>70.460000</td>\n",
       "      <td>0.3000</td>\n",
       "      <td>30.50</td>\n",
       "      <td>2005</td>\n",
       "    </tr>\n",
       "    <tr>\n",
       "      <th>376</th>\n",
       "      <td>Radial Velocity</td>\n",
       "      <td>1</td>\n",
       "      <td>705.000000</td>\n",
       "      <td>1.3000</td>\n",
       "      <td>112.23</td>\n",
       "      <td>2011</td>\n",
       "    </tr>\n",
       "    <tr>\n",
       "      <th>643</th>\n",
       "      <td>Imaging</td>\n",
       "      <td>4</td>\n",
       "      <td>170000.000000</td>\n",
       "      <td>NaN</td>\n",
       "      <td>39.94</td>\n",
       "      <td>2008</td>\n",
       "    </tr>\n",
       "    <tr>\n",
       "      <th>922</th>\n",
       "      <td>Microlensing</td>\n",
       "      <td>2</td>\n",
       "      <td>5100.000000</td>\n",
       "      <td>NaN</td>\n",
       "      <td>NaN</td>\n",
       "      <td>2008</td>\n",
       "    </tr>\n",
       "    <tr>\n",
       "      <th>63</th>\n",
       "      <td>Radial Velocity</td>\n",
       "      <td>1</td>\n",
       "      <td>305.500000</td>\n",
       "      <td>20.6000</td>\n",
       "      <td>92.51</td>\n",
       "      <td>2013</td>\n",
       "    </tr>\n",
       "    <tr>\n",
       "      <th>190</th>\n",
       "      <td>Transit</td>\n",
       "      <td>1</td>\n",
       "      <td>4.457243</td>\n",
       "      <td>NaN</td>\n",
       "      <td>501.00</td>\n",
       "      <td>2012</td>\n",
       "    </tr>\n",
       "    <tr>\n",
       "      <th>947</th>\n",
       "      <td>Transit</td>\n",
       "      <td>1</td>\n",
       "      <td>1.337118</td>\n",
       "      <td>NaN</td>\n",
       "      <td>NaN</td>\n",
       "      <td>2011</td>\n",
       "    </tr>\n",
       "    <tr>\n",
       "      <th>309</th>\n",
       "      <td>Radial Velocity</td>\n",
       "      <td>6</td>\n",
       "      <td>4.312300</td>\n",
       "      <td>0.0126</td>\n",
       "      <td>12.83</td>\n",
       "      <td>2008</td>\n",
       "    </tr>\n",
       "    <tr>\n",
       "      <th>273</th>\n",
       "      <td>Radial Velocity</td>\n",
       "      <td>1</td>\n",
       "      <td>528.070000</td>\n",
       "      <td>13.6500</td>\n",
       "      <td>31.79</td>\n",
       "      <td>2011</td>\n",
       "    </tr>\n",
       "    <tr>\n",
       "      <th>415</th>\n",
       "      <td>Radial Velocity</td>\n",
       "      <td>1</td>\n",
       "      <td>6.495000</td>\n",
       "      <td>0.9600</td>\n",
       "      <td>121.07</td>\n",
       "      <td>2010</td>\n",
       "    </tr>\n",
       "    <tr>\n",
       "      <th>141</th>\n",
       "      <td>Radial Velocity</td>\n",
       "      <td>1</td>\n",
       "      <td>1845.000000</td>\n",
       "      <td>0.9100</td>\n",
       "      <td>8.77</td>\n",
       "      <td>2006</td>\n",
       "    </tr>\n",
       "    <tr>\n",
       "      <th>507</th>\n",
       "      <td>Radial Velocity</td>\n",
       "      <td>1</td>\n",
       "      <td>359.554600</td>\n",
       "      <td>10.5700</td>\n",
       "      <td>49.00</td>\n",
       "      <td>2007</td>\n",
       "    </tr>\n",
       "    <tr>\n",
       "      <th>133</th>\n",
       "      <td>Radial Velocity</td>\n",
       "      <td>6</td>\n",
       "      <td>62.240000</td>\n",
       "      <td>0.0080</td>\n",
       "      <td>6.80</td>\n",
       "      <td>2013</td>\n",
       "    </tr>\n",
       "    <tr>\n",
       "      <th>915</th>\n",
       "      <td>Radial Velocity</td>\n",
       "      <td>1</td>\n",
       "      <td>5.118000</td>\n",
       "      <td>0.4000</td>\n",
       "      <td>NaN</td>\n",
       "      <td>2014</td>\n",
       "    </tr>\n",
       "    <tr>\n",
       "      <th>662</th>\n",
       "      <td>Transit</td>\n",
       "      <td>2</td>\n",
       "      <td>0.837495</td>\n",
       "      <td>NaN</td>\n",
       "      <td>173.00</td>\n",
       "      <td>2011</td>\n",
       "    </tr>\n",
       "    <tr>\n",
       "      <th>132</th>\n",
       "      <td>Radial Velocity</td>\n",
       "      <td>6</td>\n",
       "      <td>91.610000</td>\n",
       "      <td>0.0160</td>\n",
       "      <td>6.80</td>\n",
       "      <td>2013</td>\n",
       "    </tr>\n",
       "    <tr>\n",
       "      <th>156</th>\n",
       "      <td>Transit</td>\n",
       "      <td>1</td>\n",
       "      <td>3.852985</td>\n",
       "      <td>NaN</td>\n",
       "      <td>261.00</td>\n",
       "      <td>2007</td>\n",
       "    </tr>\n",
       "    <tr>\n",
       "      <th>96</th>\n",
       "      <td>Transit</td>\n",
       "      <td>1</td>\n",
       "      <td>8.886593</td>\n",
       "      <td>NaN</td>\n",
       "      <td>NaN</td>\n",
       "      <td>2009</td>\n",
       "    </tr>\n",
       "    <tr>\n",
       "      <th>97</th>\n",
       "      <td>Transit</td>\n",
       "      <td>2</td>\n",
       "      <td>0.853585</td>\n",
       "      <td>NaN</td>\n",
       "      <td>150.00</td>\n",
       "      <td>2009</td>\n",
       "    </tr>\n",
       "    <tr>\n",
       "      <th>275</th>\n",
       "      <td>Radial Velocity</td>\n",
       "      <td>1</td>\n",
       "      <td>3668.000000</td>\n",
       "      <td>4.0100</td>\n",
       "      <td>46.51</td>\n",
       "      <td>2006</td>\n",
       "    </tr>\n",
       "    <tr>\n",
       "      <th>692</th>\n",
       "      <td>Transit</td>\n",
       "      <td>3</td>\n",
       "      <td>6.238500</td>\n",
       "      <td>NaN</td>\n",
       "      <td>NaN</td>\n",
       "      <td>2011</td>\n",
       "    </tr>\n",
       "    <tr>\n",
       "      <th>1027</th>\n",
       "      <td>Imaging</td>\n",
       "      <td>1</td>\n",
       "      <td>NaN</td>\n",
       "      <td>NaN</td>\n",
       "      <td>19.20</td>\n",
       "      <td>2011</td>\n",
       "    </tr>\n",
       "    <tr>\n",
       "      <th>509</th>\n",
       "      <td>Radial Velocity</td>\n",
       "      <td>1</td>\n",
       "      <td>521.000000</td>\n",
       "      <td>1.8000</td>\n",
       "      <td>114.15</td>\n",
       "      <td>2011</td>\n",
       "    </tr>\n",
       "    <tr>\n",
       "      <th>391</th>\n",
       "      <td>Radial Velocity</td>\n",
       "      <td>2</td>\n",
       "      <td>46.025000</td>\n",
       "      <td>0.0318</td>\n",
       "      <td>42.52</td>\n",
       "      <td>2011</td>\n",
       "    </tr>\n",
       "    <tr>\n",
       "      <th>88</th>\n",
       "      <td>Radial Velocity</td>\n",
       "      <td>1</td>\n",
       "      <td>392.600000</td>\n",
       "      <td>0.9100</td>\n",
       "      <td>NaN</td>\n",
       "      <td>2011</td>\n",
       "    </tr>\n",
       "  </tbody>\n",
       "</table>\n",
       "</div>"
      ],
      "text/plain": [
       "               method  number  orbital_period     mass  distance  year\n",
       "893   Radial Velocity       2     3000.000000      NaN       NaN  2014\n",
       "730           Transit       3        0.453285      NaN     38.70  2011\n",
       "177           Transit       1        3.257215      NaN    395.00  2011\n",
       "117   Radial Velocity       3      603.000000   0.0790     14.97  2013\n",
       "674           Transit       1      228.776000      NaN     61.00  2011\n",
       "408   Radial Velocity       1       70.460000   0.3000     30.50  2005\n",
       "376   Radial Velocity       1      705.000000   1.3000    112.23  2011\n",
       "643           Imaging       4   170000.000000      NaN     39.94  2008\n",
       "922      Microlensing       2     5100.000000      NaN       NaN  2008\n",
       "63    Radial Velocity       1      305.500000  20.6000     92.51  2013\n",
       "190           Transit       1        4.457243      NaN    501.00  2012\n",
       "947           Transit       1        1.337118      NaN       NaN  2011\n",
       "309   Radial Velocity       6        4.312300   0.0126     12.83  2008\n",
       "273   Radial Velocity       1      528.070000  13.6500     31.79  2011\n",
       "415   Radial Velocity       1        6.495000   0.9600    121.07  2010\n",
       "141   Radial Velocity       1     1845.000000   0.9100      8.77  2006\n",
       "507   Radial Velocity       1      359.554600  10.5700     49.00  2007\n",
       "133   Radial Velocity       6       62.240000   0.0080      6.80  2013\n",
       "915   Radial Velocity       1        5.118000   0.4000       NaN  2014\n",
       "662           Transit       2        0.837495      NaN    173.00  2011\n",
       "132   Radial Velocity       6       91.610000   0.0160      6.80  2013\n",
       "156           Transit       1        3.852985      NaN    261.00  2007\n",
       "96            Transit       1        8.886593      NaN       NaN  2009\n",
       "97            Transit       2        0.853585      NaN    150.00  2009\n",
       "275   Radial Velocity       1     3668.000000   4.0100     46.51  2006\n",
       "692           Transit       3        6.238500      NaN       NaN  2011\n",
       "1027          Imaging       1             NaN      NaN     19.20  2011\n",
       "509   Radial Velocity       1      521.000000   1.8000    114.15  2011\n",
       "391   Radial Velocity       2       46.025000   0.0318     42.52  2011\n",
       "88    Radial Velocity       1      392.600000   0.9100       NaN  2011"
      ]
     },
     "execution_count": 86,
     "metadata": {},
     "output_type": "execute_result"
    }
   ],
   "source": [
    "planets.sample(30)"
   ]
  },
  {
   "cell_type": "markdown",
   "id": "protected-walter",
   "metadata": {},
   "source": [
    "Esta matriz de covarianza es la extensión de la varianza para el caso multidimensional, y nos será de utilidad más adelante.\n",
    "\n",
    "[Regresar al contenido](#Contenido)"
   ]
  },
  {
   "cell_type": "markdown",
   "id": "advised-dollar",
   "metadata": {},
   "source": [
    "### Producto punto y proyección en un subespacio\n",
    "\n",
    "\n",
    "Recordemos el producto punto entre vectores rápidamente.\n",
    "\n",
    "$$ X \\cdot Y = X^T Y = \\sum x_i y_i$$\n",
    "\n",
    "Una aplicación que vimos anteriormente del producto punto es el de proyectar un vector $\\vec{a}$ en un subespacio $\\mathcal{L}$\n",
    "\n",
    "\n",
    "<img src=\"Proyeccion ortogonal.png\" width = 400 height = 400> \n",
    "\n",
    "\n",
    "\n",
    "Supongamos que tenemos un vector $\\vec{b}$ que genera un subespacio $\\mathcal{L}$, y tenemos un vector $\\vec{a}$ que no pertenece a $\\mathcal{L}$, entonces podemos hallar la proyección $\\pi_{\\mathcal{L}} (\\vec{a})$. Esta proyección debe cumplir las siguientes dos propiedades.\n",
    "\n",
    "\n",
    "\n",
    "- $\\pi_{\\mathcal{L}} (\\vec{a}) \\in \\mathcal{L}$, es decir, existe un escalar $\\lambda$ tal que $\\pi_u (\\vec{a}) = \\lambda \\vec{b}$\n",
    "- $\\vec{b}  \\cdot (\\pi_{\\mathcal{L}} (\\vec{a}) - \\vec{a}) = 0$\n",
    "\n",
    "\n",
    "Analicemos un poco que pasa con la segunda condición para poder deducir quien es nuestra proyección. Tenemos:\n",
    "\n",
    "\n",
    "$$\\vec{b}  \\cdot (\\pi_{\\mathcal{L}} (\\vec{a}) - \\vec{a}) = \\vec{b} \\cdot \\pi_{\\mathcal{L}} (\\vec{a}) - \\vec{b} \\cdot \\vec{a} = \\vec{b} \\cdot \\lambda \\vec{b} - \\vec{b} \\cdot \\vec{a} = 0$$\n",
    "$$\\lambda ||\\vec{b}||^2 = \\vec{b} \\cdot \\vec{a}$$\n",
    "$$\\lambda = \\frac{\\vec{b} \\cdot \\vec{a}}{||\\vec{b}||^2}$$"
   ]
  },
  {
   "cell_type": "markdown",
   "id": "successful-southeast",
   "metadata": {},
   "source": [
    "A $\\lambda$ se le conoce como la coordenada de $\\pi_{\\mathcal{L}} (\\vec{a})$ en la base $\\{\\vec{b}\\}$. una vez que ya identificamos $\\lambda$ podemos escribir la proyección como:\n",
    "\n",
    "$$\\pi_{\\mathcal{L}} (\\vec{a}) = \\lambda \\vec{b} = \\frac{\\vec{b} \\cdot \\vec{a}}{||\\vec{b}||^2} \\vec{b} = \\frac{b b^T}{||b||^2}a$$\n",
    "\n",
    "\n",
    "Donde a $\\frac{b b^T}{||b||^2}$ la llamaremos matriz de proyección. Que cumple ser cuadrada y simétrica. Veamos un ejemplo en 2 dimensiones. Suponga que:\n",
    "\n",
    "\n",
    "$$\n",
    "b = \n",
    "\\begin{bmatrix}\n",
    "b_1\\\\\n",
    "b_2\\\\\n",
    "\\end{bmatrix}\n",
    "$$\n",
    "\n",
    "Entonces:\n",
    "\n",
    "$$\n",
    "bb^T = \n",
    "\\begin{bmatrix}\n",
    "b_1\\\\\n",
    "b_2\\\\\n",
    "\\end{bmatrix}\n",
    "\\begin{bmatrix}\n",
    "b_1 & b_2\\\\\n",
    "\\end{bmatrix}\n",
    "=\n",
    "\\begin{bmatrix}\n",
    "b_1^2  & b_1 b_2\\\\\n",
    "b_1 b_2  & b_2^2\\\\\n",
    "\\end{bmatrix}\n",
    "$$\n",
    "\n"
   ]
  },
  {
   "cell_type": "code",
   "execution_count": 93,
   "id": "54b3514c",
   "metadata": {},
   "outputs": [],
   "source": [
    "a = np.array([-6, 7])\n",
    "b = np.array([-1, -2])"
   ]
  },
  {
   "cell_type": "code",
   "execution_count": 94,
   "id": "28a6908f",
   "metadata": {},
   "outputs": [],
   "source": [
    "scalar = np.linspace(-3, 3, 1000)"
   ]
  },
  {
   "cell_type": "code",
   "execution_count": 102,
   "id": "bf81c8de",
   "metadata": {},
   "outputs": [],
   "source": [
    "x, y = [], []"
   ]
  },
  {
   "cell_type": "code",
   "execution_count": 103,
   "id": "bfdc5de6",
   "metadata": {},
   "outputs": [],
   "source": [
    "for t in scalar:\n",
    "    x.append((b * t)[0])\n",
    "    y.append((b * t)[1])"
   ]
  },
  {
   "cell_type": "code",
   "execution_count": 104,
   "id": "cedd32ef",
   "metadata": {},
   "outputs": [],
   "source": [
    "x = np.array(x)\n",
    "y = np.array(y)"
   ]
  },
  {
   "cell_type": "code",
   "execution_count": 110,
   "id": "cceb8029",
   "metadata": {},
   "outputs": [
    {
     "data": {
      "image/png": "[encoded data removed]",
      "text/plain": [
       "<Figure size 800x800 with 1 Axes>"
      ]
     },
     "metadata": {},
     "output_type": "display_data"
    }
   ],
   "source": [
    "fig, ax = plt.subplots(figsize = (8, 8))\n",
    "\n",
    "ax.quiver([0, 0], [0, 0], [a[0], b[0]], [a[1], b[1]], color = 'w', scale = 15)\n",
    "ax.plot(x, y, linestyle = '--')\n",
    "ax.set_aspect(\"equal\")\n",
    "ax.axvline(0, color = 'w', alpha = 0.3)\n",
    "ax.axhline(0, color = 'w', alpha = 0.3)\n",
    "ax.set_xlim([-3, 3])\n",
    "ax.set_ylim([-3, 3]);"
   ]
  },
  {
   "cell_type": "code",
   "execution_count": 115,
   "id": "c4922d67",
   "metadata": {},
   "outputs": [
    {
     "data": {
      "text/plain": [
       "array([ True,  True])"
      ]
     },
     "execution_count": 115,
     "metadata": {},
     "output_type": "execute_result"
    }
   ],
   "source": [
    "b == b.T"
   ]
  },
  {
   "cell_type": "code",
   "execution_count": 116,
   "id": "cddd0300",
   "metadata": {},
   "outputs": [
    {
     "data": {
      "text/plain": [
       "array([-1, -2])"
      ]
     },
     "execution_count": 116,
     "metadata": {},
     "output_type": "execute_result"
    }
   ],
   "source": [
    "b"
   ]
  },
  {
   "cell_type": "code",
   "execution_count": 117,
   "id": "3f020c0c",
   "metadata": {},
   "outputs": [],
   "source": [
    "b2 = b.copy()"
   ]
  },
  {
   "cell_type": "code",
   "execution_count": 119,
   "id": "ab7a8669",
   "metadata": {},
   "outputs": [],
   "source": [
    "b2 = b2.reshape((2, 1))"
   ]
  },
  {
   "cell_type": "code",
   "execution_count": 120,
   "id": "e049fdeb",
   "metadata": {},
   "outputs": [],
   "source": [
    "m = (b2 @ b2.T) / (b.dot(b))"
   ]
  },
  {
   "cell_type": "code",
   "execution_count": 121,
   "id": "1b9cda09",
   "metadata": {},
   "outputs": [
    {
     "data": {
      "text/plain": [
       "array([[0.2, 0.4],\n",
       "       [0.4, 0.8]])"
      ]
     },
     "execution_count": 121,
     "metadata": {},
     "output_type": "execute_result"
    }
   ],
   "source": [
    "m"
   ]
  },
  {
   "cell_type": "code",
   "execution_count": 122,
   "id": "a554cda8",
   "metadata": {},
   "outputs": [],
   "source": [
    "pa = m @ a"
   ]
  },
  {
   "cell_type": "code",
   "execution_count": 123,
   "id": "0540a5bb",
   "metadata": {},
   "outputs": [
    {
     "data": {
      "text/plain": [
       "array([1.6, 3.2])"
      ]
     },
     "execution_count": 123,
     "metadata": {},
     "output_type": "execute_result"
    }
   ],
   "source": [
    "pa"
   ]
  },
  {
   "cell_type": "code",
   "execution_count": 124,
   "id": "17f06345",
   "metadata": {},
   "outputs": [
    {
     "data": {
      "image/png": "[encoded data removed]",
      "text/plain": [
       "<Figure size 800x800 with 1 Axes>"
      ]
     },
     "metadata": {},
     "output_type": "display_data"
    }
   ],
   "source": [
    "fig, ax = plt.subplots(figsize = (8, 8))\n",
    "\n",
    "ax.quiver([0, 0, 0], [0, 0, 0], [a[0], b[0], pa[0]], [a[1], b[1], pa[1]], color = 'w', scale = 15)\n",
    "ax.plot(x, y, linestyle = '--')\n",
    "ax.set_aspect(\"equal\")\n",
    "ax.axvline(0, color = 'w', alpha = 0.3)\n",
    "ax.axhline(0, color = 'w', alpha = 0.3)\n",
    "ax.set_xlim([-3, 3])\n",
    "ax.set_ylim([-3, 3]);"
   ]
  },
  {
   "cell_type": "markdown",
   "id": "final-bikini",
   "metadata": {},
   "source": [
    "[Regresar al contenido](#Contenido)"
   ]
  },
  {
   "cell_type": "markdown",
   "id": "global-asian",
   "metadata": {},
   "source": [
    "### Proyección ortogonal en múltiples dimensiones\n",
    "\n",
    "\n",
    "Imaginemos que ahora el subespacio $\\mathcal{L}$ tiene una base de más de un elemento, pongamos como ejemplo el caso en el que $\\mathcal{L}$ es un plano en el espacio\n",
    "\n",
    "\n",
    "\n",
    "<img src=\"Proyección ortogonal 2D.png\" width = 400 height = 400> \n",
    "\n",
    "\n",
    "en este caso la base de $\\mathcal{L}$ estará formada por dos vectores $\\{\\vec{b_1}, \\vec{b_2}\\}$, la proyección $\\pi_{\\mathcal{L}} (\\vec{a})$ sera un vector en $\\mathcal{L}$, es decir que se puede escribir como una combinación lineal de $\\vec{b_1}$ y $\\vec{b_2}$. En general si la base de $\\mathcal{L}$ está formada por $n$ vectores $\\vec{b_i}$ tenemos que $\\pi_{\\mathcal{L}} (\\vec{a})$ cumplirá que:\n",
    "\n",
    "\n",
    "- $\\pi_{\\mathcal{L}} (\\vec{a}) = \\sum_{i = 1}^{n} \\lambda_i \\vec{b_i}$\n",
    "- $b_i \\cdot (\\pi_{\\mathcal{L}} (\\vec{a}) - \\vec{a}) = 0$, para todo $i = 1, \\cdots, n$\n",
    "\n",
    "\n",
    "No te que si llamamos simplemente $\\lambda$ al vector que contiene a todos los $\\lambda_i$ y $B$ a la matriz que tiene por columnas los vectores de la base $\\vec{b_i}$, podemos escribir la primera propiedad como:\n",
    "\n",
    "$$\\pi_{\\mathcal{L}} (\\vec{a}) = B \\lambda$$\n",
    "\n",
    "De esta forma tenemos (recordando que $(AB)^T = B^TA^T$):\n",
    "\n",
    "$$\\vec{b_i} \\cdot (\\pi_{\\mathcal{L}} (\\vec{a}) - \\vec{a}) = \\vec{b_i} \\cdot (B \\lambda - \\vec{a}) =  \\vec{b_i} \\cdot B \\lambda - \\vec{b_i} \\cdot \\vec{a} = 0$$\n",
    "$$\\vec{b_i} \\cdot B \\lambda = \\vec{b_i} \\cdot \\vec{a}$$\n",
    "$$b_i^T B \\lambda = b_i^T \\vec{a}$$\n",
    "$$\\lambda^T B^T b_i = a^T b_i$$\n",
    "$$\\lambda^T B^T B = a^T B$$\n",
    "$$\\lambda^T = a^T B (B^TB)^{-1}$$\n",
    "$$\\lambda = (B^TB)^{-1}B^T a $$\n",
    "\n",
    "Hay que notar que $(B^TB)^{-1}$ es simétrica, y por tanto igual a su transpuesta. veámoslo con un ejemplo de dos vectores $b$ y $v$:\n",
    "\n",
    "$$\n",
    "\\begin{bmatrix}\n",
    "b_1  & b_2\\\\\n",
    "v_1  & v_2\\\\\n",
    "\\end{bmatrix}\n",
    "\\begin{bmatrix}\n",
    "b_1  & v_1\\\\\n",
    "b_2  & v_2\\\\\n",
    "\\end{bmatrix}\n",
    "=\n",
    "\\begin{bmatrix}\n",
    "b \\cdot b  & b \\cdot v\\\\\n",
    "v \\cdot b  & v \\cdot v\\\\\n",
    "\\end{bmatrix}\n",
    "$$\n",
    "\n",
    "\n",
    "\n",
    "Ahora $\\lambda$ es el vector de coordenadas de $\\pi_{\\mathcal{L}} (\\vec{a})$ en la base $\\{ b_1, b_2\\}$, y podemos escribir:\n",
    "\n",
    "$$\\pi_{\\mathcal{L}} (\\vec{a}) = B \\lambda = B (B^TB)^{-1}B^T a$$\n",
    "\n",
    "Donde $B (B^TB)^{-1}B^T$ es la matriz de proyección, nos interesa destacar un caso particular, y es en el que $b_1$, $b_2$ forman una base ortonormal, en ese caso $(B^TB)^{-1} = I$ y podemos simplificar la proyección:\n",
    "\n",
    "$$\\pi_u (X) = B \\lambda = BB^T X$$\n"
   ]
  },
  {
   "cell_type": "code",
   "execution_count": null,
   "id": "20d2e44f",
   "metadata": {},
   "outputs": [],
   "source": []
  },
  {
   "cell_type": "markdown",
   "id": "passive-inventory",
   "metadata": {},
   "source": [
    "[Regresar al contenido](#Contenido)"
   ]
  },
  {
   "cell_type": "markdown",
   "id": "interim-extreme",
   "metadata": {},
   "source": [
    "### La idea detrás de PCA\n",
    "\n",
    "\n",
    "La idea subyacente al aplicar PCA es la de buscar una aproximación de nuestros datos, en forma de proyección ortogonal de nuestros datos en un subespacio vectorial, la idea es hacerlo de forma óptima para perder la menor información posible, pero al mismo tiempo obteniendo una aproximación de nuestros con una dimensionalidad menor, es decir que necesitamos menos vectores para describirla.\n",
    "\n",
    "\n",
    "<img src=\"Posibles proyecciones.gif\" width = 600 height = 600> \n",
    "<img src=\"Proyección optima.gif\" width = 600 height = 600> \n",
    "\n",
    "\n",
    "Ahora supongamos que tenemos un data set $X = \\{X_1, \\cdots, X_n\\}$ con $X_i \\in \\mathbb{R}^d$. Cabe destacar que el modelo supone que $E[X] = 0$. Y suponga que se tiene una base $B = \\{b_1, \\cdots, b_d\\}$, siendo una base ortonormal. Entonces cada $X_i$ puede ser escrito como:\n",
    "\n",
    "\n",
    "$$X_i = \\sum_{j = 1}^d \\beta_{ji} b_j$$\n",
    "\n",
    "Ahora vamos a generar dos subespacios de $\\mathbb{R}^d$ dividiendo la base $B$ en dos conjuntos separados: $B_p = \\{b_1, \\cdots, b_m\\}$ y $B_c = \\{b_{m + 1}, \\cdots, b_d\\}$, en si mismas cada una nos representa un subespacio, al que llamaremos subespacio principal, y complementario respectivamente. Note también que $B_p$ y $B_c$ son ortonormales, y podemos reescribir la expresión anterior:\n",
    "\n",
    "\n",
    "\n",
    "\n",
    "$$X_i = \\sum_{j = 1}^m \\beta_{ji} b_j + \\sum_{j = m + 1}^d \\beta_{ji} b_j$$\n",
    "\n",
    "\n",
    "Lo que buscamos entonces es una proyección ortogonal de cada $X_i$ en $B_p$, es decir buscamos $\\tilde{X}_i$ tal que:\n",
    "\n",
    "$$\\tilde{X}_i = B_p B_p^T X_i$$\n",
    "\n",
    "\n",
    "Donde a $B_p^T X_i$ llamaremos las coordenadas de $\\tilde{X}_i$ en el subespacio principal. Buscamos optimizar la función error $J$, que viene expresada de la siguiente forma:\n",
    "\n",
    "\n",
    "$$J = \\frac{1}{n} \\sum_{i = 1}^{n} ||X_i - \\tilde{X}_i||^2$$\n",
    "\n",
    "Ahora noten que podemos escribir $X_i$ como: \n",
    "\n",
    "\n",
    "$$X_i = B_p B_p^T X_i + B_c B_c^T X_i$$\n",
    "\n",
    "\n",
    "Entonces:\n",
    "\n",
    "$$J = \\frac{1}{n} \\sum_{i = 1}^{n} ||X_i - \\tilde{X}_i||^2 = \\frac{1}{n} \\sum_{i = 1}^{n} ||B_c B_c^T X_i||^2$$\n",
    "\n",
    "$$B_c B_c^T \\frac{1}{n} \\sum_{i = 1}^{n} ||X_i||^2 = B_c B_c^T \\frac{1}{n} \\sum_{i = 1}^{n} X_i X_i^T$$\n",
    "\n",
    "$$J = B_c B_c^T var[X]$$\n",
    "\n",
    "\n",
    "Este resultado es muy potente y para poder entender porque, vamos a simplificar el caso, suponga que $B$ solo está formada por los vectores $b_1$, y $b_2$, $b_1$ generará el espacio principal, y $b_2$ el complementario. por lo que podemos simplificar $J$ como sigue:\n",
    "\n",
    "\n",
    "$$J = b_2^T var[X] b_2$$\n",
    "\n",
    "Y además se cumple que $b_2^T b_2 = 1$ ya que la base es ortonormal. Ahora podemos aplicar el método de los multiplicadores de Lagrange para optimizar $J$, no desarrollaremos todo el método solo nos fijaremos en lo siguiente:\n",
    "\n",
    "\n",
    "$$\\frac{\\partial L}{\\partial b_2} = b_2^T var[X] - \\lambda b_2^T$$\n",
    "\n",
    "$$b_2^T var[X] = \\lambda b_2^T$$\n",
    "$$var[X] b_2 = \\lambda b_2$$\n",
    "\n",
    "\n",
    "Es decir los vectores de la base son los vectores propios de $var[X]$ !!!!. \n",
    "\n",
    "<img src=\"impactado.gif\" width = 600 height = 600> \n",
    "\n",
    "\n",
    "Además podemos escribir $J = \\lambda$ por lo que optimizar $J$ se puede entender como tomar los vectores propios correspondientes a los valores propios de $var[X]$ más pequeños como base del subespacio complementario.\n"
   ]
  },
  {
   "cell_type": "markdown",
   "id": "canadian-jefferson",
   "metadata": {},
   "source": [
    "[Regresar al contenido](#Contenido)"
   ]
  },
  {
   "cell_type": "markdown",
   "id": "former-declaration",
   "metadata": {},
   "source": [
    "# Ejemplo: Iris Data Set\n",
    "\n",
    "A continuación mostraremos un ejemplo de PCA aplicado a un data set de 4 dimensiones, los pasos a elegir son los siguientes:\n",
    "\n",
    "\n",
    "- Cargar los datos\n",
    "- Normalizarlos\n",
    "- Obtener los autovectores y autovalores a partir de la matriz de covarianza\n",
    "- Seleccionar los autovectores correspondientes a las componentes principales\n",
    "- Proyectar el dataset original sobre el nuevo espacio de dimensión < 4\n",
    "\n",
    "\n",
    "\n",
    "Este dataset se usa como datos de entrenamiento para un modelo de machine learning cuyo objetivo es determinar de forma automática la especie a la que pertenece una determinada flor, a partir de las medidas 4 atributos o características. En particular, la longitud y la anchura de sus pétalos y sépalos expresadas en centímetros. Por tanto, se trata de un problema de 4 dimensiones, en el que la variable objetivo (target) es la especie. Los datos se pueden representar en forma de una matriz de 150 filas (los datos de cada flor), por 4 columnas (las medidas de sus pétalos/sépalos). La quinta, corresponde a la variable objetivo, la especie.\n",
    "\n",
    "\n",
    "<img src=\"Iris data set.PNG\" width = 600 height = 600> "
   ]
  },
  {
   "cell_type": "code",
   "execution_count": 87,
   "id": "documentary-newton",
   "metadata": {},
   "outputs": [],
   "source": [
    "url = \"https://archive.ics.uci.edu/ml/machine-learning-databases/iris/iris.data\"\n",
    "\n",
    "data = pd.read_csv(url, names = ['lng sepalo', 'anch sepalo', 'lng petalo', 'anch petalo', 'especie'])"
   ]
  },
  {
   "cell_type": "code",
   "execution_count": 88,
   "id": "010febba",
   "metadata": {},
   "outputs": [
    {
     "data": {
      "text/html": [
       "<div>\n",
       "<style scoped>\n",
       "    .dataframe tbody tr th:only-of-type {\n",
       "        vertical-align: middle;\n",
       "    }\n",
       "\n",
       "    .dataframe tbody tr th {\n",
       "        vertical-align: top;\n",
       "    }\n",
       "\n",
       "    .dataframe thead th {\n",
       "        text-align: right;\n",
       "    }\n",
       "</style>\n",
       "<table border=\"1\" class=\"dataframe\">\n",
       "  <thead>\n",
       "    <tr style=\"text-align: right;\">\n",
       "      <th></th>\n",
       "      <th>lng sepalo</th>\n",
       "      <th>anch sepalo</th>\n",
       "      <th>lng petalo</th>\n",
       "      <th>anch petalo</th>\n",
       "      <th>especie</th>\n",
       "    </tr>\n",
       "  </thead>\n",
       "  <tbody>\n",
       "    <tr>\n",
       "      <th>0</th>\n",
       "      <td>5.1</td>\n",
       "      <td>3.5</td>\n",
       "      <td>1.4</td>\n",
       "      <td>0.2</td>\n",
       "      <td>Iris-setosa</td>\n",
       "    </tr>\n",
       "    <tr>\n",
       "      <th>1</th>\n",
       "      <td>4.9</td>\n",
       "      <td>3.0</td>\n",
       "      <td>1.4</td>\n",
       "      <td>0.2</td>\n",
       "      <td>Iris-setosa</td>\n",
       "    </tr>\n",
       "    <tr>\n",
       "      <th>2</th>\n",
       "      <td>4.7</td>\n",
       "      <td>3.2</td>\n",
       "      <td>1.3</td>\n",
       "      <td>0.2</td>\n",
       "      <td>Iris-setosa</td>\n",
       "    </tr>\n",
       "    <tr>\n",
       "      <th>3</th>\n",
       "      <td>4.6</td>\n",
       "      <td>3.1</td>\n",
       "      <td>1.5</td>\n",
       "      <td>0.2</td>\n",
       "      <td>Iris-setosa</td>\n",
       "    </tr>\n",
       "    <tr>\n",
       "      <th>4</th>\n",
       "      <td>5.0</td>\n",
       "      <td>3.6</td>\n",
       "      <td>1.4</td>\n",
       "      <td>0.2</td>\n",
       "      <td>Iris-setosa</td>\n",
       "    </tr>\n",
       "  </tbody>\n",
       "</table>\n",
       "</div>"
      ],
      "text/plain": [
       "   lng sepalo  anch sepalo  lng petalo  anch petalo      especie\n",
       "0         5.1          3.5         1.4          0.2  Iris-setosa\n",
       "1         4.9          3.0         1.4          0.2  Iris-setosa\n",
       "2         4.7          3.2         1.3          0.2  Iris-setosa\n",
       "3         4.6          3.1         1.5          0.2  Iris-setosa\n",
       "4         5.0          3.6         1.4          0.2  Iris-setosa"
      ]
     },
     "execution_count": 88,
     "metadata": {},
     "output_type": "execute_result"
    }
   ],
   "source": [
    "data.head()"
   ]
  },
  {
   "cell_type": "code",
   "execution_count": 89,
   "id": "ac1e711c",
   "metadata": {},
   "outputs": [],
   "source": [
    "X = data[['lng sepalo', 'anch sepalo', 'lng petalo', 'anch petalo']]"
   ]
  },
  {
   "cell_type": "code",
   "execution_count": 90,
   "id": "84c47ab0",
   "metadata": {},
   "outputs": [],
   "source": [
    "y = data['especie']"
   ]
  },
  {
   "cell_type": "code",
   "execution_count": 92,
   "id": "fbbf0862",
   "metadata": {},
   "outputs": [
    {
     "data": {
      "text/plain": [
       "lng sepalo     5.843333\n",
       "anch sepalo    3.054000\n",
       "lng petalo     3.758667\n",
       "anch petalo    1.198667\n",
       "dtype: float64"
      ]
     },
     "execution_count": 92,
     "metadata": {},
     "output_type": "execute_result"
    }
   ],
   "source": [
    "X.mean(axis = 0)"
   ]
  },
  {
   "cell_type": "markdown",
   "id": "honey-planning",
   "metadata": {},
   "source": [
    "Cuando las distintas características o atributos de un dataset están expresadas en distintas escalas se hace patente la necesidad de normalizar sus valores. En este caso, en el que las medidas de sépalos y pétalos están expresadas en centímetros, no sería imprescindible. Sin embargo, como ya comentamos en el post anterior (en forma de una de las limitaciones del PCA), al aplicar esta técnica se asume que los datos de trabajado tienen una distribución gaussiana o normal.  Por tanto, aplicamos a los datos una transformación de normalización de forma que su media sea igual a 0, y su varianza=1. Para ello, usaremos la transformación Standardscaler de sklearn."
   ]
  },
  {
   "cell_type": "code",
   "execution_count": 134,
   "id": "3b916354",
   "metadata": {},
   "outputs": [],
   "source": [
    "from sklearn.preprocessing import StandardScaler"
   ]
  },
  {
   "cell_type": "code",
   "execution_count": 135,
   "id": "cd42bb85",
   "metadata": {},
   "outputs": [],
   "source": [
    "scaler = StandardScaler()"
   ]
  },
  {
   "cell_type": "code",
   "execution_count": 136,
   "id": "3a0044e5",
   "metadata": {},
   "outputs": [],
   "source": [
    "X_std = scaler.fit_transform(X)"
   ]
  },
  {
   "cell_type": "code",
   "execution_count": 140,
   "id": "4eccb3c4",
   "metadata": {},
   "outputs": [
    {
     "data": {
      "text/plain": [
       "array([ True,  True,  True,  True])"
      ]
     },
     "execution_count": 140,
     "metadata": {},
     "output_type": "execute_result"
    }
   ],
   "source": [
    "np.isclose(X_std.mean(axis = 0), 0)"
   ]
  },
  {
   "cell_type": "code",
   "execution_count": 141,
   "id": "1eb29917",
   "metadata": {},
   "outputs": [
    {
     "data": {
      "text/plain": [
       "array([1., 1., 1., 1.])"
      ]
     },
     "execution_count": 141,
     "metadata": {},
     "output_type": "execute_result"
    }
   ],
   "source": [
    "X_std.std(axis = 0)"
   ]
  },
  {
   "cell_type": "code",
   "execution_count": 146,
   "id": "2cdab7ba",
   "metadata": {},
   "outputs": [],
   "source": [
    "cov_m = np.cov(X_std.T)"
   ]
  },
  {
   "cell_type": "code",
   "execution_count": 147,
   "id": "bc1aefd5",
   "metadata": {},
   "outputs": [],
   "source": [
    "vals, B = np.linalg.eig(cov_m)"
   ]
  },
  {
   "cell_type": "code",
   "execution_count": 148,
   "id": "ff7179cd",
   "metadata": {},
   "outputs": [
    {
     "data": {
      "text/plain": [
       "array([2.93035378, 0.92740362, 0.14834223, 0.02074601])"
      ]
     },
     "execution_count": 148,
     "metadata": {},
     "output_type": "execute_result"
    }
   ],
   "source": [
    "vals"
   ]
  },
  {
   "cell_type": "code",
   "execution_count": 149,
   "id": "9cc69419",
   "metadata": {},
   "outputs": [
    {
     "data": {
      "text/plain": [
       "array([[ 0.52237162, -0.37231836, -0.72101681,  0.26199559],\n",
       "       [-0.26335492, -0.92555649,  0.24203288, -0.12413481],\n",
       "       [ 0.58125401, -0.02109478,  0.14089226, -0.80115427],\n",
       "       [ 0.56561105, -0.06541577,  0.6338014 ,  0.52354627]])"
      ]
     },
     "execution_count": 149,
     "metadata": {},
     "output_type": "execute_result"
    }
   ],
   "source": [
    "B"
   ]
  },
  {
   "cell_type": "code",
   "execution_count": 150,
   "id": "f27a7a61",
   "metadata": {},
   "outputs": [],
   "source": [
    "eig_pairs = [(vals[i], B[:, i]) for i in range(len(vals))]"
   ]
  },
  {
   "cell_type": "code",
   "execution_count": 151,
   "id": "a46cabe2",
   "metadata": {},
   "outputs": [
    {
     "data": {
      "text/plain": [
       "[(2.9303537755893183,\n",
       "  array([ 0.52237162, -0.26335492,  0.58125401,  0.56561105])),\n",
       " (0.9274036215173421,\n",
       "  array([-0.37231836, -0.92555649, -0.02109478, -0.06541577])),\n",
       " (0.14834222648163972,\n",
       "  array([-0.72101681,  0.24203288,  0.14089226,  0.6338014 ])),\n",
       " (0.020746013995596023,\n",
       "  array([ 0.26199559, -0.12413481, -0.80115427,  0.52354627]))]"
      ]
     },
     "execution_count": 151,
     "metadata": {},
     "output_type": "execute_result"
    }
   ],
   "source": [
    "eig_pairs"
   ]
  },
  {
   "cell_type": "code",
   "execution_count": 152,
   "id": "5de6ef20",
   "metadata": {},
   "outputs": [],
   "source": [
    "tot = vals.sum()"
   ]
  },
  {
   "cell_type": "code",
   "execution_count": 155,
   "id": "8373c41b",
   "metadata": {},
   "outputs": [
    {
     "data": {
      "text/plain": [
       "[2.9303537755893183,\n",
       " 0.9274036215173421,\n",
       " 0.14834222648163972,\n",
       " 0.020746013995596023]"
      ]
     },
     "execution_count": 155,
     "metadata": {},
     "output_type": "execute_result"
    }
   ],
   "source": [
    "sorted(vals, reverse = True)"
   ]
  },
  {
   "cell_type": "code",
   "execution_count": 156,
   "id": "8cf74932",
   "metadata": {},
   "outputs": [],
   "source": [
    "var_exp = [(val / tot) * 100 for val in sorted(vals, reverse = True)]"
   ]
  },
  {
   "cell_type": "code",
   "execution_count": 157,
   "id": "188b4231",
   "metadata": {},
   "outputs": [
    {
     "data": {
      "text/plain": [
       "[72.77045209380135, 23.030523267680643, 3.6838319576273837, 0.5151926808906342]"
      ]
     },
     "execution_count": 157,
     "metadata": {},
     "output_type": "execute_result"
    }
   ],
   "source": [
    "var_exp"
   ]
  },
  {
   "cell_type": "code",
   "execution_count": 158,
   "id": "b195fc3e",
   "metadata": {},
   "outputs": [],
   "source": [
    "sum_var_exp = np.cumsum(var_exp)"
   ]
  },
  {
   "cell_type": "code",
   "execution_count": 159,
   "id": "0b212bcd",
   "metadata": {},
   "outputs": [
    {
     "data": {
      "text/plain": [
       "array([ 72.77045209,  95.80097536,  99.48480732, 100.        ])"
      ]
     },
     "execution_count": 159,
     "metadata": {},
     "output_type": "execute_result"
    }
   ],
   "source": [
    "sum_var_exp"
   ]
  },
  {
   "cell_type": "code",
   "execution_count": 166,
   "id": "bffb5bbe",
   "metadata": {},
   "outputs": [
    {
     "data": {
      "image/png": "[encoded data removed]",
      "text/plain": [
       "<Figure size 1000x600 with 1 Axes>"
      ]
     },
     "metadata": {},
     "output_type": "display_data"
    }
   ],
   "source": [
    "fig, ax = plt.subplots(figsize = (10, 6))\n",
    "\n",
    "ax.bar(np.arange(1, len(vals) + 1), var_exp, color = 'g', alpha = 0.7)\n",
    "ax.step(np.arange(1, len(vals) + 1), sum_var_exp, linestyle = '--')\n",
    "ax.set_xlabel('Componentes')\n",
    "ax.set_ylabel('Varianza Explicada');"
   ]
  },
  {
   "cell_type": "code",
   "execution_count": 168,
   "id": "8be04770",
   "metadata": {},
   "outputs": [],
   "source": [
    "eig_pairs.sort(reverse=True)"
   ]
  },
  {
   "cell_type": "code",
   "execution_count": 171,
   "id": "63f92d8a",
   "metadata": {},
   "outputs": [
    {
     "data": {
      "text/plain": [
       "array([ 0.52237162, -0.26335492,  0.58125401,  0.56561105])"
      ]
     },
     "execution_count": 171,
     "metadata": {},
     "output_type": "execute_result"
    }
   ],
   "source": [
    "eig_pairs[0][1]"
   ]
  },
  {
   "cell_type": "code",
   "execution_count": 172,
   "id": "a437f5bb",
   "metadata": {},
   "outputs": [
    {
     "data": {
      "text/plain": [
       "array([-0.37231836, -0.92555649, -0.02109478, -0.06541577])"
      ]
     },
     "execution_count": 172,
     "metadata": {},
     "output_type": "execute_result"
    }
   ],
   "source": [
    "eig_pairs[1][1]"
   ]
  },
  {
   "cell_type": "code",
   "execution_count": 173,
   "id": "93102086",
   "metadata": {},
   "outputs": [],
   "source": [
    "B = np.column_stack([eig_pairs[0][1], eig_pairs[1][1]])"
   ]
  },
  {
   "cell_type": "code",
   "execution_count": 174,
   "id": "81dd70d5",
   "metadata": {},
   "outputs": [
    {
     "data": {
      "text/plain": [
       "array([[ 0.52237162, -0.37231836],\n",
       "       [-0.26335492, -0.92555649],\n",
       "       [ 0.58125401, -0.02109478],\n",
       "       [ 0.56561105, -0.06541577]])"
      ]
     },
     "execution_count": 174,
     "metadata": {},
     "output_type": "execute_result"
    }
   ],
   "source": [
    "B"
   ]
  },
  {
   "cell_type": "code",
   "execution_count": 175,
   "id": "3c43bc97",
   "metadata": {},
   "outputs": [],
   "source": [
    "M = B @ B.T"
   ]
  },
  {
   "cell_type": "code",
   "execution_count": 177,
   "id": "6766f20e",
   "metadata": {},
   "outputs": [
    {
     "data": {
      "text/plain": [
       "array([-0.99464948,  1.06443573, -1.30560624, -1.24776881])"
      ]
     },
     "execution_count": 177,
     "metadata": {},
     "output_type": "execute_result"
    }
   ],
   "source": [
    "M @ X_std[0, :]"
   ]
  },
  {
   "cell_type": "code",
   "execution_count": 178,
   "id": "e400d2ca",
   "metadata": {},
   "outputs": [
    {
     "data": {
      "text/plain": [
       "(4, 4)"
      ]
     },
     "execution_count": 178,
     "metadata": {},
     "output_type": "execute_result"
    }
   ],
   "source": [
    "M.shape"
   ]
  },
  {
   "cell_type": "code",
   "execution_count": 179,
   "id": "731d4a19",
   "metadata": {},
   "outputs": [
    {
     "data": {
      "text/plain": [
       "(150, 4)"
      ]
     },
     "execution_count": 179,
     "metadata": {},
     "output_type": "execute_result"
    }
   ],
   "source": [
    "X_std.shape"
   ]
  },
  {
   "cell_type": "code",
   "execution_count": 181,
   "id": "9d77e4bb",
   "metadata": {},
   "outputs": [],
   "source": [
    "pX_std = X_std @ M"
   ]
  },
  {
   "cell_type": "code",
   "execution_count": 184,
   "id": "d512df4f",
   "metadata": {},
   "outputs": [
    {
     "name": "stdout",
     "output_type": "stream",
     "text": [
      "290 µs ± 15.5 µs per loop (mean ± std. dev. of 7 runs, 1,000 loops each)\n"
     ]
    }
   ],
   "source": [
    "%%timeit \n",
    "temp = []\n",
    "for i in range(X_std.shape[0]):\n",
    "    temp.append(M @ X_std[i, :])\n",
    "    \n",
    "temp = np.array(temp)"
   ]
  },
  {
   "cell_type": "code",
   "execution_count": 185,
   "id": "1c124f41",
   "metadata": {},
   "outputs": [
    {
     "name": "stdout",
     "output_type": "stream",
     "text": [
      "2.44 µs ± 202 ns per loop (mean ± std. dev. of 7 runs, 1,000,000 loops each)\n"
     ]
    }
   ],
   "source": [
    "%timeit pX_std = X_std @ M"
   ]
  },
  {
   "cell_type": "code",
   "execution_count": 186,
   "id": "85de1db1",
   "metadata": {},
   "outputs": [
    {
     "data": {
      "text/plain": [
       "array([-0.99464948,  1.06443573, -1.30560624, -1.24776881])"
      ]
     },
     "execution_count": 186,
     "metadata": {},
     "output_type": "execute_result"
    }
   ],
   "source": [
    "pX_std[0]"
   ]
  },
  {
   "cell_type": "markdown",
   "id": "8a5b9747",
   "metadata": {},
   "source": [
    "$$\\lambda = B^T a$$"
   ]
  },
  {
   "cell_type": "code",
   "execution_count": 196,
   "id": "51bae8ba",
   "metadata": {},
   "outputs": [
    {
     "data": {
      "text/plain": [
       "array([-2.0864255 ,  0.65540473])"
      ]
     },
     "execution_count": 196,
     "metadata": {},
     "output_type": "execute_result"
    }
   ],
   "source": [
    "B.T @ pX_std[1]"
   ]
  },
  {
   "cell_type": "code",
   "execution_count": 193,
   "id": "adcd6000",
   "metadata": {},
   "outputs": [
    {
     "data": {
      "text/plain": [
       "((2, 4), (4, 150))"
      ]
     },
     "execution_count": 193,
     "metadata": {},
     "output_type": "execute_result"
    }
   ],
   "source": [
    "B.T.shape, pX_std.T.shape"
   ]
  },
  {
   "cell_type": "code",
   "execution_count": 194,
   "id": "325b35c3",
   "metadata": {},
   "outputs": [
    {
     "data": {
      "text/plain": [
       "((150, 4), (4, 2))"
      ]
     },
     "execution_count": 194,
     "metadata": {},
     "output_type": "execute_result"
    }
   ],
   "source": [
    "pX_std.shape, B.shape"
   ]
  },
  {
   "cell_type": "code",
   "execution_count": 197,
   "id": "0994f163",
   "metadata": {},
   "outputs": [],
   "source": [
    "newX = pX_std @ B"
   ]
  },
  {
   "cell_type": "code",
   "execution_count": 204,
   "id": "9d4fa602",
   "metadata": {},
   "outputs": [
    {
     "data": {
      "text/plain": [
       "(150, 3)"
      ]
     },
     "execution_count": 204,
     "metadata": {},
     "output_type": "execute_result"
    }
   ],
   "source": [
    "newX.shape"
   ]
  },
  {
   "cell_type": "code",
   "execution_count": 201,
   "id": "23710664",
   "metadata": {},
   "outputs": [],
   "source": [
    "newX = np.column_stack([newX, y])"
   ]
  },
  {
   "cell_type": "code",
   "execution_count": 202,
   "id": "ee912699",
   "metadata": {},
   "outputs": [],
   "source": [
    "colors = ['magenta', 'cyan', 'limegreen']"
   ]
  },
  {
   "cell_type": "code",
   "execution_count": 206,
   "id": "7a3e5589",
   "metadata": {},
   "outputs": [
    {
     "data": {
      "image/png": "[encoded data removed]",
      "text/plain": [
       "<Figure size 1200x800 with 1 Axes>"
      ]
     },
     "metadata": {},
     "output_type": "display_data"
    }
   ],
   "source": [
    "fig, ax = plt.subplots(figsize = (12, 8))\n",
    "\n",
    "for f, c in zip(y.unique(), colors):\n",
    "    mask = newX[:, 2] == f\n",
    "    ax.scatter(newX[mask, 0], newX[mask, 1], color = c, label = f)\n",
    "    \n",
    "ax.legend();"
   ]
  },
  {
   "cell_type": "code",
   "execution_count": 207,
   "id": "d15cb77e",
   "metadata": {},
   "outputs": [
    {
     "data": {
      "text/plain": [
       "array([[-2.2645417283949003, -0.5057039027737847, 'Iris-setosa'],\n",
       "       [-2.086425500616158, 0.6554047293691364, 'Iris-setosa'],\n",
       "       [-2.3679504490625254, 0.3184773108472492, 'Iris-setosa'],\n",
       "       [-2.3041971611520085, 0.5753677125331954, 'Iris-setosa'],\n",
       "       [-2.3887774935056423, -0.6747673967025154, 'Iris-setosa'],\n",
       "       [-2.070536807180555, -1.5185485598885133, 'Iris-setosa'],\n",
       "       [-2.445711339630283, -0.07456267500687383, 'Iris-setosa'],\n",
       "       [-2.233841858709266, -0.24761393175226512, 'Iris-setosa'],\n",
       "       [-2.3419576764553884, 1.0951463625829554, 'Iris-setosa'],\n",
       "       [-2.1886757552808693, 0.44862904833755907, 'Iris-setosa'],\n",
       "       [-2.1634865562665238, -1.0705955760377266, 'Iris-setosa'],\n",
       "       [-2.327377754134374, -0.15858745465947574, 'Iris-setosa'],\n",
       "       [-2.2240827220450017, 0.7091181580302263, 'Iris-setosa'],\n",
       "       [-2.6397162608446285, 0.9382819821078542, 'Iris-setosa'],\n",
       "       [-2.1922915084984314, -1.8899785123164656, 'Iris-setosa'],\n",
       "       [-2.251465214584068, -2.722371076574469, 'Iris-setosa'],\n",
       "       [-2.202750480080087, -1.5137502825462186, 'Iris-setosa'],\n",
       "       [-2.1901791637910524, -0.5143043082206927, 'Iris-setosa'],\n",
       "       [-1.89407429302367, -1.4311107069412372, 'Iris-setosa'],\n",
       "       [-2.339949070423409, -1.1580334289850007, 'Iris-setosa'],\n",
       "       [-1.9145563949595177, -0.43046516328013795, 'Iris-setosa'],\n",
       "       [-2.204645397533815, -0.9524573172889981, 'Iris-setosa'],\n",
       "       [-2.7741697937051564, -0.48951702650349516, 'Iris-setosa'],\n",
       "       [-1.8204115633372138, -0.10675079283540606, 'Iris-setosa'],\n",
       "       [-2.228217499459725, -0.16218616266619676, 'Iris-setosa'],\n",
       "       [-1.9570240073413963, 0.6078925674838079, 'Iris-setosa'],\n",
       "       [-2.0520633112766866, -0.26601431198165504, 'Iris-setosa'],\n",
       "       [-2.1681936533450217, -0.55201649532354, 'Iris-setosa'],\n",
       "       [-2.140305963284158, -0.33664040884505436, 'Iris-setosa'],\n",
       "       [-2.268790194387876, 0.31487860284052827, 'Iris-setosa'],\n",
       "       [-2.144554429277134, 0.483942096769259, 'Iris-setosa'],\n",
       "       [-1.8319381022015877, -0.44526683550280705, 'Iris-setosa'],\n",
       "       [-2.608202867663349, -1.8284751927341014, 'Iris-setosa'],\n",
       "       [-2.4379508590951446, -2.185391615630893, 'Iris-setosa'],\n",
       "       [-2.1886757552808693, 0.44862904833755907, 'Iris-setosa'],\n",
       "       [-2.2111198968124217, 0.1843378105402787, 'Iris-setosa'],\n",
       "       [-2.044416519319801, -0.6849564262949368, 'Iris-setosa'],\n",
       "       [-2.1886757552808693, 0.44862904833755907, 'Iris-setosa'],\n",
       "       [-2.435952202966018, 0.8821694147756173, 'Iris-setosa'],\n",
       "       [-2.1705472018842706, -0.29272695496644635, 'Iris-setosa'],\n",
       "       [-2.2865272388409306, -0.46799171567093806, 'Iris-setosa'],\n",
       "       [-1.8717072235369485, 2.3276916061149104, 'Iris-setosa'],\n",
       "       [-2.5578344195375116, 0.45381638048979334, 'Iris-setosa'],\n",
       "       [-1.9642792903547373, -0.4973916400183832, 'Iris-setosa'],\n",
       "       [-2.133372832920029, -1.1714321117742035, 'Iris-setosa'],\n",
       "       [-2.0753575928373054, 0.6919173471364101, 'Iris-setosa'],\n",
       "       [-2.381258216802374, -1.1506325928736667, 'Iris-setosa'],\n",
       "       [-2.398191687662638, 0.3623907647258572, 'Iris-setosa'],\n",
       "       [-2.2267812130915194, -1.0254825528235447, 'Iris-setosa'],\n",
       "       [-2.205954168648402, -0.03223784527377956, 'Iris-setosa'],\n",
       "       [1.1039936528045706, -0.8631124458513237, 'Iris-versicolor'],\n",
       "       [0.73248144000868, -0.5986355733419962, 'Iris-versicolor'],\n",
       "       [1.2421095053189366, -0.6148224496122859, 'Iris-versicolor'],\n",
       "       [0.3973072828233291, 1.7581689474435274, 'Iris-versicolor'],\n",
       "       [1.072593948201545, 0.21175790267989644, 'Iris-versicolor'],\n",
       "       [0.3844581461690022, 0.5910624686227374, 'Iris-versicolor'],\n",
       "       [0.748715075951552, -0.778698611388781, 'Iris-versicolor'],\n",
       "       [-0.4978633877981158, 1.8488687712754435, 'Iris-versicolor'],\n",
       "       [0.9262223675330976, -0.030330826783380452, 'Iris-versicolor'],\n",
       "       [0.004968025584320751, 1.029401112403089, 'Iris-versicolor'],\n",
       "       [-0.12469746138036784, 2.6580626779617607, 'Iris-versicolor'],\n",
       "       [0.4387301177805468, 0.05888128502145541, 'Iris-versicolor'],\n",
       "       [0.551633981422509, 1.7725815648562555, 'Iris-versicolor'],\n",
       "       [0.7171650662368513, 0.1854343145050448, 'Iris-versicolor'],\n",
       "       [-0.03725838296568777, 0.4327950987141699, 'Iris-versicolor'],\n",
       "       [0.8758905359406821, -0.5099981510591468, 'Iris-versicolor'],\n",
       "       [0.348006401980209, 0.190621646657279, 'Iris-versicolor'],\n",
       "       [0.15339254456866755, 0.7907254562344861, 'Iris-versicolor'],\n",
       "       [1.2153032092161553, 1.633355644515484, 'Iris-versicolor'],\n",
       "       [0.15694117564425183, 1.3031032701729117, 'Iris-versicolor'],\n",
       "       [0.7382561043698956, -0.4024703816185345, 'Iris-versicolor'],\n",
       "       [0.4723696823445686, 0.41660822244388024, 'Iris-versicolor'],\n",
       "       [1.227988214083443, 0.9409147925302732, 'Iris-versicolor'],\n",
       "       [0.6293810453149019, 0.41681164254177283, 'Iris-versicolor'],\n",
       "       [0.7004727992084578, 0.06349392765170295, 'Iris-versicolor'],\n",
       "       [0.8735369874014329, -0.2507086107020532, 'Iris-versicolor'],\n",
       "       [1.2542221905224493, 0.08262009981311319, 'Iris-versicolor'],\n",
       "       [1.358239847387271, -0.328820266270401, 'Iris-versicolor'],\n",
       "       [0.6621261375659379, 0.22434607094346512, 'Iris-versicolor'],\n",
       "       [-0.04728151331987919, 1.0572124126050213, 'Iris-versicolor'],\n",
       "       [0.12153420888012022, 1.563592379865579, 'Iris-versicolor'],\n",
       "       [0.014118226051389205, 1.5733923546480606, 'Iris-versicolor'],\n",
       "       [0.2360108373265975, 0.775923784011817, 'Iris-versicolor'],\n",
       "       [1.056691428090577, 0.6369012837689383, 'Iris-versicolor'],\n",
       "       [0.22141708833021845, 0.2808476930856415, 'Iris-versicolor'],\n",
       "       [0.4317831607410526, -0.8551369202180017, 'Iris-versicolor'],\n",
       "       [1.0494133552191793, -0.5221972645127759, 'Iris-versicolor'],\n",
       "       [1.035878210322825, 1.3924664843877814, 'Iris-versicolor'],\n",
       "       [0.06706759987298067, 0.21262073489338973, 'Iris-versicolor'],\n",
       "       [0.27542506625183577, 1.3298159131577034, 'Iris-versicolor'],\n",
       "       [0.2723350662617733, 1.1194415241194051, 'Iris-versicolor'],\n",
       "       [0.6231705397262214, -0.027542633302293496, 'Iris-versicolor'],\n",
       "       [0.3300053638372273, 0.9889007318191555, 'Iris-versicolor'],\n",
       "       [-0.3736276226873738, 2.017932265204174, 'Iris-versicolor'],\n",
       "       [0.2829443429551037, 0.853950716986551, 'Iris-versicolor'],\n",
       "       [0.08905311031901166, 0.1749085477905426, 'Iris-versicolor'],\n",
       "       [0.22435678320860641, 0.3804846594865465, 'Iris-versicolor'],\n",
       "       [0.5738834855584667, 0.15371997408006582, 'Iris-versicolor'],\n",
       "       [-0.4570128725046731, 1.5394645102639815, 'Iris-versicolor'],\n",
       "       [0.25224447326946986, 0.595860745965032, 'Iris-versicolor'],\n",
       "       [1.8476725943096635, -0.8716966617734113, 'Iris-virginica'],\n",
       "       [1.1531898082521301, 0.7013261138565768, 'Iris-virginica'],\n",
       "       [2.2063494971265922, -0.5544701049349214, 'Iris-virginica'],\n",
       "       [1.4386854023261817, 0.05001052226888678, 'Iris-virginica'],\n",
       "       [1.8678907025555842, -0.2911928017611677, 'Iris-virginica'],\n",
       "       [2.754196708825751, -0.788432206354844, 'Iris-virginica'],\n",
       "       [0.35837447484167007, 1.5600945839772908, 'Iris-virginica'],\n",
       "       [2.3030058981503183, -0.4095166952219426, 'Iris-virginica'],\n",
       "       [2.001735299218917, 0.7238653593126605, 'Iris-virginica'],\n",
       "       [2.267554599102266, -1.9214429914653532, 'Iris-virginica'],\n",
       "       [1.3659094292022136, -0.6939480398041599, 'Iris-virginica'],\n",
       "       [1.5990645856518693, 0.42824883590034096, 'Iris-virginica'],\n",
       "       [1.8842518537520734, -0.41433275795008284, 'Iris-virginica'],\n",
       "       [1.2530865143775933, 1.1673913352452474, 'Iris-virginica'],\n",
       "       [1.4640615229856235, 0.44414756947912526, 'Iris-virginica'],\n",
       "       [1.591809302638528, -0.6770353716018502, 'Iris-virginica'],\n",
       "       [1.4712801894655432, -0.2531924719668144, 'Iris-virginica'],\n",
       "       [2.4373784821935054, -2.556757341494801, 'Iris-virginica'],\n",
       "       [3.3091411826760786, 0.002361320102084039, 'Iris-virginica'],\n",
       "       [1.2539809866905796, 1.7175838442659788, 'Iris-virginica'],\n",
       "       [2.040496259663038, -0.9073987650150518, 'Iris-virginica'],\n",
       "       [0.9739151144704747, 0.5711743763662678, 'Iris-virginica'],\n",
       "       [2.898064435843275, -0.39779135917186725, 'Iris-virginica'],\n",
       "       [1.3291936913234936, 0.48676054190372525, 'Iris-virginica'],\n",
       "       [1.7042407085196047, -1.0141484248357837, 'Iris-virginica'],\n",
       "       [1.9577276617934336, -1.0033345154297764, 'Iris-virginica'],\n",
       "       [1.171904507987869, 0.3188966173105689, 'Iris-virginica'],\n",
       "       [1.0197810528162627, -0.06554296309664685, 'Iris-virginica'],\n",
       "       [1.7860088612484681, 0.19327279985689277, 'Iris-virginica'],\n",
       "       [1.8647779127074648, -0.555381531578989, 'Iris-virginica'],\n",
       "       [2.4354973914151423, -0.24665446806897315, 'Iris-virginica'],\n",
       "       [2.316082411961151, -2.626183869022627, 'Iris-virginica'],\n",
       "       [1.860371425852316, 0.18467239440998473, 'Iris-virginica'],\n",
       "       [1.111271725675969, 0.2959861024303912, 'Iris-virginica'],\n",
       "       [1.197469155118038, 0.8171677419136169, 'Iris-virginica'],\n",
       "       [2.8009494037340272, -0.8447481937849737, 'Iris-virginica'],\n",
       "       [1.5801552485205363, -1.0724744961271206, 'Iris-virginica'],\n",
       "       [1.3470444243548012, -0.4222559658955451, 'Iris-virginica'],\n",
       "       [0.9234329777663843, -0.019230370546891973, 'Iris-virginica'],\n",
       "       [1.8535519840664394, -0.6724227289716027, 'Iris-virginica'],\n",
       "       [2.0161572006777586, -0.6103970375551114, 'Iris-virginica'],\n",
       "       [1.9031168585994862, -0.686024831858698, 'Iris-virginica'],\n",
       "       [1.1531898082521301, 0.7013261138565768, 'Iris-virginica'],\n",
       "       [2.0433084392878085, -0.8646848804720173, 'Iris-virginica'],\n",
       "       [2.0016909669349965, -1.048550046623416, 'Iris-virginica'],\n",
       "       [1.8705220714601252, -0.3828218376229969, 'Iris-virginica'],\n",
       "       [1.5584918907237177, 0.9053136014070672, 'Iris-virginica'],\n",
       "       [1.52084506399859, -0.2667945748539097, 'Iris-virginica'],\n",
       "       [1.3763911906419273, -1.016361928794884, 'Iris-virginica'],\n",
       "       [0.9592985756160382, 0.0222839446605684, 'Iris-virginica']],\n",
       "      dtype=object)"
      ]
     },
     "execution_count": 207,
     "metadata": {},
     "output_type": "execute_result"
    }
   ],
   "source": [
    "newX"
   ]
  },
  {
   "cell_type": "code",
   "execution_count": 210,
   "id": "e64ed66c",
   "metadata": {},
   "outputs": [
    {
     "name": "stderr",
     "output_type": "stream",
     "text": [
      "C:\\Users\\juan.enriquez\\AppData\\Local\\Temp\\ipykernel_25380\\4020818503.py:1: FutureWarning: The default value of numeric_only in DataFrame.cov is deprecated. In a future version, it will default to False. Select only valid columns or specify the value of numeric_only to silence this warning.\n",
      "  data.cov()\n"
     ]
    },
    {
     "data": {
      "text/html": [
       "<div>\n",
       "<style scoped>\n",
       "    .dataframe tbody tr th:only-of-type {\n",
       "        vertical-align: middle;\n",
       "    }\n",
       "\n",
       "    .dataframe tbody tr th {\n",
       "        vertical-align: top;\n",
       "    }\n",
       "\n",
       "    .dataframe thead th {\n",
       "        text-align: right;\n",
       "    }\n",
       "</style>\n",
       "<table border=\"1\" class=\"dataframe\">\n",
       "  <thead>\n",
       "    <tr style=\"text-align: right;\">\n",
       "      <th></th>\n",
       "      <th>lng sepalo</th>\n",
       "      <th>anch sepalo</th>\n",
       "      <th>lng petalo</th>\n",
       "      <th>anch petalo</th>\n",
       "    </tr>\n",
       "  </thead>\n",
       "  <tbody>\n",
       "    <tr>\n",
       "      <th>lng sepalo</th>\n",
       "      <td>0.685694</td>\n",
       "      <td>-0.039268</td>\n",
       "      <td>1.273682</td>\n",
       "      <td>0.516904</td>\n",
       "    </tr>\n",
       "    <tr>\n",
       "      <th>anch sepalo</th>\n",
       "      <td>-0.039268</td>\n",
       "      <td>0.188004</td>\n",
       "      <td>-0.321713</td>\n",
       "      <td>-0.117981</td>\n",
       "    </tr>\n",
       "    <tr>\n",
       "      <th>lng petalo</th>\n",
       "      <td>1.273682</td>\n",
       "      <td>-0.321713</td>\n",
       "      <td>3.113179</td>\n",
       "      <td>1.296387</td>\n",
       "    </tr>\n",
       "    <tr>\n",
       "      <th>anch petalo</th>\n",
       "      <td>0.516904</td>\n",
       "      <td>-0.117981</td>\n",
       "      <td>1.296387</td>\n",
       "      <td>0.582414</td>\n",
       "    </tr>\n",
       "  </tbody>\n",
       "</table>\n",
       "</div>"
      ],
      "text/plain": [
       "             lng sepalo  anch sepalo  lng petalo  anch petalo\n",
       "lng sepalo     0.685694    -0.039268    1.273682     0.516904\n",
       "anch sepalo   -0.039268     0.188004   -0.321713    -0.117981\n",
       "lng petalo     1.273682    -0.321713    3.113179     1.296387\n",
       "anch petalo    0.516904    -0.117981    1.296387     0.582414"
      ]
     },
     "execution_count": 210,
     "metadata": {},
     "output_type": "execute_result"
    }
   ],
   "source": [
    "data.cov()"
   ]
  },
  {
   "cell_type": "code",
   "execution_count": 211,
   "id": "a69d61d1",
   "metadata": {},
   "outputs": [
    {
     "data": {
      "text/html": [
       "<div>\n",
       "<style scoped>\n",
       "    .dataframe tbody tr th:only-of-type {\n",
       "        vertical-align: middle;\n",
       "    }\n",
       "\n",
       "    .dataframe tbody tr th {\n",
       "        vertical-align: top;\n",
       "    }\n",
       "\n",
       "    .dataframe thead th {\n",
       "        text-align: right;\n",
       "    }\n",
       "</style>\n",
       "<table border=\"1\" class=\"dataframe\">\n",
       "  <thead>\n",
       "    <tr style=\"text-align: right;\">\n",
       "      <th></th>\n",
       "      <th>lng sepalo</th>\n",
       "      <th>anch sepalo</th>\n",
       "      <th>lng petalo</th>\n",
       "      <th>anch petalo</th>\n",
       "      <th>especie</th>\n",
       "    </tr>\n",
       "  </thead>\n",
       "  <tbody>\n",
       "    <tr>\n",
       "      <th>0</th>\n",
       "      <td>5.1</td>\n",
       "      <td>3.5</td>\n",
       "      <td>1.4</td>\n",
       "      <td>0.2</td>\n",
       "      <td>Iris-setosa</td>\n",
       "    </tr>\n",
       "    <tr>\n",
       "      <th>1</th>\n",
       "      <td>4.9</td>\n",
       "      <td>3.0</td>\n",
       "      <td>1.4</td>\n",
       "      <td>0.2</td>\n",
       "      <td>Iris-setosa</td>\n",
       "    </tr>\n",
       "    <tr>\n",
       "      <th>2</th>\n",
       "      <td>4.7</td>\n",
       "      <td>3.2</td>\n",
       "      <td>1.3</td>\n",
       "      <td>0.2</td>\n",
       "      <td>Iris-setosa</td>\n",
       "    </tr>\n",
       "    <tr>\n",
       "      <th>3</th>\n",
       "      <td>4.6</td>\n",
       "      <td>3.1</td>\n",
       "      <td>1.5</td>\n",
       "      <td>0.2</td>\n",
       "      <td>Iris-setosa</td>\n",
       "    </tr>\n",
       "    <tr>\n",
       "      <th>4</th>\n",
       "      <td>5.0</td>\n",
       "      <td>3.6</td>\n",
       "      <td>1.4</td>\n",
       "      <td>0.2</td>\n",
       "      <td>Iris-setosa</td>\n",
       "    </tr>\n",
       "  </tbody>\n",
       "</table>\n",
       "</div>"
      ],
      "text/plain": [
       "   lng sepalo  anch sepalo  lng petalo  anch petalo      especie\n",
       "0         5.1          3.5         1.4          0.2  Iris-setosa\n",
       "1         4.9          3.0         1.4          0.2  Iris-setosa\n",
       "2         4.7          3.2         1.3          0.2  Iris-setosa\n",
       "3         4.6          3.1         1.5          0.2  Iris-setosa\n",
       "4         5.0          3.6         1.4          0.2  Iris-setosa"
      ]
     },
     "execution_count": 211,
     "metadata": {},
     "output_type": "execute_result"
    }
   ],
   "source": [
    "data.head()"
   ]
  },
  {
   "cell_type": "code",
   "execution_count": null,
   "id": "a84cf8fe",
   "metadata": {},
   "outputs": [],
   "source": []
  },
  {
   "cell_type": "code",
   "execution_count": null,
   "id": "c7c86c5b",
   "metadata": {},
   "outputs": [],
   "source": []
  },
  {
   "cell_type": "markdown",
   "id": "extra-penny",
   "metadata": {},
   "source": [
    "Si lo que queremos es reducir la dimensionalidad del dataset, perdiendo la menor información posible, descartaremos los autovectores cuyos autovalores sean más bajos, ya que son aquellos que menos información aportan al conjunto global. Para ello, lo que se hace es ordenarlos por parejas de autovector, autovalor."
   ]
  },
  {
   "cell_type": "code",
   "execution_count": null,
   "id": "informed-rwanda",
   "metadata": {},
   "outputs": [],
   "source": []
  },
  {
   "cell_type": "markdown",
   "id": "disturbed-stupid",
   "metadata": {},
   "source": [
    "El objetivo de este caso es proyectar este dataset 4D en un espacio de menor dimensionalidad, para mejorar la eficiencia de cálculo, al mismo tiempo que se retiene la mayor parte de la información. La pregunta clave será ¿cuál va ser este valor? ¿3D?¿2D?¿1D?. Para ello seguiremos el siguiente proceso.\n",
    "\n",
    "Una vez ordenados los autovalores, que recordamos son una medida de la varianza de los datos, la cuestión es decidir, cuál es el menor número de autovectores o componentes principales, con el que podemos expresar “la esencia principal” de la información contenida en ese dataset. Para ello, usaremos una métrica que se conoce como “varianza explicada”, que muestra cuánta varianza se puede atribuir a cada una de estas componentes principales."
   ]
  },
  {
   "cell_type": "code",
   "execution_count": null,
   "id": "clean-railway",
   "metadata": {},
   "outputs": [],
   "source": []
  },
  {
   "cell_type": "markdown",
   "id": "entitled-department",
   "metadata": {},
   "source": [
    "En la gráfica se aprecia claramente que la mayor parte de la varianza (en torno al 70%) corresponde a la primera componente. La segunda acumula algo más del 20% de la varianza, mientras que la tercera puede ser descartada sin perder demasiada información, ya que las dos primeras componentes explican más del 90% de la varianza."
   ]
  },
  {
   "cell_type": "code",
   "execution_count": 50,
   "id": "analyzed-duration",
   "metadata": {},
   "outputs": [],
   "source": [
    "from sklearn.decomposition import PCA"
   ]
  },
  {
   "cell_type": "code",
   "execution_count": 17,
   "id": "03332e40",
   "metadata": {},
   "outputs": [
    {
     "ename": "NameError",
     "evalue": "name 'X' is not defined",
     "output_type": "error",
     "traceback": [
      "\u001b[1;31m---------------------------------------------------------------------------\u001b[0m",
      "\u001b[1;31mNameError\u001b[0m                                 Traceback (most recent call last)",
      "Cell \u001b[1;32mIn[17], line 1\u001b[0m\n\u001b[1;32m----> 1\u001b[0m \u001b[43mX\u001b[49m\n",
      "\u001b[1;31mNameError\u001b[0m: name 'X' is not defined"
     ]
    }
   ],
   "source": [
    "X"
   ]
  },
  {
   "cell_type": "code",
   "execution_count": 18,
   "id": "1dee0f52",
   "metadata": {},
   "outputs": [],
   "source": [
    "pca = PCA()"
   ]
  },
  {
   "cell_type": "code",
   "execution_count": 19,
   "id": "bd08ac4d",
   "metadata": {},
   "outputs": [
    {
     "data": {
      "text/html": [
       "<style>#sk-container-id-3 {color: black;background-color: white;}#sk-container-id-3 pre{padding: 0;}#sk-container-id-3 div.sk-toggleable {background-color: white;}#sk-container-id-3 label.sk-toggleable__label {cursor: pointer;display: block;width: 100%;margin-bottom: 0;padding: 0.3em;box-sizing: border-box;text-align: center;}#sk-container-id-3 label.sk-toggleable__label-arrow:before {content: \"▸\";float: left;margin-right: 0.25em;color: #696969;}#sk-container-id-3 label.sk-toggleable__label-arrow:hover:before {color: black;}#sk-container-id-3 div.sk-estimator:hover label.sk-toggleable__label-arrow:before {color: black;}#sk-container-id-3 div.sk-toggleable__content {max-height: 0;max-width: 0;overflow: hidden;text-align: left;background-color: #f0f8ff;}#sk-container-id-3 div.sk-toggleable__content pre {margin: 0.2em;color: black;border-radius: 0.25em;background-color: #f0f8ff;}#sk-container-id-3 input.sk-toggleable__control:checked~div.sk-toggleable__content {max-height: 200px;max-width: 100%;overflow: auto;}#sk-container-id-3 input.sk-toggleable__control:checked~label.sk-toggleable__label-arrow:before {content: \"▾\";}#sk-container-id-3 div.sk-estimator input.sk-toggleable__control:checked~label.sk-toggleable__label {background-color: #d4ebff;}#sk-container-id-3 div.sk-label input.sk-toggleable__control:checked~label.sk-toggleable__label {background-color: #d4ebff;}#sk-container-id-3 input.sk-hidden--visually {border: 0;clip: rect(1px 1px 1px 1px);clip: rect(1px, 1px, 1px, 1px);height: 1px;margin: -1px;overflow: hidden;padding: 0;position: absolute;width: 1px;}#sk-container-id-3 div.sk-estimator {font-family: monospace;background-color: #f0f8ff;border: 1px dotted black;border-radius: 0.25em;box-sizing: border-box;margin-bottom: 0.5em;}#sk-container-id-3 div.sk-estimator:hover {background-color: #d4ebff;}#sk-container-id-3 div.sk-parallel-item::after {content: \"\";width: 100%;border-bottom: 1px solid gray;flex-grow: 1;}#sk-container-id-3 div.sk-label:hover label.sk-toggleable__label {background-color: #d4ebff;}#sk-container-id-3 div.sk-serial::before {content: \"\";position: absolute;border-left: 1px solid gray;box-sizing: border-box;top: 0;bottom: 0;left: 50%;z-index: 0;}#sk-container-id-3 div.sk-serial {display: flex;flex-direction: column;align-items: center;background-color: white;padding-right: 0.2em;padding-left: 0.2em;position: relative;}#sk-container-id-3 div.sk-item {position: relative;z-index: 1;}#sk-container-id-3 div.sk-parallel {display: flex;align-items: stretch;justify-content: center;background-color: white;position: relative;}#sk-container-id-3 div.sk-item::before, #sk-container-id-3 div.sk-parallel-item::before {content: \"\";position: absolute;border-left: 1px solid gray;box-sizing: border-box;top: 0;bottom: 0;left: 50%;z-index: -1;}#sk-container-id-3 div.sk-parallel-item {display: flex;flex-direction: column;z-index: 1;position: relative;background-color: white;}#sk-container-id-3 div.sk-parallel-item:first-child::after {align-self: flex-end;width: 50%;}#sk-container-id-3 div.sk-parallel-item:last-child::after {align-self: flex-start;width: 50%;}#sk-container-id-3 div.sk-parallel-item:only-child::after {width: 0;}#sk-container-id-3 div.sk-dashed-wrapped {border: 1px dashed gray;margin: 0 0.4em 0.5em 0.4em;box-sizing: border-box;padding-bottom: 0.4em;background-color: white;}#sk-container-id-3 div.sk-label label {font-family: monospace;font-weight: bold;display: inline-block;line-height: 1.2em;}#sk-container-id-3 div.sk-label-container {text-align: center;}#sk-container-id-3 div.sk-container {/* jupyter's `normalize.less` sets `[hidden] { display: none; }` but bootstrap.min.css set `[hidden] { display: none !important; }` so we also need the `!important` here to be able to override the default hidden behavior on the sphinx rendered scikit-learn.org. See: https://github.com/scikit-learn/scikit-learn/issues/21755 */display: inline-block !important;position: relative;}#sk-container-id-3 div.sk-text-repr-fallback {display: none;}</style><div id=\"sk-container-id-3\" class=\"sk-top-container\"><div class=\"sk-text-repr-fallback\"><pre>PCA()</pre><b>In a Jupyter environment, please rerun this cell to show the HTML representation or trust the notebook. <br />On GitHub, the HTML representation is unable to render, please try loading this page with nbviewer.org.</b></div><div class=\"sk-container\" hidden><div class=\"sk-item\"><div class=\"sk-estimator sk-toggleable\"><input class=\"sk-toggleable__control sk-hidden--visually\" id=\"sk-estimator-id-3\" type=\"checkbox\" checked><label for=\"sk-estimator-id-3\" class=\"sk-toggleable__label sk-toggleable__label-arrow\">PCA</label><div class=\"sk-toggleable__content\"><pre>PCA()</pre></div></div></div></div></div>"
      ],
      "text/plain": [
       "PCA()"
      ]
     },
     "execution_count": 19,
     "metadata": {},
     "output_type": "execute_result"
    }
   ],
   "source": [
    "pca"
   ]
  },
  {
   "cell_type": "code",
   "execution_count": 20,
   "id": "4c08085f",
   "metadata": {},
   "outputs": [
    {
     "ename": "NameError",
     "evalue": "name 'X' is not defined",
     "output_type": "error",
     "traceback": [
      "\u001b[1;31m---------------------------------------------------------------------------\u001b[0m",
      "\u001b[1;31mNameError\u001b[0m                                 Traceback (most recent call last)",
      "Cell \u001b[1;32mIn[20], line 1\u001b[0m\n\u001b[1;32m----> 1\u001b[0m pca\u001b[38;5;241m.\u001b[39mfit(\u001b[43mX\u001b[49m)\n",
      "\u001b[1;31mNameError\u001b[0m: name 'X' is not defined"
     ]
    }
   ],
   "source": [
    "pca.fit(X)"
   ]
  },
  {
   "cell_type": "code",
   "execution_count": 13,
   "id": "886f2fd4",
   "metadata": {},
   "outputs": [
    {
     "data": {
      "text/plain": [
       "array([9.47923065e-01, 5.20734600e-02, 1.76794667e-06, 1.38689143e-06,\n",
       "       1.90998382e-07, 1.03865256e-07, 1.82060941e-08, 5.98917170e-09,\n",
       "       8.64921244e-10])"
      ]
     },
     "execution_count": 13,
     "metadata": {},
     "output_type": "execute_result"
    }
   ],
   "source": [
    "pca.explained_variance_ratio_"
   ]
  },
  {
   "cell_type": "code",
   "execution_count": 14,
   "id": "50613eb5",
   "metadata": {},
   "outputs": [
    {
     "ename": "NameError",
     "evalue": "name 'vals' is not defined",
     "output_type": "error",
     "traceback": [
      "\u001b[1;31m---------------------------------------------------------------------------\u001b[0m",
      "\u001b[1;31mNameError\u001b[0m                                 Traceback (most recent call last)",
      "Cell \u001b[1;32mIn[14], line 3\u001b[0m\n\u001b[0;32m      1\u001b[0m fig, ax \u001b[38;5;241m=\u001b[39m plt\u001b[38;5;241m.\u001b[39msubplots(figsize \u001b[38;5;241m=\u001b[39m (\u001b[38;5;241m10\u001b[39m, \u001b[38;5;241m6\u001b[39m))\n\u001b[1;32m----> 3\u001b[0m ax\u001b[38;5;241m.\u001b[39mbar(np\u001b[38;5;241m.\u001b[39marange(\u001b[38;5;241m1\u001b[39m, \u001b[38;5;28mlen\u001b[39m(\u001b[43mvals\u001b[49m) \u001b[38;5;241m+\u001b[39m \u001b[38;5;241m1\u001b[39m), pca\u001b[38;5;241m.\u001b[39mexplained_variance_ratio_, color \u001b[38;5;241m=\u001b[39m \u001b[38;5;124m'\u001b[39m\u001b[38;5;124mg\u001b[39m\u001b[38;5;124m'\u001b[39m, alpha \u001b[38;5;241m=\u001b[39m \u001b[38;5;241m0.7\u001b[39m)\n\u001b[0;32m      4\u001b[0m ax\u001b[38;5;241m.\u001b[39mstep(np\u001b[38;5;241m.\u001b[39marange(\u001b[38;5;241m1\u001b[39m, \u001b[38;5;28mlen\u001b[39m(vals) \u001b[38;5;241m+\u001b[39m \u001b[38;5;241m1\u001b[39m), np\u001b[38;5;241m.\u001b[39mcumsum(pca\u001b[38;5;241m.\u001b[39mexplained_variance_ratio_), linestyle \u001b[38;5;241m=\u001b[39m \u001b[38;5;124m'\u001b[39m\u001b[38;5;124m--\u001b[39m\u001b[38;5;124m'\u001b[39m)\n\u001b[0;32m      5\u001b[0m ax\u001b[38;5;241m.\u001b[39mset_xlabel(\u001b[38;5;124m'\u001b[39m\u001b[38;5;124mComponentes\u001b[39m\u001b[38;5;124m'\u001b[39m)\n",
      "\u001b[1;31mNameError\u001b[0m: name 'vals' is not defined"
     ]
    },
    {
     "data": {
      "image/png": "[encoded data removed]",
      "text/plain": [
       "<Figure size 1000x600 with 1 Axes>"
      ]
     },
     "metadata": {},
     "output_type": "display_data"
    }
   ],
   "source": [
    "fig, ax = plt.subplots(figsize = (10, 6))\n",
    "\n",
    "ax.bar(np.arange(1, len(vals) + 1), pca.explained_variance_ratio_, color = 'g', alpha = 0.7)\n",
    "ax.step(np.arange(1, len(vals) + 1), np.cumsum(pca.explained_variance_ratio_), linestyle = '--')\n",
    "ax.set_xlabel('Componentes')\n",
    "ax.set_ylabel('Varianza Explicada');"
   ]
  },
  {
   "cell_type": "code",
   "execution_count": 219,
   "id": "8f2e6ee7",
   "metadata": {},
   "outputs": [],
   "source": [
    "pca = PCA(n_components=2)"
   ]
  },
  {
   "cell_type": "code",
   "execution_count": 220,
   "id": "7f77b3be",
   "metadata": {},
   "outputs": [
    {
     "data": {
      "text/html": [
       "<style>#sk-container-id-3 {color: black;}#sk-container-id-3 pre{padding: 0;}#sk-container-id-3 div.sk-toggleable {background-color: white;}#sk-container-id-3 label.sk-toggleable__label {cursor: pointer;display: block;width: 100%;margin-bottom: 0;padding: 0.3em;box-sizing: border-box;text-align: center;}#sk-container-id-3 label.sk-toggleable__label-arrow:before {content: \"▸\";float: left;margin-right: 0.25em;color: #696969;}#sk-container-id-3 label.sk-toggleable__label-arrow:hover:before {color: black;}#sk-container-id-3 div.sk-estimator:hover label.sk-toggleable__label-arrow:before {color: black;}#sk-container-id-3 div.sk-toggleable__content {max-height: 0;max-width: 0;overflow: hidden;text-align: left;background-color: #f0f8ff;}#sk-container-id-3 div.sk-toggleable__content pre {margin: 0.2em;color: black;border-radius: 0.25em;background-color: #f0f8ff;}#sk-container-id-3 input.sk-toggleable__control:checked~div.sk-toggleable__content {max-height: 200px;max-width: 100%;overflow: auto;}#sk-container-id-3 input.sk-toggleable__control:checked~label.sk-toggleable__label-arrow:before {content: \"▾\";}#sk-container-id-3 div.sk-estimator input.sk-toggleable__control:checked~label.sk-toggleable__label {background-color: #d4ebff;}#sk-container-id-3 div.sk-label input.sk-toggleable__control:checked~label.sk-toggleable__label {background-color: #d4ebff;}#sk-container-id-3 input.sk-hidden--visually {border: 0;clip: rect(1px 1px 1px 1px);clip: rect(1px, 1px, 1px, 1px);height: 1px;margin: -1px;overflow: hidden;padding: 0;position: absolute;width: 1px;}#sk-container-id-3 div.sk-estimator {font-family: monospace;background-color: #f0f8ff;border: 1px dotted black;border-radius: 0.25em;box-sizing: border-box;margin-bottom: 0.5em;}#sk-container-id-3 div.sk-estimator:hover {background-color: #d4ebff;}#sk-container-id-3 div.sk-parallel-item::after {content: \"\";width: 100%;border-bottom: 1px solid gray;flex-grow: 1;}#sk-container-id-3 div.sk-label:hover label.sk-toggleable__label {background-color: #d4ebff;}#sk-container-id-3 div.sk-serial::before {content: \"\";position: absolute;border-left: 1px solid gray;box-sizing: border-box;top: 0;bottom: 0;left: 50%;z-index: 0;}#sk-container-id-3 div.sk-serial {display: flex;flex-direction: column;align-items: center;background-color: white;padding-right: 0.2em;padding-left: 0.2em;position: relative;}#sk-container-id-3 div.sk-item {position: relative;z-index: 1;}#sk-container-id-3 div.sk-parallel {display: flex;align-items: stretch;justify-content: center;background-color: white;position: relative;}#sk-container-id-3 div.sk-item::before, #sk-container-id-3 div.sk-parallel-item::before {content: \"\";position: absolute;border-left: 1px solid gray;box-sizing: border-box;top: 0;bottom: 0;left: 50%;z-index: -1;}#sk-container-id-3 div.sk-parallel-item {display: flex;flex-direction: column;z-index: 1;position: relative;background-color: white;}#sk-container-id-3 div.sk-parallel-item:first-child::after {align-self: flex-end;width: 50%;}#sk-container-id-3 div.sk-parallel-item:last-child::after {align-self: flex-start;width: 50%;}#sk-container-id-3 div.sk-parallel-item:only-child::after {width: 0;}#sk-container-id-3 div.sk-dashed-wrapped {border: 1px dashed gray;margin: 0 0.4em 0.5em 0.4em;box-sizing: border-box;padding-bottom: 0.4em;background-color: white;}#sk-container-id-3 div.sk-label label {font-family: monospace;font-weight: bold;display: inline-block;line-height: 1.2em;}#sk-container-id-3 div.sk-label-container {text-align: center;}#sk-container-id-3 div.sk-container {/* jupyter's `normalize.less` sets `[hidden] { display: none; }` but bootstrap.min.css set `[hidden] { display: none !important; }` so we also need the `!important` here to be able to override the default hidden behavior on the sphinx rendered scikit-learn.org. See: https://github.com/scikit-learn/scikit-learn/issues/21755 */display: inline-block !important;position: relative;}#sk-container-id-3 div.sk-text-repr-fallback {display: none;}</style><div id=\"sk-container-id-3\" class=\"sk-top-container\"><div class=\"sk-text-repr-fallback\"><pre>PCA(n_components=2)</pre><b>In a Jupyter environment, please rerun this cell to show the HTML representation or trust the notebook. <br />On GitHub, the HTML representation is unable to render, please try loading this page with nbviewer.org.</b></div><div class=\"sk-container\" hidden><div class=\"sk-item\"><div class=\"sk-estimator sk-toggleable\"><input class=\"sk-toggleable__control sk-hidden--visually\" id=\"sk-estimator-id-3\" type=\"checkbox\" checked><label for=\"sk-estimator-id-3\" class=\"sk-toggleable__label sk-toggleable__label-arrow\">PCA</label><div class=\"sk-toggleable__content\"><pre>PCA(n_components=2)</pre></div></div></div></div></div>"
      ],
      "text/plain": [
       "PCA(n_components=2)"
      ]
     },
     "execution_count": 220,
     "metadata": {},
     "output_type": "execute_result"
    }
   ],
   "source": [
    "pca.fit(X)"
   ]
  },
  {
   "cell_type": "code",
   "execution_count": 221,
   "id": "9e10b0f9",
   "metadata": {},
   "outputs": [],
   "source": [
    "newX2 = pca.transform(X)"
   ]
  },
  {
   "cell_type": "code",
   "execution_count": 48,
   "id": "7161e2e1",
   "metadata": {
    "scrolled": true
   },
   "outputs": [
    {
     "data": {
      "text/plain": [
       "array([[-1.98151280e+04, -1.65112472e+03],\n",
       "       [-1.13389390e+04,  1.49346903e+03],\n",
       "       [-8.92635259e+03,  3.26468410e+03],\n",
       "       [-1.46524659e+04, -8.67795270e+02],\n",
       "       [ 8.96142032e+02,  1.89847815e+03],\n",
       "       [-6.99699306e+02,  3.00451171e+03],\n",
       "       [-1.42839444e+04, -9.29672241e+01],\n",
       "       [ 4.43727025e+04, -1.16354527e+04],\n",
       "       [ 4.22463421e+04, -6.76525844e+03],\n",
       "       [-5.72551309e+03,  4.39118182e+03],\n",
       "       [ 1.45108648e+04, -6.97390702e+03],\n",
       "       [ 2.27232733e+04,  1.08330393e+04],\n",
       "       [-1.90710762e+04, -1.22994979e+03],\n",
       "       [ 7.44735254e+02, -3.47340570e+03],\n",
       "       [-5.44962091e+03,  4.39049953e+03],\n",
       "       [ 3.90029276e+04, -6.39086337e+03],\n",
       "       [-1.26570298e+04, -9.63440942e+01],\n",
       "       [-1.95217046e+04, -1.65585861e+03],\n",
       "       [-1.52018204e+04,  4.70524185e+02],\n",
       "       [-1.60732239e+04, -7.79039217e+01],\n",
       "       [-1.11343558e+04,  9.71315924e+02],\n",
       "       [-7.33742276e+03,  2.16588186e+03],\n",
       "       [-3.13382968e+03, -5.34572278e+02],\n",
       "       [ 6.14585742e+04,  2.73552358e+04],\n",
       "       [-5.54730448e+03,  3.18361178e+03],\n",
       "       [-1.99308479e+04, -1.79076294e+03],\n",
       "       [-2.06511429e+04, -1.99823612e+03],\n",
       "       [-1.89936758e+04, -1.19530743e+03],\n",
       "       [-1.85320664e+04, -1.48002418e+03],\n",
       "       [ 4.07729133e+04, -8.84591407e+03],\n",
       "       [-1.48543911e+04, -7.55975582e+02],\n",
       "       [-2.04133880e+04, -2.06934107e+03],\n",
       "       [-1.93463083e+04, -1.68132487e+03],\n",
       "       [ 1.59499352e+03,  1.59582012e+03],\n",
       "       [-1.13067962e+04,  8.77134686e+02],\n",
       "       [-9.15029156e+03,  5.89977233e+02],\n",
       "       [-1.98120978e+04, -1.94547597e+03],\n",
       "       [-2.06930387e+04, -2.17953961e+03],\n",
       "       [-1.57110532e+04, -7.81314329e+02],\n",
       "       [-6.28464073e+03,  6.15340533e+02],\n",
       "       [-1.85720720e+04, -1.39398292e+03],\n",
       "       [ 2.51586246e+03,  1.64060426e+03],\n",
       "       [ 2.44284312e+04, -1.45283343e+03],\n",
       "       [ 1.28027054e+04,  2.69473789e+03],\n",
       "       [ 5.04523815e+04, -1.42826301e+04],\n",
       "       [-9.55447409e+03,  1.30875496e+03],\n",
       "       [-1.13689253e+04,  6.80813580e+02],\n",
       "       [-1.24133172e+04,  2.52822652e+03],\n",
       "       [-1.40058814e+04,  4.86330246e+02],\n",
       "       [ 1.48724121e+04,  8.36620325e+03],\n",
       "       [-2.00019561e+04, -1.73002215e+03],\n",
       "       [ 5.16102258e+03,  2.62717081e+03],\n",
       "       [-1.35161752e+04,  4.10502108e+01],\n",
       "       [ 3.92945631e+04, -8.59202037e+03],\n",
       "       [ 3.33403230e+04, -6.51427008e+03],\n",
       "       [-4.16268815e+03,  1.86419546e+03],\n",
       "       [-1.97725914e+04, -1.62330267e+03],\n",
       "       [-1.44407278e+04,  1.16607828e+02],\n",
       "       [ 3.67082311e+04, -4.98218777e+03],\n",
       "       [-1.82413350e+04, -1.20523180e+03],\n",
       "       [ 1.79704020e+04, -2.19044926e+03],\n",
       "       [-8.16292420e+03, -1.78978635e+01],\n",
       "       [-1.45445824e+04,  1.97326457e+02],\n",
       "       [-2.00551109e+04, -2.00865430e+03],\n",
       "       [-1.99791511e+04, -1.79789433e+03],\n",
       "       [-1.50325872e+04, -5.52871390e+02],\n",
       "       [-1.98202925e+04, -1.80596074e+03],\n",
       "       [ 3.83996950e+03,  3.44253586e+03],\n",
       "       [ 3.56141344e+04, -6.15389535e+03],\n",
       "       [-1.72327421e+04, -3.06981744e+02],\n",
       "       [-1.31022465e+04,  1.17531489e+03],\n",
       "       [-4.23410171e+03,  4.85137547e+03],\n",
       "       [-9.04423465e+03,  3.09822809e+03],\n",
       "       [ 4.52996688e+04, -6.35609349e+03],\n",
       "       [ 2.11660281e+04, -4.26118777e+03],\n",
       "       [ 2.95344566e+04, -3.50671715e+03],\n",
       "       [-1.23362866e+04, -2.61032392e+02],\n",
       "       [ 3.52198238e+04, -1.01041904e+04],\n",
       "       [-1.19548648e+04,  1.47547803e+03],\n",
       "       [-5.27139427e+02,  4.86009732e+03],\n",
       "       [-1.88984510e+04, -1.35436783e+03],\n",
       "       [-1.90842590e+04, -2.24964100e+03],\n",
       "       [ 5.97322373e+04,  2.13203609e+04],\n",
       "       [-1.87328719e+04, -1.07814858e+03],\n",
       "       [-1.76895008e+04, -4.49731581e+02],\n",
       "       [-3.03464476e+02,  2.00303554e+03],\n",
       "       [-3.43301488e+03,  2.40247329e+03],\n",
       "       [-1.88317005e+04, -1.57058874e+03],\n",
       "       [-2.06316958e+04, -2.11195272e+03],\n",
       "       [ 8.45829457e+03,  9.18366338e+03],\n",
       "       [ 2.21226826e+03,  3.41765699e+03],\n",
       "       [ 1.17402802e+05, -1.56743067e+04],\n",
       "       [-9.96150227e+03,  2.17619584e+03],\n",
       "       [-2.00711479e+04, -1.70046857e+03],\n",
       "       [-2.03012059e+04, -1.98120255e+03],\n",
       "       [ 1.99647102e+02,  5.54704799e+03],\n",
       "       [-8.85707949e+03, -3.02455816e+02],\n",
       "       [-1.95197350e+04, -1.58519087e+03],\n",
       "       [ 1.36957340e+04,  1.75005284e+03],\n",
       "       [-1.81279450e+04, -9.46685446e+02],\n",
       "       [-4.31444884e+03,  2.75272663e+03],\n",
       "       [-1.69731126e+04, -2.13934684e+03],\n",
       "       [-1.74037333e+04, -8.53882300e+02],\n",
       "       [-1.39414617e+04,  1.01508084e+03],\n",
       "       [-6.60198189e+03,  2.40690619e+03],\n",
       "       [-1.47407977e+04,  1.18690720e+01],\n",
       "       [-2.04100799e+04, -2.02906389e+03],\n",
       "       [-1.79828757e+04, -5.17888840e+02],\n",
       "       [-1.16516855e+04, -3.15705304e+02],\n",
       "       [-1.95121391e+04, -1.41841862e+03],\n",
       "       [ 4.62533482e+04, -7.65629991e+03],\n",
       "       [ 2.52576447e+04, -4.65946904e+03],\n",
       "       [-2.05344527e+04, -2.04892508e+03],\n",
       "       [-1.60218486e+04, -5.10896060e+02],\n",
       "       [ 8.42216030e+04, -2.33693647e+04],\n",
       "       [ 2.48139368e+04,  1.47354792e+04],\n",
       "       [-1.75401925e+04, -1.71014256e+02],\n",
       "       [-4.62286134e+03,  2.35115087e+03],\n",
       "       [-1.38482810e+04,  3.05067155e+02],\n",
       "       [-1.06783209e+04,  8.38198290e+02],\n",
       "       [-1.58320977e+04, -5.64030712e+01],\n",
       "       [ 3.13311891e+03,  3.46241618e+03],\n",
       "       [ 1.38579055e+04, -2.31097735e+01],\n",
       "       [ 1.17767797e+05,  3.24176123e+04],\n",
       "       [-2.77565140e+03,  3.89067630e+03],\n",
       "       [ 2.77275686e+03,  5.73620143e+03],\n",
       "       [-1.99971899e+04, -1.83697366e+03],\n",
       "       [-1.50707225e+04, -1.15308868e+03],\n",
       "       [ 2.48865988e+04,  1.48041518e+04],\n",
       "       [-1.90938077e+04, -1.58442018e+03],\n",
       "       [-8.41912682e+03,  2.43689582e+03],\n",
       "       [ 8.79272769e+02,  3.80894422e+03],\n",
       "       [-2.02043973e+04, -1.80713023e+03],\n",
       "       [ 6.30433440e+04,  1.33044401e+04],\n",
       "       [ 8.35169872e+03,  2.89093554e+03],\n",
       "       [ 1.55662611e+04,  3.53207712e+02],\n",
       "       [-1.91852564e+04, -2.06989098e+03],\n",
       "       [-7.64338385e+03,  5.97014692e+02],\n",
       "       [ 1.59087438e+04,  2.46570224e+03],\n",
       "       [ 2.33422796e+04, -2.34185057e+03],\n",
       "       [-1.32138245e+04,  1.48264691e+03],\n",
       "       [-9.87623420e+03, -6.86417054e+01],\n",
       "       [-1.78992789e+04, -1.11584979e+03],\n",
       "       [-5.34385743e+03,  1.36696195e+03],\n",
       "       [ 4.56002207e+04, -1.07504195e+04],\n",
       "       [ 7.02125970e+04, -1.84472265e+04],\n",
       "       [-1.93246400e+04, -1.44209292e+03],\n",
       "       [-1.93639227e+04, -1.42967824e+03],\n",
       "       [-8.06439486e+03,  3.22627482e+03],\n",
       "       [-1.75476917e+04, -3.70065463e+03],\n",
       "       [-2.01504576e+04, -1.87862097e+03],\n",
       "       [-1.53072727e+04, -1.51427685e+03],\n",
       "       [-1.09630110e+04,  1.77999753e+03],\n",
       "       [-9.33660435e+02,  2.23297577e+03],\n",
       "       [-1.10912690e+04,  1.24599650e+03],\n",
       "       [-1.98371410e+04, -1.72972043e+03],\n",
       "       [-1.36416959e+04,  8.58081528e+02],\n",
       "       [ 4.45373385e+04,  1.17744795e+04],\n",
       "       [ 3.16638620e+04, -5.75963101e+03],\n",
       "       [ 4.77825030e+04, -3.59661607e+03],\n",
       "       [-7.63437096e+02,  7.42674765e+02],\n",
       "       [-1.73356589e+04, -4.45534817e+02],\n",
       "       [-1.71809677e+04, -2.48715383e+03],\n",
       "       [-1.00445973e+02, -8.32252802e+02],\n",
       "       [-1.72020172e+04, -2.22889872e+02],\n",
       "       [-1.72093402e+04, -2.29815901e+02],\n",
       "       [-1.79784216e+04, -1.16312463e+03]])"
      ]
     },
     "execution_count": 48,
     "metadata": {},
     "output_type": "execute_result"
    }
   ],
   "source": [
    "newX2"
   ]
  },
  {
   "cell_type": "code",
   "execution_count": 49,
   "id": "89e8c2a1",
   "metadata": {},
   "outputs": [
    {
     "ename": "NameError",
     "evalue": "name 'y' is not defined",
     "output_type": "error",
     "traceback": [
      "\u001b[1;31m---------------------------------------------------------------------------\u001b[0m",
      "\u001b[1;31mNameError\u001b[0m                                 Traceback (most recent call last)",
      "Cell \u001b[1;32mIn[49], line 1\u001b[0m\n\u001b[1;32m----> 1\u001b[0m newX2 \u001b[38;5;241m=\u001b[39m np\u001b[38;5;241m.\u001b[39mcolumn_stack([newX2, \u001b[43my\u001b[49m])\n",
      "\u001b[1;31mNameError\u001b[0m: name 'y' is not defined"
     ]
    }
   ],
   "source": [
    "newX2 = np.column_stack([newX2, y])"
   ]
  },
  {
   "cell_type": "code",
   "execution_count": 228,
   "id": "4790fc26",
   "metadata": {},
   "outputs": [
    {
     "data": {
      "image/png": "[encoded data removed]",
      "text/plain": [
       "<Figure size 1000x500 with 2 Axes>"
      ]
     },
     "metadata": {},
     "output_type": "display_data"
    }
   ],
   "source": [
    "fig, ax = plt.subplots(1, 2, figsize = (10, 5))\n",
    "\n",
    "for f, c in zip(y.unique(), colors):\n",
    "    mask = newX[:, 2] == f\n",
    "    ax[0].scatter(newX[mask, 0], newX[mask, 1], color = c, label = f)\n",
    "    \n",
    "for f, c in zip(y.unique(), colors):\n",
    "    mask = newX2[:, 2] == f\n",
    "    ax[1].scatter(newX2[mask, 0], newX2[mask, 1], color = c, label = f)\n",
    "    \n",
    "ax[0].legend()\n",
    "ax[1].legend();"
   ]
  },
  {
   "cell_type": "code",
   "execution_count": 230,
   "id": "c08e3532",
   "metadata": {},
   "outputs": [
    {
     "data": {
      "text/plain": [
       "array([[-0.52237162,  0.37231836],\n",
       "       [ 0.26335492,  0.92555649],\n",
       "       [-0.58125401,  0.02109478],\n",
       "       [-0.56561105,  0.06541577]])"
      ]
     },
     "execution_count": 230,
     "metadata": {},
     "output_type": "execute_result"
    }
   ],
   "source": [
    "-B"
   ]
  },
  {
   "cell_type": "code",
   "execution_count": null,
   "id": "b859044a",
   "metadata": {},
   "outputs": [],
   "source": []
  },
  {
   "cell_type": "markdown",
   "id": "defined-associate",
   "metadata": {},
   "source": [
    "Y ¡ya está!. Hemos conseguido reducir el conjunto de datos de trabajo inicial a un conjunto de datos de dos dimensiones que aun así conserva la información más esencial. de forma que nos resultará mucho más sencillo el trabajo de crear un modelo de clasificación a partir de estos datos. Como ya indicamos anteriormente, es una técnica muy frecuente, ya que es sencilla y facilita mucho el trabajo posterior."
   ]
  },
  {
   "cell_type": "markdown",
   "id": "alpha-routine",
   "metadata": {},
   "source": [
    "[Regresar al contenido](#Contenido)"
   ]
  },
  {
   "cell_type": "markdown",
   "id": "taken-greece",
   "metadata": {},
   "source": [
    "<hr>\n",
    "<h2>Ejercicio</h2>\n",
    "\n",
    "En los modelos de ML es muy importante usar como variables predictoras aquellas que tengan una baja correlación entre ellas, y ahí es donde entra PCA en nuestro análisis.\n",
    "\n",
    "La siguiente línea importa un data set que contiene información sobre el estatus socioeconómico de diferentes países."
   ]
  },
  {
   "cell_type": "code",
   "execution_count": 104,
   "id": "imported-turtle",
   "metadata": {},
   "outputs": [
    {
     "data": {
      "text/html": [
       "<div>\n",
       "<style scoped>\n",
       "    .dataframe tbody tr th:only-of-type {\n",
       "        vertical-align: middle;\n",
       "    }\n",
       "\n",
       "    .dataframe tbody tr th {\n",
       "        vertical-align: top;\n",
       "    }\n",
       "\n",
       "    .dataframe thead th {\n",
       "        text-align: right;\n",
       "    }\n",
       "</style>\n",
       "<table border=\"1\" class=\"dataframe\">\n",
       "  <thead>\n",
       "    <tr style=\"text-align: right;\">\n",
       "      <th></th>\n",
       "      <th>child_mort</th>\n",
       "      <th>exports</th>\n",
       "      <th>health</th>\n",
       "      <th>imports</th>\n",
       "      <th>income</th>\n",
       "      <th>inflation</th>\n",
       "      <th>life_expec</th>\n",
       "      <th>total_fer</th>\n",
       "      <th>gdpp</th>\n",
       "    </tr>\n",
       "    <tr>\n",
       "      <th>country</th>\n",
       "      <th></th>\n",
       "      <th></th>\n",
       "      <th></th>\n",
       "      <th></th>\n",
       "      <th></th>\n",
       "      <th></th>\n",
       "      <th></th>\n",
       "      <th></th>\n",
       "      <th></th>\n",
       "    </tr>\n",
       "  </thead>\n",
       "  <tbody>\n",
       "    <tr>\n",
       "      <th>Afghanistan</th>\n",
       "      <td>90.2</td>\n",
       "      <td>10.0</td>\n",
       "      <td>7.58</td>\n",
       "      <td>44.9</td>\n",
       "      <td>1610</td>\n",
       "      <td>9.44</td>\n",
       "      <td>56.2</td>\n",
       "      <td>5.82</td>\n",
       "      <td>553</td>\n",
       "    </tr>\n",
       "    <tr>\n",
       "      <th>Albania</th>\n",
       "      <td>16.6</td>\n",
       "      <td>28.0</td>\n",
       "      <td>6.55</td>\n",
       "      <td>48.6</td>\n",
       "      <td>9930</td>\n",
       "      <td>4.49</td>\n",
       "      <td>76.3</td>\n",
       "      <td>1.65</td>\n",
       "      <td>4090</td>\n",
       "    </tr>\n",
       "    <tr>\n",
       "      <th>Algeria</th>\n",
       "      <td>27.3</td>\n",
       "      <td>38.4</td>\n",
       "      <td>4.17</td>\n",
       "      <td>31.4</td>\n",
       "      <td>12900</td>\n",
       "      <td>16.10</td>\n",
       "      <td>76.5</td>\n",
       "      <td>2.89</td>\n",
       "      <td>4460</td>\n",
       "    </tr>\n",
       "    <tr>\n",
       "      <th>Angola</th>\n",
       "      <td>119.0</td>\n",
       "      <td>62.3</td>\n",
       "      <td>2.85</td>\n",
       "      <td>42.9</td>\n",
       "      <td>5900</td>\n",
       "      <td>22.40</td>\n",
       "      <td>60.1</td>\n",
       "      <td>6.16</td>\n",
       "      <td>3530</td>\n",
       "    </tr>\n",
       "    <tr>\n",
       "      <th>Antigua and Barbuda</th>\n",
       "      <td>10.3</td>\n",
       "      <td>45.5</td>\n",
       "      <td>6.03</td>\n",
       "      <td>58.9</td>\n",
       "      <td>19100</td>\n",
       "      <td>1.44</td>\n",
       "      <td>76.8</td>\n",
       "      <td>2.13</td>\n",
       "      <td>12200</td>\n",
       "    </tr>\n",
       "  </tbody>\n",
       "</table>\n",
       "</div>"
      ],
      "text/plain": [
       "                     child_mort  exports  health  imports  income  inflation  \\\n",
       "country                                                                        \n",
       "Afghanistan                90.2     10.0    7.58     44.9    1610       9.44   \n",
       "Albania                    16.6     28.0    6.55     48.6    9930       4.49   \n",
       "Algeria                    27.3     38.4    4.17     31.4   12900      16.10   \n",
       "Angola                    119.0     62.3    2.85     42.9    5900      22.40   \n",
       "Antigua and Barbuda        10.3     45.5    6.03     58.9   19100       1.44   \n",
       "\n",
       "                     life_expec  total_fer   gdpp  \n",
       "country                                            \n",
       "Afghanistan                56.2       5.82    553  \n",
       "Albania                    76.3       1.65   4090  \n",
       "Algeria                    76.5       2.89   4460  \n",
       "Angola                     60.1       6.16   3530  \n",
       "Antigua and Barbuda        76.8       2.13  12200  "
      ]
     },
     "execution_count": 104,
     "metadata": {},
     "output_type": "execute_result"
    }
   ],
   "source": [
    "# Supress Warnings\n",
    "import warnings\n",
    "import pandas as pd\n",
    "warnings.filterwarnings('ignore')\n",
    "\n",
    "#read data\n",
    "data = pd.read_csv('Country-data.csv')\n",
    "data.set_index('country', inplace = True)\n",
    "data.head()"
   ]
  },
  {
   "cell_type": "code",
   "execution_count": 132,
   "id": "1653a85e",
   "metadata": {},
   "outputs": [
    {
     "ename": "KeyError",
     "evalue": "'country'",
     "output_type": "error",
     "traceback": [
      "\u001b[1;31m---------------------------------------------------------------------------\u001b[0m",
      "\u001b[1;31mKeyError\u001b[0m                                  Traceback (most recent call last)",
      "File \u001b[1;32m~\\anaconda3\\lib\\site-packages\\pandas\\core\\indexes\\base.py:3802\u001b[0m, in \u001b[0;36mIndex.get_loc\u001b[1;34m(self, key, method, tolerance)\u001b[0m\n\u001b[0;32m   3801\u001b[0m \u001b[38;5;28;01mtry\u001b[39;00m:\n\u001b[1;32m-> 3802\u001b[0m     \u001b[38;5;28;01mreturn\u001b[39;00m \u001b[38;5;28;43mself\u001b[39;49m\u001b[38;5;241;43m.\u001b[39;49m\u001b[43m_engine\u001b[49m\u001b[38;5;241;43m.\u001b[39;49m\u001b[43mget_loc\u001b[49m\u001b[43m(\u001b[49m\u001b[43mcasted_key\u001b[49m\u001b[43m)\u001b[49m\n\u001b[0;32m   3803\u001b[0m \u001b[38;5;28;01mexcept\u001b[39;00m \u001b[38;5;167;01mKeyError\u001b[39;00m \u001b[38;5;28;01mas\u001b[39;00m err:\n",
      "File \u001b[1;32m~\\anaconda3\\lib\\site-packages\\pandas\\_libs\\index.pyx:138\u001b[0m, in \u001b[0;36mpandas._libs.index.IndexEngine.get_loc\u001b[1;34m()\u001b[0m\n",
      "File \u001b[1;32m~\\anaconda3\\lib\\site-packages\\pandas\\_libs\\index.pyx:165\u001b[0m, in \u001b[0;36mpandas._libs.index.IndexEngine.get_loc\u001b[1;34m()\u001b[0m\n",
      "File \u001b[1;32mpandas\\_libs\\hashtable_class_helper.pxi:5745\u001b[0m, in \u001b[0;36mpandas._libs.hashtable.PyObjectHashTable.get_item\u001b[1;34m()\u001b[0m\n",
      "File \u001b[1;32mpandas\\_libs\\hashtable_class_helper.pxi:5753\u001b[0m, in \u001b[0;36mpandas._libs.hashtable.PyObjectHashTable.get_item\u001b[1;34m()\u001b[0m\n",
      "\u001b[1;31mKeyError\u001b[0m: 'country'",
      "\nThe above exception was the direct cause of the following exception:\n",
      "\u001b[1;31mKeyError\u001b[0m                                  Traceback (most recent call last)",
      "Cell \u001b[1;32mIn[132], line 1\u001b[0m\n\u001b[1;32m----> 1\u001b[0m y \u001b[38;5;241m=\u001b[39m \u001b[43mdata\u001b[49m\u001b[43m[\u001b[49m\u001b[38;5;124;43m'\u001b[39;49m\u001b[38;5;124;43mcountry\u001b[39;49m\u001b[38;5;124;43m'\u001b[39;49m\u001b[43m]\u001b[49m\n",
      "File \u001b[1;32m~\\anaconda3\\lib\\site-packages\\pandas\\core\\frame.py:3807\u001b[0m, in \u001b[0;36mDataFrame.__getitem__\u001b[1;34m(self, key)\u001b[0m\n\u001b[0;32m   3805\u001b[0m \u001b[38;5;28;01mif\u001b[39;00m \u001b[38;5;28mself\u001b[39m\u001b[38;5;241m.\u001b[39mcolumns\u001b[38;5;241m.\u001b[39mnlevels \u001b[38;5;241m>\u001b[39m \u001b[38;5;241m1\u001b[39m:\n\u001b[0;32m   3806\u001b[0m     \u001b[38;5;28;01mreturn\u001b[39;00m \u001b[38;5;28mself\u001b[39m\u001b[38;5;241m.\u001b[39m_getitem_multilevel(key)\n\u001b[1;32m-> 3807\u001b[0m indexer \u001b[38;5;241m=\u001b[39m \u001b[38;5;28;43mself\u001b[39;49m\u001b[38;5;241;43m.\u001b[39;49m\u001b[43mcolumns\u001b[49m\u001b[38;5;241;43m.\u001b[39;49m\u001b[43mget_loc\u001b[49m\u001b[43m(\u001b[49m\u001b[43mkey\u001b[49m\u001b[43m)\u001b[49m\n\u001b[0;32m   3808\u001b[0m \u001b[38;5;28;01mif\u001b[39;00m is_integer(indexer):\n\u001b[0;32m   3809\u001b[0m     indexer \u001b[38;5;241m=\u001b[39m [indexer]\n",
      "File \u001b[1;32m~\\anaconda3\\lib\\site-packages\\pandas\\core\\indexes\\base.py:3804\u001b[0m, in \u001b[0;36mIndex.get_loc\u001b[1;34m(self, key, method, tolerance)\u001b[0m\n\u001b[0;32m   3802\u001b[0m     \u001b[38;5;28;01mreturn\u001b[39;00m \u001b[38;5;28mself\u001b[39m\u001b[38;5;241m.\u001b[39m_engine\u001b[38;5;241m.\u001b[39mget_loc(casted_key)\n\u001b[0;32m   3803\u001b[0m \u001b[38;5;28;01mexcept\u001b[39;00m \u001b[38;5;167;01mKeyError\u001b[39;00m \u001b[38;5;28;01mas\u001b[39;00m err:\n\u001b[1;32m-> 3804\u001b[0m     \u001b[38;5;28;01mraise\u001b[39;00m \u001b[38;5;167;01mKeyError\u001b[39;00m(key) \u001b[38;5;28;01mfrom\u001b[39;00m \u001b[38;5;21;01merr\u001b[39;00m\n\u001b[0;32m   3805\u001b[0m \u001b[38;5;28;01mexcept\u001b[39;00m \u001b[38;5;167;01mTypeError\u001b[39;00m:\n\u001b[0;32m   3806\u001b[0m     \u001b[38;5;66;03m# If we have a listlike key, _check_indexing_error will raise\u001b[39;00m\n\u001b[0;32m   3807\u001b[0m     \u001b[38;5;66;03m#  InvalidIndexError. Otherwise we fall through and re-raise\u001b[39;00m\n\u001b[0;32m   3808\u001b[0m     \u001b[38;5;66;03m#  the TypeError.\u001b[39;00m\n\u001b[0;32m   3809\u001b[0m     \u001b[38;5;28mself\u001b[39m\u001b[38;5;241m.\u001b[39m_check_indexing_error(key)\n",
      "\u001b[1;31mKeyError\u001b[0m: 'country'"
     ]
    }
   ],
   "source": [
    "y = data['country']"
   ]
  },
  {
   "cell_type": "code",
   "execution_count": 107,
   "id": "normal-catering",
   "metadata": {},
   "outputs": [
    {
     "data": {
      "image/png": "[encoded data removed]",
      "text/plain": [
       "<Figure size 1300x800 with 2 Axes>"
      ]
     },
     "metadata": {},
     "output_type": "display_data"
    }
   ],
   "source": [
    "fig, ax = plt.subplots(figsize = (13, 8))\n",
    "\n",
    "sns.heatmap(data.corr(), ax = ax, annot = True);"
   ]
  },
  {
   "cell_type": "markdown",
   "id": "careful-mileage",
   "metadata": {},
   "source": [
    "Como se puede observar en la matriz de correlación tenemos varias variables (columnas) con una alta correlación.\n",
    "\n",
    "- Haga una inspección y limpieza general del DataFrame (NaN's y outliers)\n",
    "- Aplique PCA para encontrar las componentes principales del DataFrame\n",
    "    - Utilice el criterio de la varianza explicada para conocer el número de componentes\n",
    "    \n",
    "- Grafique la matriz de covarianza de las componentes principales para corroborar que las componentes que obtuvimos tienen poca correlación entre ellas."
   ]
  },
  {
   "cell_type": "code",
   "execution_count": 108,
   "id": "5bb0c8bf",
   "metadata": {},
   "outputs": [
    {
     "name": "stdout",
     "output_type": "stream",
     "text": [
      "<class 'pandas.core.frame.DataFrame'>\n",
      "Index: 167 entries, Afghanistan to Zambia\n",
      "Data columns (total 9 columns):\n",
      " #   Column      Non-Null Count  Dtype  \n",
      "---  ------      --------------  -----  \n",
      " 0   child_mort  167 non-null    float64\n",
      " 1   exports     167 non-null    float64\n",
      " 2   health      167 non-null    float64\n",
      " 3   imports     167 non-null    float64\n",
      " 4   income      167 non-null    int64  \n",
      " 5   inflation   167 non-null    float64\n",
      " 6   life_expec  167 non-null    float64\n",
      " 7   total_fer   167 non-null    float64\n",
      " 8   gdpp        167 non-null    int64  \n",
      "dtypes: float64(7), int64(2)\n",
      "memory usage: 13.0+ KB\n"
     ]
    }
   ],
   "source": [
    "data.info()"
   ]
  },
  {
   "cell_type": "code",
   "execution_count": 109,
   "id": "aea87f03",
   "metadata": {},
   "outputs": [
    {
     "ename": "NameError",
     "evalue": "name 'planets' is not defined",
     "output_type": "error",
     "traceback": [
      "\u001b[1;31m---------------------------------------------------------------------------\u001b[0m",
      "\u001b[1;31mNameError\u001b[0m                                 Traceback (most recent call last)",
      "Cell \u001b[1;32mIn[109], line 1\u001b[0m\n\u001b[1;32m----> 1\u001b[0m \u001b[43mplanets\u001b[49m\u001b[38;5;241m.\u001b[39minfo()\n",
      "\u001b[1;31mNameError\u001b[0m: name 'planets' is not defined"
     ]
    }
   ],
   "source": [
    "planets.info()"
   ]
  },
  {
   "cell_type": "code",
   "execution_count": 110,
   "id": "appropriate-virus",
   "metadata": {},
   "outputs": [
    {
     "data": {
      "text/html": [
       "<div>\n",
       "<style scoped>\n",
       "    .dataframe tbody tr th:only-of-type {\n",
       "        vertical-align: middle;\n",
       "    }\n",
       "\n",
       "    .dataframe tbody tr th {\n",
       "        vertical-align: top;\n",
       "    }\n",
       "\n",
       "    .dataframe thead th {\n",
       "        text-align: right;\n",
       "    }\n",
       "</style>\n",
       "<table border=\"1\" class=\"dataframe\">\n",
       "  <thead>\n",
       "    <tr style=\"text-align: right;\">\n",
       "      <th></th>\n",
       "      <th>child_mort</th>\n",
       "      <th>exports</th>\n",
       "      <th>health</th>\n",
       "      <th>imports</th>\n",
       "      <th>income</th>\n",
       "      <th>inflation</th>\n",
       "      <th>life_expec</th>\n",
       "      <th>total_fer</th>\n",
       "      <th>gdpp</th>\n",
       "    </tr>\n",
       "    <tr>\n",
       "      <th>country</th>\n",
       "      <th></th>\n",
       "      <th></th>\n",
       "      <th></th>\n",
       "      <th></th>\n",
       "      <th></th>\n",
       "      <th></th>\n",
       "      <th></th>\n",
       "      <th></th>\n",
       "      <th></th>\n",
       "    </tr>\n",
       "  </thead>\n",
       "  <tbody>\n",
       "  </tbody>\n",
       "</table>\n",
       "</div>"
      ],
      "text/plain": [
       "Empty DataFrame\n",
       "Columns: [child_mort, exports, health, imports, income, inflation, life_expec, total_fer, gdpp]\n",
       "Index: []"
      ]
     },
     "execution_count": 110,
     "metadata": {},
     "output_type": "execute_result"
    }
   ],
   "source": [
    "mask = data['child_mort'].isnull()\n",
    "data[mask]"
   ]
  },
  {
   "cell_type": "code",
   "execution_count": 111,
   "id": "9e56e3a9",
   "metadata": {},
   "outputs": [],
   "source": [
    "from sklearn.decomposition import PCA"
   ]
  },
  {
   "cell_type": "code",
   "execution_count": 112,
   "id": "215d5494",
   "metadata": {},
   "outputs": [],
   "source": [
    "pca = PCA()"
   ]
  },
  {
   "cell_type": "code",
   "execution_count": 113,
   "id": "a2d18a8d",
   "metadata": {},
   "outputs": [
    {
     "data": {
      "text/html": [
       "<style>#sk-container-id-11 {color: black;background-color: white;}#sk-container-id-11 pre{padding: 0;}#sk-container-id-11 div.sk-toggleable {background-color: white;}#sk-container-id-11 label.sk-toggleable__label {cursor: pointer;display: block;width: 100%;margin-bottom: 0;padding: 0.3em;box-sizing: border-box;text-align: center;}#sk-container-id-11 label.sk-toggleable__label-arrow:before {content: \"▸\";float: left;margin-right: 0.25em;color: #696969;}#sk-container-id-11 label.sk-toggleable__label-arrow:hover:before {color: black;}#sk-container-id-11 div.sk-estimator:hover label.sk-toggleable__label-arrow:before {color: black;}#sk-container-id-11 div.sk-toggleable__content {max-height: 0;max-width: 0;overflow: hidden;text-align: left;background-color: #f0f8ff;}#sk-container-id-11 div.sk-toggleable__content pre {margin: 0.2em;color: black;border-radius: 0.25em;background-color: #f0f8ff;}#sk-container-id-11 input.sk-toggleable__control:checked~div.sk-toggleable__content {max-height: 200px;max-width: 100%;overflow: auto;}#sk-container-id-11 input.sk-toggleable__control:checked~label.sk-toggleable__label-arrow:before {content: \"▾\";}#sk-container-id-11 div.sk-estimator input.sk-toggleable__control:checked~label.sk-toggleable__label {background-color: #d4ebff;}#sk-container-id-11 div.sk-label input.sk-toggleable__control:checked~label.sk-toggleable__label {background-color: #d4ebff;}#sk-container-id-11 input.sk-hidden--visually {border: 0;clip: rect(1px 1px 1px 1px);clip: rect(1px, 1px, 1px, 1px);height: 1px;margin: -1px;overflow: hidden;padding: 0;position: absolute;width: 1px;}#sk-container-id-11 div.sk-estimator {font-family: monospace;background-color: #f0f8ff;border: 1px dotted black;border-radius: 0.25em;box-sizing: border-box;margin-bottom: 0.5em;}#sk-container-id-11 div.sk-estimator:hover {background-color: #d4ebff;}#sk-container-id-11 div.sk-parallel-item::after {content: \"\";width: 100%;border-bottom: 1px solid gray;flex-grow: 1;}#sk-container-id-11 div.sk-label:hover label.sk-toggleable__label {background-color: #d4ebff;}#sk-container-id-11 div.sk-serial::before {content: \"\";position: absolute;border-left: 1px solid gray;box-sizing: border-box;top: 0;bottom: 0;left: 50%;z-index: 0;}#sk-container-id-11 div.sk-serial {display: flex;flex-direction: column;align-items: center;background-color: white;padding-right: 0.2em;padding-left: 0.2em;position: relative;}#sk-container-id-11 div.sk-item {position: relative;z-index: 1;}#sk-container-id-11 div.sk-parallel {display: flex;align-items: stretch;justify-content: center;background-color: white;position: relative;}#sk-container-id-11 div.sk-item::before, #sk-container-id-11 div.sk-parallel-item::before {content: \"\";position: absolute;border-left: 1px solid gray;box-sizing: border-box;top: 0;bottom: 0;left: 50%;z-index: -1;}#sk-container-id-11 div.sk-parallel-item {display: flex;flex-direction: column;z-index: 1;position: relative;background-color: white;}#sk-container-id-11 div.sk-parallel-item:first-child::after {align-self: flex-end;width: 50%;}#sk-container-id-11 div.sk-parallel-item:last-child::after {align-self: flex-start;width: 50%;}#sk-container-id-11 div.sk-parallel-item:only-child::after {width: 0;}#sk-container-id-11 div.sk-dashed-wrapped {border: 1px dashed gray;margin: 0 0.4em 0.5em 0.4em;box-sizing: border-box;padding-bottom: 0.4em;background-color: white;}#sk-container-id-11 div.sk-label label {font-family: monospace;font-weight: bold;display: inline-block;line-height: 1.2em;}#sk-container-id-11 div.sk-label-container {text-align: center;}#sk-container-id-11 div.sk-container {/* jupyter's `normalize.less` sets `[hidden] { display: none; }` but bootstrap.min.css set `[hidden] { display: none !important; }` so we also need the `!important` here to be able to override the default hidden behavior on the sphinx rendered scikit-learn.org. See: https://github.com/scikit-learn/scikit-learn/issues/21755 */display: inline-block !important;position: relative;}#sk-container-id-11 div.sk-text-repr-fallback {display: none;}</style><div id=\"sk-container-id-11\" class=\"sk-top-container\"><div class=\"sk-text-repr-fallback\"><pre>PCA()</pre><b>In a Jupyter environment, please rerun this cell to show the HTML representation or trust the notebook. <br />On GitHub, the HTML representation is unable to render, please try loading this page with nbviewer.org.</b></div><div class=\"sk-container\" hidden><div class=\"sk-item\"><div class=\"sk-estimator sk-toggleable\"><input class=\"sk-toggleable__control sk-hidden--visually\" id=\"sk-estimator-id-11\" type=\"checkbox\" checked><label for=\"sk-estimator-id-11\" class=\"sk-toggleable__label sk-toggleable__label-arrow\">PCA</label><div class=\"sk-toggleable__content\"><pre>PCA()</pre></div></div></div></div></div>"
      ],
      "text/plain": [
       "PCA()"
      ]
     },
     "execution_count": 113,
     "metadata": {},
     "output_type": "execute_result"
    }
   ],
   "source": [
    "pca"
   ]
  },
  {
   "cell_type": "code",
   "execution_count": 114,
   "id": "d533734f",
   "metadata": {},
   "outputs": [
    {
     "data": {
      "text/html": [
       "<style>#sk-container-id-12 {color: black;background-color: white;}#sk-container-id-12 pre{padding: 0;}#sk-container-id-12 div.sk-toggleable {background-color: white;}#sk-container-id-12 label.sk-toggleable__label {cursor: pointer;display: block;width: 100%;margin-bottom: 0;padding: 0.3em;box-sizing: border-box;text-align: center;}#sk-container-id-12 label.sk-toggleable__label-arrow:before {content: \"▸\";float: left;margin-right: 0.25em;color: #696969;}#sk-container-id-12 label.sk-toggleable__label-arrow:hover:before {color: black;}#sk-container-id-12 div.sk-estimator:hover label.sk-toggleable__label-arrow:before {color: black;}#sk-container-id-12 div.sk-toggleable__content {max-height: 0;max-width: 0;overflow: hidden;text-align: left;background-color: #f0f8ff;}#sk-container-id-12 div.sk-toggleable__content pre {margin: 0.2em;color: black;border-radius: 0.25em;background-color: #f0f8ff;}#sk-container-id-12 input.sk-toggleable__control:checked~div.sk-toggleable__content {max-height: 200px;max-width: 100%;overflow: auto;}#sk-container-id-12 input.sk-toggleable__control:checked~label.sk-toggleable__label-arrow:before {content: \"▾\";}#sk-container-id-12 div.sk-estimator input.sk-toggleable__control:checked~label.sk-toggleable__label {background-color: #d4ebff;}#sk-container-id-12 div.sk-label input.sk-toggleable__control:checked~label.sk-toggleable__label {background-color: #d4ebff;}#sk-container-id-12 input.sk-hidden--visually {border: 0;clip: rect(1px 1px 1px 1px);clip: rect(1px, 1px, 1px, 1px);height: 1px;margin: -1px;overflow: hidden;padding: 0;position: absolute;width: 1px;}#sk-container-id-12 div.sk-estimator {font-family: monospace;background-color: #f0f8ff;border: 1px dotted black;border-radius: 0.25em;box-sizing: border-box;margin-bottom: 0.5em;}#sk-container-id-12 div.sk-estimator:hover {background-color: #d4ebff;}#sk-container-id-12 div.sk-parallel-item::after {content: \"\";width: 100%;border-bottom: 1px solid gray;flex-grow: 1;}#sk-container-id-12 div.sk-label:hover label.sk-toggleable__label {background-color: #d4ebff;}#sk-container-id-12 div.sk-serial::before {content: \"\";position: absolute;border-left: 1px solid gray;box-sizing: border-box;top: 0;bottom: 0;left: 50%;z-index: 0;}#sk-container-id-12 div.sk-serial {display: flex;flex-direction: column;align-items: center;background-color: white;padding-right: 0.2em;padding-left: 0.2em;position: relative;}#sk-container-id-12 div.sk-item {position: relative;z-index: 1;}#sk-container-id-12 div.sk-parallel {display: flex;align-items: stretch;justify-content: center;background-color: white;position: relative;}#sk-container-id-12 div.sk-item::before, #sk-container-id-12 div.sk-parallel-item::before {content: \"\";position: absolute;border-left: 1px solid gray;box-sizing: border-box;top: 0;bottom: 0;left: 50%;z-index: -1;}#sk-container-id-12 div.sk-parallel-item {display: flex;flex-direction: column;z-index: 1;position: relative;background-color: white;}#sk-container-id-12 div.sk-parallel-item:first-child::after {align-self: flex-end;width: 50%;}#sk-container-id-12 div.sk-parallel-item:last-child::after {align-self: flex-start;width: 50%;}#sk-container-id-12 div.sk-parallel-item:only-child::after {width: 0;}#sk-container-id-12 div.sk-dashed-wrapped {border: 1px dashed gray;margin: 0 0.4em 0.5em 0.4em;box-sizing: border-box;padding-bottom: 0.4em;background-color: white;}#sk-container-id-12 div.sk-label label {font-family: monospace;font-weight: bold;display: inline-block;line-height: 1.2em;}#sk-container-id-12 div.sk-label-container {text-align: center;}#sk-container-id-12 div.sk-container {/* jupyter's `normalize.less` sets `[hidden] { display: none; }` but bootstrap.min.css set `[hidden] { display: none !important; }` so we also need the `!important` here to be able to override the default hidden behavior on the sphinx rendered scikit-learn.org. See: https://github.com/scikit-learn/scikit-learn/issues/21755 */display: inline-block !important;position: relative;}#sk-container-id-12 div.sk-text-repr-fallback {display: none;}</style><div id=\"sk-container-id-12\" class=\"sk-top-container\"><div class=\"sk-text-repr-fallback\"><pre>PCA()</pre><b>In a Jupyter environment, please rerun this cell to show the HTML representation or trust the notebook. <br />On GitHub, the HTML representation is unable to render, please try loading this page with nbviewer.org.</b></div><div class=\"sk-container\" hidden><div class=\"sk-item\"><div class=\"sk-estimator sk-toggleable\"><input class=\"sk-toggleable__control sk-hidden--visually\" id=\"sk-estimator-id-12\" type=\"checkbox\" checked><label for=\"sk-estimator-id-12\" class=\"sk-toggleable__label sk-toggleable__label-arrow\">PCA</label><div class=\"sk-toggleable__content\"><pre>PCA()</pre></div></div></div></div></div>"
      ],
      "text/plain": [
       "PCA()"
      ]
     },
     "execution_count": 114,
     "metadata": {},
     "output_type": "execute_result"
    }
   ],
   "source": [
    "pca.fit(data)"
   ]
  },
  {
   "cell_type": "code",
   "execution_count": 115,
   "id": "66874e96",
   "metadata": {},
   "outputs": [
    {
     "data": {
      "text/plain": [
       "array([9.47923065e-01, 5.20734600e-02, 1.76794667e-06, 1.38689143e-06,\n",
       "       1.90998382e-07, 1.03865256e-07, 1.82060941e-08, 5.98917170e-09,\n",
       "       8.64921244e-10])"
      ]
     },
     "execution_count": 115,
     "metadata": {},
     "output_type": "execute_result"
    }
   ],
   "source": [
    "pca.explained_variance_ratio_"
   ]
  },
  {
   "cell_type": "code",
   "execution_count": 116,
   "id": "919334e7",
   "metadata": {},
   "outputs": [],
   "source": [
    "vals = pca.explained_variance_ratio_"
   ]
  },
  {
   "cell_type": "code",
   "execution_count": 117,
   "id": "430212eb",
   "metadata": {},
   "outputs": [
    {
     "data": {
      "image/png": "[encoded data removed]",
      "text/plain": [
       "<Figure size 1000x600 with 1 Axes>"
      ]
     },
     "metadata": {},
     "output_type": "display_data"
    }
   ],
   "source": [
    "import matplotlib.pyplot as plt\n",
    "import numpy as np\n",
    "from sympy import *\n",
    "fig, ax = plt.subplots(figsize = (10, 6))\n",
    "\n",
    "ax.bar(np.arange(1, len(vals) + 1), pca.explained_variance_ratio_, color = 'g', alpha = 0.7)\n",
    "ax.step(np.arange(1, len(vals) + 1), np.cumsum(pca.explained_variance_ratio_), linestyle = '--')\n",
    "ax.set_xlabel('Componentes')\n",
    "ax.set_ylabel('Varianza Explicada');"
   ]
  },
  {
   "cell_type": "code",
   "execution_count": null,
   "id": "27cdd93e",
   "metadata": {},
   "outputs": [],
   "source": []
  },
  {
   "cell_type": "code",
   "execution_count": 118,
   "id": "7a967732",
   "metadata": {},
   "outputs": [],
   "source": [
    "pca = PCA(n_components=2)"
   ]
  },
  {
   "cell_type": "code",
   "execution_count": 119,
   "id": "ba18b6b5",
   "metadata": {},
   "outputs": [
    {
     "data": {
      "text/html": [
       "<style>#sk-container-id-13 {color: black;background-color: white;}#sk-container-id-13 pre{padding: 0;}#sk-container-id-13 div.sk-toggleable {background-color: white;}#sk-container-id-13 label.sk-toggleable__label {cursor: pointer;display: block;width: 100%;margin-bottom: 0;padding: 0.3em;box-sizing: border-box;text-align: center;}#sk-container-id-13 label.sk-toggleable__label-arrow:before {content: \"▸\";float: left;margin-right: 0.25em;color: #696969;}#sk-container-id-13 label.sk-toggleable__label-arrow:hover:before {color: black;}#sk-container-id-13 div.sk-estimator:hover label.sk-toggleable__label-arrow:before {color: black;}#sk-container-id-13 div.sk-toggleable__content {max-height: 0;max-width: 0;overflow: hidden;text-align: left;background-color: #f0f8ff;}#sk-container-id-13 div.sk-toggleable__content pre {margin: 0.2em;color: black;border-radius: 0.25em;background-color: #f0f8ff;}#sk-container-id-13 input.sk-toggleable__control:checked~div.sk-toggleable__content {max-height: 200px;max-width: 100%;overflow: auto;}#sk-container-id-13 input.sk-toggleable__control:checked~label.sk-toggleable__label-arrow:before {content: \"▾\";}#sk-container-id-13 div.sk-estimator input.sk-toggleable__control:checked~label.sk-toggleable__label {background-color: #d4ebff;}#sk-container-id-13 div.sk-label input.sk-toggleable__control:checked~label.sk-toggleable__label {background-color: #d4ebff;}#sk-container-id-13 input.sk-hidden--visually {border: 0;clip: rect(1px 1px 1px 1px);clip: rect(1px, 1px, 1px, 1px);height: 1px;margin: -1px;overflow: hidden;padding: 0;position: absolute;width: 1px;}#sk-container-id-13 div.sk-estimator {font-family: monospace;background-color: #f0f8ff;border: 1px dotted black;border-radius: 0.25em;box-sizing: border-box;margin-bottom: 0.5em;}#sk-container-id-13 div.sk-estimator:hover {background-color: #d4ebff;}#sk-container-id-13 div.sk-parallel-item::after {content: \"\";width: 100%;border-bottom: 1px solid gray;flex-grow: 1;}#sk-container-id-13 div.sk-label:hover label.sk-toggleable__label {background-color: #d4ebff;}#sk-container-id-13 div.sk-serial::before {content: \"\";position: absolute;border-left: 1px solid gray;box-sizing: border-box;top: 0;bottom: 0;left: 50%;z-index: 0;}#sk-container-id-13 div.sk-serial {display: flex;flex-direction: column;align-items: center;background-color: white;padding-right: 0.2em;padding-left: 0.2em;position: relative;}#sk-container-id-13 div.sk-item {position: relative;z-index: 1;}#sk-container-id-13 div.sk-parallel {display: flex;align-items: stretch;justify-content: center;background-color: white;position: relative;}#sk-container-id-13 div.sk-item::before, #sk-container-id-13 div.sk-parallel-item::before {content: \"\";position: absolute;border-left: 1px solid gray;box-sizing: border-box;top: 0;bottom: 0;left: 50%;z-index: -1;}#sk-container-id-13 div.sk-parallel-item {display: flex;flex-direction: column;z-index: 1;position: relative;background-color: white;}#sk-container-id-13 div.sk-parallel-item:first-child::after {align-self: flex-end;width: 50%;}#sk-container-id-13 div.sk-parallel-item:last-child::after {align-self: flex-start;width: 50%;}#sk-container-id-13 div.sk-parallel-item:only-child::after {width: 0;}#sk-container-id-13 div.sk-dashed-wrapped {border: 1px dashed gray;margin: 0 0.4em 0.5em 0.4em;box-sizing: border-box;padding-bottom: 0.4em;background-color: white;}#sk-container-id-13 div.sk-label label {font-family: monospace;font-weight: bold;display: inline-block;line-height: 1.2em;}#sk-container-id-13 div.sk-label-container {text-align: center;}#sk-container-id-13 div.sk-container {/* jupyter's `normalize.less` sets `[hidden] { display: none; }` but bootstrap.min.css set `[hidden] { display: none !important; }` so we also need the `!important` here to be able to override the default hidden behavior on the sphinx rendered scikit-learn.org. See: https://github.com/scikit-learn/scikit-learn/issues/21755 */display: inline-block !important;position: relative;}#sk-container-id-13 div.sk-text-repr-fallback {display: none;}</style><div id=\"sk-container-id-13\" class=\"sk-top-container\"><div class=\"sk-text-repr-fallback\"><pre>PCA(n_components=2)</pre><b>In a Jupyter environment, please rerun this cell to show the HTML representation or trust the notebook. <br />On GitHub, the HTML representation is unable to render, please try loading this page with nbviewer.org.</b></div><div class=\"sk-container\" hidden><div class=\"sk-item\"><div class=\"sk-estimator sk-toggleable\"><input class=\"sk-toggleable__control sk-hidden--visually\" id=\"sk-estimator-id-13\" type=\"checkbox\" checked><label for=\"sk-estimator-id-13\" class=\"sk-toggleable__label sk-toggleable__label-arrow\">PCA</label><div class=\"sk-toggleable__content\"><pre>PCA(n_components=2)</pre></div></div></div></div></div>"
      ],
      "text/plain": [
       "PCA(n_components=2)"
      ]
     },
     "execution_count": 119,
     "metadata": {},
     "output_type": "execute_result"
    }
   ],
   "source": [
    "pca.fit(data)"
   ]
  },
  {
   "cell_type": "code",
   "execution_count": 120,
   "id": "527c1b07",
   "metadata": {},
   "outputs": [],
   "source": [
    "newX2 = pca.transform(data)"
   ]
  },
  {
   "cell_type": "code",
   "execution_count": 131,
   "id": "f33c8289",
   "metadata": {},
   "outputs": [
    {
     "ename": "KeyError",
     "evalue": "'country'",
     "output_type": "error",
     "traceback": [
      "\u001b[1;31m---------------------------------------------------------------------------\u001b[0m",
      "\u001b[1;31mKeyError\u001b[0m                                  Traceback (most recent call last)",
      "File \u001b[1;32m~\\anaconda3\\lib\\site-packages\\pandas\\core\\indexes\\base.py:3802\u001b[0m, in \u001b[0;36mIndex.get_loc\u001b[1;34m(self, key, method, tolerance)\u001b[0m\n\u001b[0;32m   3801\u001b[0m \u001b[38;5;28;01mtry\u001b[39;00m:\n\u001b[1;32m-> 3802\u001b[0m     \u001b[38;5;28;01mreturn\u001b[39;00m \u001b[38;5;28;43mself\u001b[39;49m\u001b[38;5;241;43m.\u001b[39;49m\u001b[43m_engine\u001b[49m\u001b[38;5;241;43m.\u001b[39;49m\u001b[43mget_loc\u001b[49m\u001b[43m(\u001b[49m\u001b[43mcasted_key\u001b[49m\u001b[43m)\u001b[49m\n\u001b[0;32m   3803\u001b[0m \u001b[38;5;28;01mexcept\u001b[39;00m \u001b[38;5;167;01mKeyError\u001b[39;00m \u001b[38;5;28;01mas\u001b[39;00m err:\n",
      "File \u001b[1;32m~\\anaconda3\\lib\\site-packages\\pandas\\_libs\\index.pyx:138\u001b[0m, in \u001b[0;36mpandas._libs.index.IndexEngine.get_loc\u001b[1;34m()\u001b[0m\n",
      "File \u001b[1;32m~\\anaconda3\\lib\\site-packages\\pandas\\_libs\\index.pyx:165\u001b[0m, in \u001b[0;36mpandas._libs.index.IndexEngine.get_loc\u001b[1;34m()\u001b[0m\n",
      "File \u001b[1;32mpandas\\_libs\\hashtable_class_helper.pxi:5745\u001b[0m, in \u001b[0;36mpandas._libs.hashtable.PyObjectHashTable.get_item\u001b[1;34m()\u001b[0m\n",
      "File \u001b[1;32mpandas\\_libs\\hashtable_class_helper.pxi:5753\u001b[0m, in \u001b[0;36mpandas._libs.hashtable.PyObjectHashTable.get_item\u001b[1;34m()\u001b[0m\n",
      "\u001b[1;31mKeyError\u001b[0m: 'country'",
      "\nThe above exception was the direct cause of the following exception:\n",
      "\u001b[1;31mKeyError\u001b[0m                                  Traceback (most recent call last)",
      "Cell \u001b[1;32mIn[131], line 1\u001b[0m\n\u001b[1;32m----> 1\u001b[0m y \u001b[38;5;241m=\u001b[39m \u001b[43mdata\u001b[49m\u001b[43m[\u001b[49m\u001b[38;5;124;43m'\u001b[39;49m\u001b[38;5;124;43mcountry\u001b[39;49m\u001b[38;5;124;43m'\u001b[39;49m\u001b[43m]\u001b[49m\n",
      "File \u001b[1;32m~\\anaconda3\\lib\\site-packages\\pandas\\core\\frame.py:3807\u001b[0m, in \u001b[0;36mDataFrame.__getitem__\u001b[1;34m(self, key)\u001b[0m\n\u001b[0;32m   3805\u001b[0m \u001b[38;5;28;01mif\u001b[39;00m \u001b[38;5;28mself\u001b[39m\u001b[38;5;241m.\u001b[39mcolumns\u001b[38;5;241m.\u001b[39mnlevels \u001b[38;5;241m>\u001b[39m \u001b[38;5;241m1\u001b[39m:\n\u001b[0;32m   3806\u001b[0m     \u001b[38;5;28;01mreturn\u001b[39;00m \u001b[38;5;28mself\u001b[39m\u001b[38;5;241m.\u001b[39m_getitem_multilevel(key)\n\u001b[1;32m-> 3807\u001b[0m indexer \u001b[38;5;241m=\u001b[39m \u001b[38;5;28;43mself\u001b[39;49m\u001b[38;5;241;43m.\u001b[39;49m\u001b[43mcolumns\u001b[49m\u001b[38;5;241;43m.\u001b[39;49m\u001b[43mget_loc\u001b[49m\u001b[43m(\u001b[49m\u001b[43mkey\u001b[49m\u001b[43m)\u001b[49m\n\u001b[0;32m   3808\u001b[0m \u001b[38;5;28;01mif\u001b[39;00m is_integer(indexer):\n\u001b[0;32m   3809\u001b[0m     indexer \u001b[38;5;241m=\u001b[39m [indexer]\n",
      "File \u001b[1;32m~\\anaconda3\\lib\\site-packages\\pandas\\core\\indexes\\base.py:3804\u001b[0m, in \u001b[0;36mIndex.get_loc\u001b[1;34m(self, key, method, tolerance)\u001b[0m\n\u001b[0;32m   3802\u001b[0m     \u001b[38;5;28;01mreturn\u001b[39;00m \u001b[38;5;28mself\u001b[39m\u001b[38;5;241m.\u001b[39m_engine\u001b[38;5;241m.\u001b[39mget_loc(casted_key)\n\u001b[0;32m   3803\u001b[0m \u001b[38;5;28;01mexcept\u001b[39;00m \u001b[38;5;167;01mKeyError\u001b[39;00m \u001b[38;5;28;01mas\u001b[39;00m err:\n\u001b[1;32m-> 3804\u001b[0m     \u001b[38;5;28;01mraise\u001b[39;00m \u001b[38;5;167;01mKeyError\u001b[39;00m(key) \u001b[38;5;28;01mfrom\u001b[39;00m \u001b[38;5;21;01merr\u001b[39;00m\n\u001b[0;32m   3805\u001b[0m \u001b[38;5;28;01mexcept\u001b[39;00m \u001b[38;5;167;01mTypeError\u001b[39;00m:\n\u001b[0;32m   3806\u001b[0m     \u001b[38;5;66;03m# If we have a listlike key, _check_indexing_error will raise\u001b[39;00m\n\u001b[0;32m   3807\u001b[0m     \u001b[38;5;66;03m#  InvalidIndexError. Otherwise we fall through and re-raise\u001b[39;00m\n\u001b[0;32m   3808\u001b[0m     \u001b[38;5;66;03m#  the TypeError.\u001b[39;00m\n\u001b[0;32m   3809\u001b[0m     \u001b[38;5;28mself\u001b[39m\u001b[38;5;241m.\u001b[39m_check_indexing_error(key)\n",
      "\u001b[1;31mKeyError\u001b[0m: 'country'"
     ]
    }
   ],
   "source": []
  },
  {
   "cell_type": "code",
   "execution_count": 127,
   "id": "944f4362",
   "metadata": {},
   "outputs": [
    {
     "data": {
      "text/plain": [
       "array([[-1.98151280e+04, -1.65112472e+03],\n",
       "       [-1.13389390e+04,  1.49346903e+03],\n",
       "       [-8.92635259e+03,  3.26468410e+03],\n",
       "       [-1.46524659e+04, -8.67795270e+02],\n",
       "       [ 8.96142032e+02,  1.89847815e+03],\n",
       "       [-6.99699306e+02,  3.00451171e+03],\n",
       "       [-1.42839444e+04, -9.29672241e+01],\n",
       "       [ 4.43727025e+04, -1.16354527e+04],\n",
       "       [ 4.22463421e+04, -6.76525844e+03],\n",
       "       [-5.72551309e+03,  4.39118182e+03],\n",
       "       [ 1.45108648e+04, -6.97390702e+03],\n",
       "       [ 2.27232733e+04,  1.08330393e+04],\n",
       "       [-1.90710762e+04, -1.22994979e+03],\n",
       "       [ 7.44735254e+02, -3.47340570e+03],\n",
       "       [-5.44962091e+03,  4.39049953e+03],\n",
       "       [ 3.90029276e+04, -6.39086337e+03],\n",
       "       [-1.26570298e+04, -9.63440942e+01],\n",
       "       [-1.95217046e+04, -1.65585861e+03],\n",
       "       [-1.52018204e+04,  4.70524185e+02],\n",
       "       [-1.60732239e+04, -7.79039217e+01],\n",
       "       [-1.11343558e+04,  9.71315924e+02],\n",
       "       [-7.33742276e+03,  2.16588186e+03],\n",
       "       [-3.13382968e+03, -5.34572278e+02],\n",
       "       [ 6.14585742e+04,  2.73552358e+04],\n",
       "       [-5.54730448e+03,  3.18361178e+03],\n",
       "       [-1.99308479e+04, -1.79076294e+03],\n",
       "       [-2.06511429e+04, -1.99823612e+03],\n",
       "       [-1.89936758e+04, -1.19530743e+03],\n",
       "       [-1.85320664e+04, -1.48002418e+03],\n",
       "       [ 4.07729133e+04, -8.84591407e+03],\n",
       "       [-1.48543911e+04, -7.55975582e+02],\n",
       "       [-2.04133880e+04, -2.06934107e+03],\n",
       "       [-1.93463083e+04, -1.68132487e+03],\n",
       "       [ 1.59499352e+03,  1.59582012e+03],\n",
       "       [-1.13067962e+04,  8.77134686e+02],\n",
       "       [-9.15029156e+03,  5.89977233e+02],\n",
       "       [-1.98120978e+04, -1.94547597e+03],\n",
       "       [-2.06930387e+04, -2.17953961e+03],\n",
       "       [-1.57110532e+04, -7.81314329e+02],\n",
       "       [-6.28464073e+03,  6.15340533e+02],\n",
       "       [-1.85720720e+04, -1.39398292e+03],\n",
       "       [ 2.51586246e+03,  1.64060426e+03],\n",
       "       [ 2.44284312e+04, -1.45283343e+03],\n",
       "       [ 1.28027054e+04,  2.69473789e+03],\n",
       "       [ 5.04523815e+04, -1.42826301e+04],\n",
       "       [-9.55447409e+03,  1.30875496e+03],\n",
       "       [-1.13689253e+04,  6.80813580e+02],\n",
       "       [-1.24133172e+04,  2.52822652e+03],\n",
       "       [-1.40058814e+04,  4.86330246e+02],\n",
       "       [ 1.48724121e+04,  8.36620325e+03],\n",
       "       [-2.00019561e+04, -1.73002215e+03],\n",
       "       [ 5.16102258e+03,  2.62717081e+03],\n",
       "       [-1.35161752e+04,  4.10502108e+01],\n",
       "       [ 3.92945631e+04, -8.59202037e+03],\n",
       "       [ 3.33403230e+04, -6.51427008e+03],\n",
       "       [-4.16268815e+03,  1.86419546e+03],\n",
       "       [-1.97725914e+04, -1.62330267e+03],\n",
       "       [-1.44407278e+04,  1.16607828e+02],\n",
       "       [ 3.67082311e+04, -4.98218777e+03],\n",
       "       [-1.82413350e+04, -1.20523180e+03],\n",
       "       [ 1.79704020e+04, -2.19044926e+03],\n",
       "       [-8.16292420e+03, -1.78978635e+01],\n",
       "       [-1.45445824e+04,  1.97326457e+02],\n",
       "       [-2.00551109e+04, -2.00865430e+03],\n",
       "       [-1.99791511e+04, -1.79789433e+03],\n",
       "       [-1.50325872e+04, -5.52871390e+02],\n",
       "       [-1.98202925e+04, -1.80596074e+03],\n",
       "       [ 3.83996950e+03,  3.44253586e+03],\n",
       "       [ 3.56141344e+04, -6.15389535e+03],\n",
       "       [-1.72327421e+04, -3.06981744e+02],\n",
       "       [-1.31022465e+04,  1.17531489e+03],\n",
       "       [-4.23410171e+03,  4.85137547e+03],\n",
       "       [-9.04423465e+03,  3.09822809e+03],\n",
       "       [ 4.52996688e+04, -6.35609349e+03],\n",
       "       [ 2.11660281e+04, -4.26118777e+03],\n",
       "       [ 2.95344566e+04, -3.50671715e+03],\n",
       "       [-1.23362866e+04, -2.61032392e+02],\n",
       "       [ 3.52198238e+04, -1.01041904e+04],\n",
       "       [-1.19548648e+04,  1.47547803e+03],\n",
       "       [-5.27139427e+02,  4.86009732e+03],\n",
       "       [-1.88984510e+04, -1.35436783e+03],\n",
       "       [-1.90842590e+04, -2.24964100e+03],\n",
       "       [ 5.97322373e+04,  2.13203609e+04],\n",
       "       [-1.87328719e+04, -1.07814858e+03],\n",
       "       [-1.76895008e+04, -4.49731581e+02],\n",
       "       [-3.03464476e+02,  2.00303554e+03],\n",
       "       [-3.43301488e+03,  2.40247329e+03],\n",
       "       [-1.88317005e+04, -1.57058874e+03],\n",
       "       [-2.06316958e+04, -2.11195272e+03],\n",
       "       [ 8.45829457e+03,  9.18366338e+03],\n",
       "       [ 2.21226826e+03,  3.41765699e+03],\n",
       "       [ 1.17402802e+05, -1.56743067e+04],\n",
       "       [-9.96150227e+03,  2.17619584e+03],\n",
       "       [-2.00711479e+04, -1.70046857e+03],\n",
       "       [-2.03012059e+04, -1.98120255e+03],\n",
       "       [ 1.99647102e+02,  5.54704799e+03],\n",
       "       [-8.85707949e+03, -3.02455816e+02],\n",
       "       [-1.95197350e+04, -1.58519087e+03],\n",
       "       [ 1.36957340e+04,  1.75005284e+03],\n",
       "       [-1.81279450e+04, -9.46685446e+02],\n",
       "       [-4.31444884e+03,  2.75272663e+03],\n",
       "       [-1.69731126e+04, -2.13934684e+03],\n",
       "       [-1.74037333e+04, -8.53882300e+02],\n",
       "       [-1.39414617e+04,  1.01508084e+03],\n",
       "       [-6.60198189e+03,  2.40690619e+03],\n",
       "       [-1.47407977e+04,  1.18690720e+01],\n",
       "       [-2.04100799e+04, -2.02906389e+03],\n",
       "       [-1.79828757e+04, -5.17888840e+02],\n",
       "       [-1.16516855e+04, -3.15705304e+02],\n",
       "       [-1.95121391e+04, -1.41841862e+03],\n",
       "       [ 4.62533482e+04, -7.65629991e+03],\n",
       "       [ 2.52576447e+04, -4.65946904e+03],\n",
       "       [-2.05344527e+04, -2.04892508e+03],\n",
       "       [-1.60218486e+04, -5.10896060e+02],\n",
       "       [ 8.42216030e+04, -2.33693647e+04],\n",
       "       [ 2.48139368e+04,  1.47354792e+04],\n",
       "       [-1.75401925e+04, -1.71014256e+02],\n",
       "       [-4.62286134e+03,  2.35115087e+03],\n",
       "       [-1.38482810e+04,  3.05067155e+02],\n",
       "       [-1.06783209e+04,  8.38198290e+02],\n",
       "       [-1.58320977e+04, -5.64030712e+01],\n",
       "       [ 3.13311891e+03,  3.46241618e+03],\n",
       "       [ 1.38579055e+04, -2.31097735e+01],\n",
       "       [ 1.17767797e+05,  3.24176123e+04],\n",
       "       [-2.77565140e+03,  3.89067630e+03],\n",
       "       [ 2.77275686e+03,  5.73620143e+03],\n",
       "       [-1.99971899e+04, -1.83697366e+03],\n",
       "       [-1.50707225e+04, -1.15308868e+03],\n",
       "       [ 2.48865988e+04,  1.48041518e+04],\n",
       "       [-1.90938077e+04, -1.58442018e+03],\n",
       "       [-8.41912682e+03,  2.43689582e+03],\n",
       "       [ 8.79272769e+02,  3.80894422e+03],\n",
       "       [-2.02043973e+04, -1.80713023e+03],\n",
       "       [ 6.30433440e+04,  1.33044401e+04],\n",
       "       [ 8.35169872e+03,  2.89093554e+03],\n",
       "       [ 1.55662611e+04,  3.53207712e+02],\n",
       "       [-1.91852564e+04, -2.06989098e+03],\n",
       "       [-7.64338385e+03,  5.97014692e+02],\n",
       "       [ 1.59087438e+04,  2.46570224e+03],\n",
       "       [ 2.33422796e+04, -2.34185057e+03],\n",
       "       [-1.32138245e+04,  1.48264691e+03],\n",
       "       [-9.87623420e+03, -6.86417054e+01],\n",
       "       [-1.78992789e+04, -1.11584979e+03],\n",
       "       [-5.34385743e+03,  1.36696195e+03],\n",
       "       [ 4.56002207e+04, -1.07504195e+04],\n",
       "       [ 7.02125970e+04, -1.84472265e+04],\n",
       "       [-1.93246400e+04, -1.44209292e+03],\n",
       "       [-1.93639227e+04, -1.42967824e+03],\n",
       "       [-8.06439486e+03,  3.22627482e+03],\n",
       "       [-1.75476917e+04, -3.70065463e+03],\n",
       "       [-2.01504576e+04, -1.87862097e+03],\n",
       "       [-1.53072727e+04, -1.51427685e+03],\n",
       "       [-1.09630110e+04,  1.77999753e+03],\n",
       "       [-9.33660435e+02,  2.23297577e+03],\n",
       "       [-1.10912690e+04,  1.24599650e+03],\n",
       "       [-1.98371410e+04, -1.72972043e+03],\n",
       "       [-1.36416959e+04,  8.58081528e+02],\n",
       "       [ 4.45373385e+04,  1.17744795e+04],\n",
       "       [ 3.16638620e+04, -5.75963101e+03],\n",
       "       [ 4.77825030e+04, -3.59661607e+03],\n",
       "       [-7.63437096e+02,  7.42674765e+02],\n",
       "       [-1.73356589e+04, -4.45534817e+02],\n",
       "       [-1.71809677e+04, -2.48715383e+03],\n",
       "       [-1.00445973e+02, -8.32252802e+02],\n",
       "       [-1.72020172e+04, -2.22889872e+02],\n",
       "       [-1.72093402e+04, -2.29815901e+02],\n",
       "       [-1.79784216e+04, -1.16312463e+03]])"
      ]
     },
     "execution_count": 127,
     "metadata": {},
     "output_type": "execute_result"
    }
   ],
   "source": [
    "newX2"
   ]
  },
  {
   "cell_type": "code",
   "execution_count": 128,
   "id": "96bbcac0",
   "metadata": {},
   "outputs": [
    {
     "ename": "ValueError",
     "evalue": "all the input array dimensions for the concatenation axis must match exactly, but along dimension 0, the array at index 0 has size 167 and the array at index 1 has size 1",
     "output_type": "error",
     "traceback": [
      "\u001b[1;31m---------------------------------------------------------------------------\u001b[0m",
      "\u001b[1;31mValueError\u001b[0m                                Traceback (most recent call last)",
      "Cell \u001b[1;32mIn[128], line 1\u001b[0m\n\u001b[1;32m----> 1\u001b[0m newX2 \u001b[38;5;241m=\u001b[39m \u001b[43mnp\u001b[49m\u001b[38;5;241;43m.\u001b[39;49m\u001b[43mcolumn_stack\u001b[49m\u001b[43m(\u001b[49m\u001b[43m[\u001b[49m\u001b[43mnewX2\u001b[49m\u001b[43m,\u001b[49m\u001b[43m \u001b[49m\u001b[43my\u001b[49m\u001b[43m]\u001b[49m\u001b[43m)\u001b[49m\n",
      "File \u001b[1;32m<__array_function__ internals>:180\u001b[0m, in \u001b[0;36mcolumn_stack\u001b[1;34m(*args, **kwargs)\u001b[0m\n",
      "File \u001b[1;32m~\\anaconda3\\lib\\site-packages\\numpy\\lib\\shape_base.py:656\u001b[0m, in \u001b[0;36mcolumn_stack\u001b[1;34m(tup)\u001b[0m\n\u001b[0;32m    654\u001b[0m         arr \u001b[38;5;241m=\u001b[39m array(arr, copy\u001b[38;5;241m=\u001b[39m\u001b[38;5;28;01mFalse\u001b[39;00m, subok\u001b[38;5;241m=\u001b[39m\u001b[38;5;28;01mTrue\u001b[39;00m, ndmin\u001b[38;5;241m=\u001b[39m\u001b[38;5;241m2\u001b[39m)\u001b[38;5;241m.\u001b[39mT\n\u001b[0;32m    655\u001b[0m     arrays\u001b[38;5;241m.\u001b[39mappend(arr)\n\u001b[1;32m--> 656\u001b[0m \u001b[38;5;28;01mreturn\u001b[39;00m \u001b[43m_nx\u001b[49m\u001b[38;5;241;43m.\u001b[39;49m\u001b[43mconcatenate\u001b[49m\u001b[43m(\u001b[49m\u001b[43marrays\u001b[49m\u001b[43m,\u001b[49m\u001b[43m \u001b[49m\u001b[38;5;241;43m1\u001b[39;49m\u001b[43m)\u001b[49m\n",
      "File \u001b[1;32m<__array_function__ internals>:180\u001b[0m, in \u001b[0;36mconcatenate\u001b[1;34m(*args, **kwargs)\u001b[0m\n",
      "\u001b[1;31mValueError\u001b[0m: all the input array dimensions for the concatenation axis must match exactly, but along dimension 0, the array at index 0 has size 167 and the array at index 1 has size 1"
     ]
    }
   ],
   "source": [
    "newX2 = np.column_stack([newX2, y])"
   ]
  },
  {
   "cell_type": "code",
   "execution_count": 86,
   "id": "6582533c",
   "metadata": {},
   "outputs": [
    {
     "ename": "NameError",
     "evalue": "name 'y' is not defined",
     "output_type": "error",
     "traceback": [
      "\u001b[1;31m---------------------------------------------------------------------------\u001b[0m",
      "\u001b[1;31mNameError\u001b[0m                                 Traceback (most recent call last)",
      "Cell \u001b[1;32mIn[86], line 4\u001b[0m\n\u001b[0;32m      1\u001b[0m fig, ax \u001b[38;5;241m=\u001b[39m plt\u001b[38;5;241m.\u001b[39msubplots(\u001b[38;5;241m1\u001b[39m, \u001b[38;5;241m2\u001b[39m, figsize \u001b[38;5;241m=\u001b[39m (\u001b[38;5;241m10\u001b[39m, \u001b[38;5;241m5\u001b[39m))\n\u001b[1;32m----> 4\u001b[0m \u001b[38;5;28;01mfor\u001b[39;00m f, c \u001b[38;5;129;01min\u001b[39;00m \u001b[38;5;28mzip\u001b[39m(\u001b[43my\u001b[49m\u001b[38;5;241m.\u001b[39munique(), colors):\n\u001b[0;32m      5\u001b[0m     mask \u001b[38;5;241m=\u001b[39m newX2[:, \u001b[38;5;241m2\u001b[39m] \u001b[38;5;241m==\u001b[39m f\n\u001b[0;32m      6\u001b[0m     ax[\u001b[38;5;241m1\u001b[39m]\u001b[38;5;241m.\u001b[39mscatter(newX2[mask, \u001b[38;5;241m0\u001b[39m], newX2[mask, \u001b[38;5;241m1\u001b[39m], color \u001b[38;5;241m=\u001b[39m c, label \u001b[38;5;241m=\u001b[39m f)\n",
      "\u001b[1;31mNameError\u001b[0m: name 'y' is not defined"
     ]
    },
    {
     "data": {
      "image/png": "[encoded data removed]",
      "text/plain": [
       "<Figure size 1000x500 with 2 Axes>"
      ]
     },
     "metadata": {},
     "output_type": "display_data"
    }
   ],
   "source": [
    "\n",
    "fig, ax = plt.subplots(1, 2, figsize = (10, 5))\n",
    "\n",
    "    \n",
    "for f, c in zip(y.unique(), colors):\n",
    "    mask = newX2[:, 2] == f\n",
    "    ax[1].scatter(newX2[mask, 0], newX2[mask, 1], color = c, label = f)\n",
    "    \n",
    "\n",
    "ax[1].legend();"
   ]
  },
  {
   "cell_type": "markdown",
   "id": "hollow-syndication",
   "metadata": {},
   "source": [
    "[Regresar al contenido](#Contenido)"
   ]
  }
 ],
 "metadata": {
  "kernelspec": {
   "display_name": "Python 3 (ipykernel)",
   "language": "python",
   "name": "python3"
  },
  "language_info": {
   "codemirror_mode": {
    "name": "ipython",
    "version": 3
   },
   "file_extension": ".py",
   "mimetype": "text/x-python",
   "name": "python",
   "nbconvert_exporter": "python",
   "pygments_lexer": "ipython3",
   "version": "3.10.9"
  },
  "varInspector": {
   "cols": {
    "lenName": 16,
    "lenType": 16,
    "lenVar": 40
   },
   "kernels_config": {
    "python": {
     "delete_cmd_postfix": "",
     "delete_cmd_prefix": "del ",
     "library": "var_list.py",
     "varRefreshCmd": "print(var_dic_list())"
    },
    "r": {
     "delete_cmd_postfix": ") ",
     "delete_cmd_prefix": "rm(",
     "library": "var_list.r",
     "varRefreshCmd": "cat(var_dic_list()) "
    }
   },
   "types_to_exclude": [
    "module",
    "function",
    "builtin_function_or_method",
    "instance",
    "_Feature"
   ],
   "window_display": false
  }
 },
 "nbformat": 4,
 "nbformat_minor": 5
}
