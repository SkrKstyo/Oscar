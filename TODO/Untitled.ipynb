{
 "cells": [
  {
   "cell_type": "code",
   "execution_count": 25,
   "id": "1352ef31",
   "metadata": {},
   "outputs": [],
   "source": [
    "import numpy as np\n",
    "from sympy import *\n",
    "import matplotlib.pyplot as plt"
   ]
  },
  {
   "cell_type": "code",
   "execution_count": 4,
   "id": "e96f01f6",
   "metadata": {},
   "outputs": [],
   "source": [
    "t = np.array([[3,1],[0,2]])"
   ]
  },
  {
   "cell_type": "code",
   "execution_count": 5,
   "id": "b66dbb6a",
   "metadata": {},
   "outputs": [
    {
     "data": {
      "text/plain": [
       "array([[3, 1],\n",
       "       [0, 2]])"
      ]
     },
     "execution_count": 5,
     "metadata": {},
     "output_type": "execute_result"
    }
   ],
   "source": [
    "t"
   ]
  },
  {
   "cell_type": "code",
   "execution_count": 7,
   "id": "4c4774c0",
   "metadata": {},
   "outputs": [
    {
     "data": {
      "text/plain": [
       "array([3., 2.])"
      ]
     },
     "execution_count": 7,
     "metadata": {},
     "output_type": "execute_result"
    }
   ],
   "source": [
    "np.linalg.eigvals(t)"
   ]
  },
  {
   "cell_type": "code",
   "execution_count": 9,
   "id": "65714bd0",
   "metadata": {},
   "outputs": [],
   "source": [
    "valv, vac = np.linalg.eig(t)"
   ]
  },
  {
   "cell_type": "code",
   "execution_count": 10,
   "id": "683470d4",
   "metadata": {},
   "outputs": [
    {
     "data": {
      "text/plain": [
       "array([-0.70710678,  0.70710678])"
      ]
     },
     "execution_count": 10,
     "metadata": {},
     "output_type": "execute_result"
    }
   ],
   "source": [
    "vac[:, 1]"
   ]
  },
  {
   "cell_type": "code",
   "execution_count": 15,
   "id": "0fe4db61",
   "metadata": {},
   "outputs": [
    {
     "data": {
      "text/plain": [
       "0.9999999999999999"
      ]
     },
     "execution_count": 15,
     "metadata": {},
     "output_type": "execute_result"
    }
   ],
   "source": [
    "np.linalg.norm(vac[:, 1])"
   ]
  },
  {
   "cell_type": "code",
   "execution_count": null,
   "id": "cf72fd79",
   "metadata": {},
   "outputs": [],
   "source": []
  },
  {
   "cell_type": "code",
   "execution_count": null,
   "id": "2db535ed",
   "metadata": {},
   "outputs": [],
   "source": []
  },
  {
   "cell_type": "code",
   "execution_count": 26,
   "id": "7d83842f",
   "metadata": {},
   "outputs": [],
   "source": [
    "A = np.random.randint(1,10,(4,4))"
   ]
  },
  {
   "cell_type": "code",
   "execution_count": 27,
   "id": "51f1c93f",
   "metadata": {},
   "outputs": [
    {
     "data": {
      "text/plain": [
       "array([[8, 3, 5, 3],\n",
       "       [9, 6, 5, 9],\n",
       "       [9, 9, 1, 6],\n",
       "       [5, 5, 8, 3]])"
      ]
     },
     "execution_count": 27,
     "metadata": {},
     "output_type": "execute_result"
    }
   ],
   "source": [
    "A"
   ]
  },
  {
   "cell_type": "code",
   "execution_count": 31,
   "id": "6da5a790",
   "metadata": {},
   "outputs": [],
   "source": [
    "vals, vecs = np.linalg.eig(A)"
   ]
  },
  {
   "cell_type": "code",
   "execution_count": 32,
   "id": "27fad20c",
   "metadata": {},
   "outputs": [
    {
     "data": {
      "text/plain": [
       "array([[ 0.38702834+0.j        ,  0.73138285+0.j        ,\n",
       "         0.11753262-0.0822764j ,  0.11753262+0.0822764j ],\n",
       "       [ 0.60136092+0.j        , -0.44784526+0.j        ,\n",
       "        -0.4590336 -0.23302325j, -0.4590336 +0.23302325j],\n",
       "       [ 0.52833133+0.j        , -0.17589179+0.j        ,\n",
       "        -0.36042786+0.39385661j, -0.36042786-0.39385661j],\n",
       "       [ 0.45764628+0.j        , -0.48329683+0.j        ,\n",
       "         0.65526615+0.j        ,  0.65526615-0.j        ]])"
      ]
     },
     "execution_count": 32,
     "metadata": {},
     "output_type": "execute_result"
    }
   ],
   "source": [
    "vecs"
   ]
  },
  {
   "cell_type": "code",
   "execution_count": 149,
   "id": "426fc204",
   "metadata": {},
   "outputs": [],
   "source": [
    "L = np.array([[0,4,2,1],[0.7,0,0,0],[0,0.5,0,0],[0,0,0.2,0]])"
   ]
  },
  {
   "cell_type": "code",
   "execution_count": 152,
   "id": "5aad2d9a",
   "metadata": {},
   "outputs": [
    {
     "data": {
      "text/plain": [
       "array([[0. , 4. , 2. , 1. ],\n",
       "       [0.7, 0. , 0. , 0. ],\n",
       "       [0. , 0.5, 0. , 0. ],\n",
       "       [0. , 0. , 0.2, 0. ]])"
      ]
     },
     "execution_count": 152,
     "metadata": {},
     "output_type": "execute_result"
    }
   ],
   "source": [
    "L"
   ]
  },
  {
   "cell_type": "code",
   "execution_count": 153,
   "id": "5bd74e30",
   "metadata": {},
   "outputs": [],
   "source": [
    "x = np.array([30, 35, 25, 10])"
   ]
  },
  {
   "cell_type": "code",
   "execution_count": 154,
   "id": "33978b88",
   "metadata": {},
   "outputs": [
    {
     "data": {
      "text/plain": [
       "array([30, 35, 25, 10])"
      ]
     },
     "execution_count": 154,
     "metadata": {},
     "output_type": "execute_result"
    }
   ],
   "source": [
    "x"
   ]
  },
  {
   "cell_type": "code",
   "execution_count": 155,
   "id": "10de0414",
   "metadata": {},
   "outputs": [
    {
     "data": {
      "text/plain": [
       "array([584.5,  86.8,  70. ,   2.1])"
      ]
     },
     "execution_count": 155,
     "metadata": {},
     "output_type": "execute_result"
    }
   ],
   "source": [
    "L @ L @ L @ x"
   ]
  },
  {
   "cell_type": "code",
   "execution_count": 156,
   "id": "48c91ca8",
   "metadata": {},
   "outputs": [
    {
     "data": {
      "text/latex": [
       "$\\displaystyle \\left[\\begin{matrix}1.79230295271384\\\\-1.54119328165428\\\\-0.125554835529783 + 0.0978637807690939 i\\\\-0.125554835529783 - 0.0978637807690939 i\\end{matrix}\\right]$"
      ],
      "text/plain": [
       "Matrix([\n",
       "[                         1.79230295271384],\n",
       "[                        -1.54119328165428],\n",
       "[-0.125554835529783 + 0.0978637807690939*I],\n",
       "[-0.125554835529783 - 0.0978637807690939*I]])"
      ]
     },
     "execution_count": 156,
     "metadata": {},
     "output_type": "execute_result"
    }
   ],
   "source": [
    "Matrix(np.linalg.eigvals(L))"
   ]
  },
  {
   "cell_type": "code",
   "execution_count": 157,
   "id": "5c002b71",
   "metadata": {},
   "outputs": [
    {
     "data": {
      "text/plain": [
       "array([ 1.79230295+0.j        , -1.54119328+0.j        ,\n",
       "       -0.12555484+0.09786378j, -0.12555484-0.09786378j])"
      ]
     },
     "execution_count": 157,
     "metadata": {},
     "output_type": "execute_result"
    }
   ],
   "source": [
    "np.linalg.eigvals(L)"
   ]
  },
  {
   "cell_type": "code",
   "execution_count": 158,
   "id": "79379d82",
   "metadata": {},
   "outputs": [],
   "source": [
    "def pob_leslie(n,L,x0):\n",
    "    if n == 0:\n",
    "    \n",
    "        return x0\n",
    "    elif n == 1:\n",
    "\n",
    "        return L@ x0\n",
    "    else:\n",
    "        return L @ pob_leslie(n -1, L, x0)"
   ]
  },
  {
   "cell_type": "code",
   "execution_count": 159,
   "id": "802a6071",
   "metadata": {},
   "outputs": [
    {
     "data": {
      "text/plain": [
       "array([584.5,  86.8,  70. ,   2.1])"
      ]
     },
     "execution_count": 159,
     "metadata": {},
     "output_type": "execute_result"
    }
   ],
   "source": [
    "pob_leslie (3,L,x)"
   ]
  },
  {
   "cell_type": "code",
   "execution_count": 160,
   "id": "0e140bfb",
   "metadata": {},
   "outputs": [],
   "source": [
    "pob = [pob_leslie(i,L,x) for i in range(30)]"
   ]
  },
  {
   "cell_type": "code",
   "execution_count": 161,
   "id": "f3ebca3e",
   "metadata": {},
   "outputs": [],
   "source": [
    "pob1 =[elem[0] for  elem in pob] \n",
    "pob2 =[elem[1] for  elem in pob] \n",
    "pob3 =[elem[2] for  elem in pob] \n",
    "pob4 =[elem[3] for  elem in pob] "
   ]
  },
  {
   "cell_type": "code",
   "execution_count": 162,
   "id": "a70b8382",
   "metadata": {},
   "outputs": [
    {
     "data": {
      "image/png": "[encoded data removed]",
      "text/plain": [
       "<Figure size 1200x600 with 1 Axes>"
      ]
     },
     "metadata": {},
     "output_type": "display_data"
    }
   ],
   "source": [
    "fig, ax = plt.subplots(figsize = (12, 6))\n",
    "\n",
    "x = np.arange(0, 30)\n",
    "\n",
    "for i, elem in enumerate([pob1, pob2, pob3, pob4]):\n",
    "    ax.plot(x, elem, label = '$P_{}$'.format(i + 1))\n",
    "    \n",
    "ax.set_title(\"Population\")\n",
    "ax.set_xlabel('Years')\n",
    "ax.set_ylabel('Population')\n",
    "ax.legend();"
   ]
  },
  {
   "cell_type": "code",
   "execution_count": null,
   "id": "2860013c",
   "metadata": {},
   "outputs": [],
   "source": []
  },
  {
   "cell_type": "code",
   "execution_count": null,
   "id": "817af3f7",
   "metadata": {},
   "outputs": [],
   "source": []
  },
  {
   "cell_type": "code",
   "execution_count": null,
   "id": "778b012b",
   "metadata": {},
   "outputs": [],
   "source": []
  },
  {
   "cell_type": "code",
   "execution_count": null,
   "id": "c9356d1d",
   "metadata": {},
   "outputs": [],
   "source": []
  }
 ],
 "metadata": {
  "kernelspec": {
   "display_name": "Python 3 (ipykernel)",
   "language": "python",
   "name": "python3"
  },
  "language_info": {
   "codemirror_mode": {
    "name": "ipython",
    "version": 3
   },
   "file_extension": ".py",
   "mimetype": "text/x-python",
   "name": "python",
   "nbconvert_exporter": "python",
   "pygments_lexer": "ipython3",
   "version": "3.10.9"
  }
 },
 "nbformat": 4,
 "nbformat_minor": 5
}
